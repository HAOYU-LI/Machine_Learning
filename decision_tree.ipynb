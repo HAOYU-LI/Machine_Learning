{
 "cells": [
  {
   "cell_type": "markdown",
   "metadata": {},
   "source": [
    "This is a decision tree created from scratch: the tutorial website\n",
    "\n",
    "is:http://www.patricklamle.com/Tutorials/Decision%20tree%20python/tuto_decision%20tree.html"
   ]
  },
  {
   "cell_type": "code",
   "execution_count": 19,
   "metadata": {
    "collapsed": true
   },
   "outputs": [],
   "source": [
    "my_data=[['slashdot','USA','yes',18,'None'],\n",
    "        ['google','France','yes',23,'Premium'],\n",
    "        ['digg','USA','yes',24,'Basic'],\n",
    "        ['kiwitobes','France','yes',23,'Basic'],\n",
    "        ['google','UK','no',21,'Premium'],\n",
    "        ['(direct)','New Zealand','no',12,'None'],\n",
    "        ['(direct)','UK','no',21,'Basic'],\n",
    "        ['google','USA','no',24,'Premium'],\n",
    "        ['slashdot','France','yes',19,'None'],\n",
    "        ['digg','USA','no',18,'None'],\n",
    "        ['google','UK','no',18,'None'],\n",
    "        ['kiwitobes','UK','no',19,'None'],\n",
    "        ['digg','New Zealand','yes',12,'Basic'],\n",
    "        ['slashdot','UK','no',21,'None'],\n",
    "        ['google','UK','yes',18,'Basic'],\n",
    "        ['kiwitobes','France','yes',19,'Basic']]"
   ]
  },
  {
   "cell_type": "markdown",
   "metadata": {},
   "source": [
    "1.divide the set:\n",
    "\n"
   ]
  },
  {
   "cell_type": "code",
   "execution_count": 20,
   "metadata": {
    "collapsed": true
   },
   "outputs": [],
   "source": [
    "# Divide a set on a specific column.Can handle numerical or nominal values\n",
    "def divideset(rows,column, value):\n",
    "    #make a function that tells us if a row is the first group or the secind goup\n",
    "    if isinstance(value,int) or isinstance(value,float):#chech whether the value is a number i.e.int or float\n",
    "        split_function= lambda row:row[column]>=value\n",
    "    else:\n",
    "        split_function=lambda row:row[column]==value\n",
    "    \n",
    "    #divide the rows into two sets and return them\n",
    "    set1 = [row for row in rows if split_function(row)]\n",
    "    set2 = [row for row in rows if split_function(row)==False]\n",
    "    return (set1,set2)\n",
    "        "
   ]
  },
  {
   "cell_type": "code",
   "execution_count": 21,
   "metadata": {
    "collapsed": true
   },
   "outputs": [],
   "source": [
    "# the above function split the set into two subsets based on the criteria: value;"
   ]
  },
  {
   "cell_type": "code",
   "execution_count": 22,
   "metadata": {
    "collapsed": false
   },
   "outputs": [
    {
     "data": {
      "text/plain": [
       "([['slashdot', 'USA', 'yes', 18, 'None'],\n",
       "  ['google', 'France', 'yes', 23, 'Premium'],\n",
       "  ['digg', 'USA', 'yes', 24, 'Basic'],\n",
       "  ['kiwitobes', 'France', 'yes', 23, 'Basic'],\n",
       "  ['slashdot', 'France', 'yes', 19, 'None'],\n",
       "  ['digg', 'New Zealand', 'yes', 12, 'Basic'],\n",
       "  ['google', 'UK', 'yes', 18, 'Basic'],\n",
       "  ['kiwitobes', 'France', 'yes', 19, 'Basic']],\n",
       " [['google', 'UK', 'no', 21, 'Premium'],\n",
       "  ['(direct)', 'New Zealand', 'no', 12, 'None'],\n",
       "  ['(direct)', 'UK', 'no', 21, 'Basic'],\n",
       "  ['google', 'USA', 'no', 24, 'Premium'],\n",
       "  ['digg', 'USA', 'no', 18, 'None'],\n",
       "  ['google', 'UK', 'no', 18, 'None'],\n",
       "  ['kiwitobes', 'UK', 'no', 19, 'None'],\n",
       "  ['slashdot', 'UK', 'no', 21, 'None']])"
      ]
     },
     "execution_count": 22,
     "metadata": {},
     "output_type": "execute_result"
    }
   ],
   "source": [
    "#let's do a test on the above function:\n",
    "\n",
    "divideset(my_data,2,'yes')\n",
    "\n",
    "# you can see it successfully divide the above set into two subsets according to the given\n",
    "# value: yes."
   ]
  },
  {
   "cell_type": "code",
   "execution_count": 23,
   "metadata": {
    "collapsed": true
   },
   "outputs": [],
   "source": [
    "# another test that we can divide the set based on value as number:"
   ]
  },
  {
   "cell_type": "code",
   "execution_count": 24,
   "metadata": {
    "collapsed": false
   },
   "outputs": [
    {
     "data": {
      "text/plain": [
       "([['google', 'France', 'yes', 23, 'Premium'],\n",
       "  ['digg', 'USA', 'yes', 24, 'Basic'],\n",
       "  ['kiwitobes', 'France', 'yes', 23, 'Basic'],\n",
       "  ['google', 'UK', 'no', 21, 'Premium'],\n",
       "  ['(direct)', 'UK', 'no', 21, 'Basic'],\n",
       "  ['google', 'USA', 'no', 24, 'Premium'],\n",
       "  ['slashdot', 'UK', 'no', 21, 'None']],\n",
       " [['slashdot', 'USA', 'yes', 18, 'None'],\n",
       "  ['(direct)', 'New Zealand', 'no', 12, 'None'],\n",
       "  ['slashdot', 'France', 'yes', 19, 'None'],\n",
       "  ['digg', 'USA', 'no', 18, 'None'],\n",
       "  ['google', 'UK', 'no', 18, 'None'],\n",
       "  ['kiwitobes', 'UK', 'no', 19, 'None'],\n",
       "  ['digg', 'New Zealand', 'yes', 12, 'Basic'],\n",
       "  ['google', 'UK', 'yes', 18, 'Basic'],\n",
       "  ['kiwitobes', 'France', 'yes', 19, 'Basic']])"
      ]
     },
     "execution_count": 24,
     "metadata": {},
     "output_type": "execute_result"
    }
   ],
   "source": [
    "divideset(my_data,3,20)"
   ]
  },
  {
   "cell_type": "code",
   "execution_count": 26,
   "metadata": {
    "collapsed": false
   },
   "outputs": [],
   "source": [
    "#create counts o possible results (the last column of each row is the result)\n",
    "def uniquecounts(rows):\n",
    "    results = {}\n",
    "    for row in rows:\n",
    "        #the result is teh last column\n",
    "        r = row[len(row)-1]\n",
    "        if r not in results: results[r] = 0\n",
    "        results[r]+=1\n",
    "    return results"
   ]
  },
  {
   "cell_type": "code",
   "execution_count": 28,
   "metadata": {
    "collapsed": false
   },
   "outputs": [
    {
     "name": "stdout",
     "output_type": "stream",
     "text": [
      "{'None': 7, 'Basic': 6, 'Premium': 3}\n"
     ]
    }
   ],
   "source": [
    "print(uniquecounts(my_data))"
   ]
  },
  {
   "cell_type": "code",
   "execution_count": 30,
   "metadata": {
    "collapsed": false
   },
   "outputs": [
    {
     "name": "stdout",
     "output_type": "stream",
     "text": [
      "[['google', 'France', 'yes', 23, 'Premium'], ['digg', 'USA', 'yes', 24, 'Basic'], ['kiwitobes', 'France', 'yes', 23, 'Basic'], ['google', 'UK', 'no', 21, 'Premium'], ['(direct)', 'UK', 'no', 21, 'Basic'], ['google', 'USA', 'no', 24, 'Premium'], ['slashdot', 'UK', 'no', 21, 'None']]\n",
      "{'Premium': 3, 'None': 1, 'Basic': 3}\n",
      "\n",
      "[['slashdot', 'USA', 'yes', 18, 'None'], ['(direct)', 'New Zealand', 'no', 12, 'None'], ['slashdot', 'France', 'yes', 19, 'None'], ['digg', 'USA', 'no', 18, 'None'], ['google', 'UK', 'no', 18, 'None'], ['kiwitobes', 'UK', 'no', 19, 'None'], ['digg', 'New Zealand', 'yes', 12, 'Basic'], ['google', 'UK', 'yes', 18, 'Basic'], ['kiwitobes', 'France', 'yes', 19, 'Basic']]\n",
      "{'None': 6, 'Basic': 3}\n"
     ]
    }
   ],
   "source": [
    "print(divideset(my_data,3,20)[0])\n",
    "print(uniquecounts(divideset(my_data,3,20)[0]))\n",
    "print(\"\")\n",
    "print(divideset(my_data,3,20)[1])\n",
    "print(uniquecounts(divideset(my_data,3,20)[1]))"
   ]
  },
  {
   "cell_type": "code",
   "execution_count": 46,
   "metadata": {
    "collapsed": false
   },
   "outputs": [],
   "source": [
    "# since the above data isn't well separated, we need the help of entropy to purify the dataset:\n",
    "#Entropy is teh sium of p(x)log(p(x)) across all\n",
    "#the different possible results\n",
    "def entropy(rows):\n",
    "    from math import log\n",
    "    log2 = lambda x:log(x)/log(2) ##transfer ln(x) to log2(x)\n",
    "    results = uniquecounts(rows)\n",
    "    #print(\"the row is : \",rows)\n",
    "    #print(\"length of rows is : \",len(rows))\n",
    "    #print(\"result.keys() is : \",results.keys())\n",
    "    #now calculate the entropy\n",
    "    ent = 0\n",
    "    for r in results.keys():\n",
    "        p = float(results[r])/len(rows)\n",
    "        ent = ent-p*log2(p)\n",
    "    return ent"
   ]
  },
  {
   "cell_type": "code",
   "execution_count": 47,
   "metadata": {
    "collapsed": false
   },
   "outputs": [
    {
     "data": {
      "text/plain": [
       "(1.4488156357251847, 0.9182958340544896)"
      ]
     },
     "execution_count": 47,
     "metadata": {},
     "output_type": "execute_result"
    }
   ],
   "source": [
    "set1,set2 = divideset(my_data,3,20)\n",
    "entropy(set1),entropy(set2)\n"
   ]
  },
  {
   "cell_type": "code",
   "execution_count": 50,
   "metadata": {
    "collapsed": false
   },
   "outputs": [
    {
     "data": {
      "text/plain": [
       "1.5052408149441479"
      ]
     },
     "execution_count": 50,
     "metadata": {},
     "output_type": "execute_result"
    }
   ],
   "source": [
    "entropy(my_data)"
   ]
  },
  {
   "cell_type": "markdown",
   "metadata": {},
   "source": [
    "3. Building the tree recursively \n",
    "\n",
    "To see how good an attribute is, the algorithm first calculates the entropy of the whole group.\n",
    "\n",
    "Then it tries dividing up the group by the possible values of each attribute and calculates the entropy of the two new \n",
    "\n",
    "groups. To determine which attribute is the best to divide on, the information gain is calculated. Information gain is \n",
    "\n",
    "the difference between the current entropy and the weighted-average entropy of the two new groups. Intuitively, IG \n",
    "\n",
    "basically represents the extent to which you reduced entropy / obtained more homogeneous groups with your split in \n",
    "\n",
    "comparison with the group you had before the split. Comparing the IG for various splits based on different decision \n",
    "\n",
    "rules enable us to chose the \"best\" split.\n",
    "\n",
    "The algorithm calculates the information gain for every attribute and chooses the one with the highest information \n",
    "\n",
    "gain.\n",
    "\n",
    "We do it again and again"
   ]
  },
  {
   "cell_type": "code",
   "execution_count": 55,
   "metadata": {
    "collapsed": true
   },
   "outputs": [],
   "source": [
    "class decisionnode:\n",
    "    def __init__(self,col = -1, value = None, results = None, tb =None, fb = None):\n",
    "        self.col = col\n",
    "        self.value = value\n",
    "        self.results = results\n",
    "        self.tb = tb\n",
    "        self.fb = fb"
   ]
  },
  {
   "cell_type": "code",
   "execution_count": 56,
   "metadata": {
    "collapsed": true
   },
   "outputs": [],
   "source": [
    "def buildtree(rows,scoref=entropy):#row is the set, either whole dataset or part  of it in the recursive call,\n",
    "#scorf is the method to measure heterogeneity. By default its entropy.\n",
    "    if len(rows) == 0: return decisionnode()\n",
    "    current_score = scoref(rows)\n",
    "    \n",
    "    #Set up some variables to track the best criteria:\n",
    "    best_gain = 0.0\n",
    "    best_criteria = None\n",
    "    best_sets = None\n",
    "    \n",
    "    column_count = len(rows[0])-1\n",
    "    \n",
    "    for col in range(0,column_count):\n",
    "        global column_values #added for debugging\n",
    "        column_values = {}\n",
    "        for row in rows:\n",
    "            column_values[row[col]] = 1\n",
    "        for value in column_values.keys():\n",
    "            (set1,set2) = divideset(rows,col,value)\n",
    "            \n",
    "            #information gain\n",
    "            p = float(len(set1))/len(rows)#p is the size of a child set relative to its parent\n",
    "            gain = current_score - p*scoref(set1)-(1-p)*scoref(set2)\n",
    "            if gain > best_gain and len(set1)>0 and len(set2)>0: # set must be empty\n",
    "                best_gain = gain\n",
    "                best_criteria = (col,value)\n",
    "                best_sets = (set1,set2)\n",
    "                \n",
    "    #create the sub branches\n",
    "    if best_gain > 0:\n",
    "        trueBranch = buildtree(best_sets[0])\n",
    "        falseBranch=buildtree(best_sets[1])\n",
    "        return decisionnode(col = best_criteria[0],value = best_criteria[1],\n",
    "                               tb = trueBranch, fb = falseBranch)\n",
    "    \n",
    "    else:\n",
    "        return decisionnode(results = uniquecounts(rows))\n"
   ]
  },
  {
   "cell_type": "code",
   "execution_count": 57,
   "metadata": {
    "collapsed": false
   },
   "outputs": [],
   "source": [
    "tree = buildtree(my_data)"
   ]
  },
  {
   "cell_type": "code",
   "execution_count": 59,
   "metadata": {
    "collapsed": false
   },
   "outputs": [
    {
     "name": "stdout",
     "output_type": "stream",
     "text": [
      "0\n",
      "google\n",
      "None\n",
      "\n",
      "3\n",
      "21\n",
      "None\n",
      "\n",
      "-1\n",
      "None\n",
      "{'Premium': 3}\n",
      "\n",
      "2\n",
      "no\n",
      "None\n"
     ]
    }
   ],
   "source": [
    "print (tree.col)\n",
    "print (tree.value)\n",
    "print (tree.results)\n",
    "print(\"\")\n",
    "print (tree.tb.col)\n",
    "print (tree.tb.value)\n",
    "print (tree.tb.results)\n",
    "print(\"\")\n",
    "print (tree.tb.tb.col)\n",
    "print (tree.tb.tb.value)\n",
    "print (tree.tb.tb.results)\n",
    "print(\"\")\n",
    "print (tree.tb.fb.col)\n",
    "print (tree.tb.fb.value)\n",
    "print (tree.tb.fb.results)"
   ]
  },
  {
   "cell_type": "code",
   "execution_count": 62,
   "metadata": {
    "collapsed": true
   },
   "outputs": [],
   "source": [
    "def printtree(tree, indent = ''):\n",
    "    if tree.results!=None:\n",
    "        print(str(tree.results))\n",
    "    else:\n",
    "        print(str(tree.col)+':'+str(tree.value)+'? ')\n",
    "        #print the branches\n",
    "        print(indent+'T->',end = \" \")\n",
    "        printtree(tree.tb,indent+' ')\n",
    "        print(indent+'F->',end = \" \")\n",
    "        printtree(tree.fb,indent+' ')    "
   ]
  },
  {
   "cell_type": "code",
   "execution_count": 63,
   "metadata": {
    "collapsed": false
   },
   "outputs": [
    {
     "name": "stdout",
     "output_type": "stream",
     "text": [
      "0:google? \n",
      "T-> 3:21? \n",
      " T-> {'Premium': 3}\n",
      " F-> 2:no? \n",
      "  T-> {'None': 1}\n",
      "  F-> {'Basic': 1}\n",
      "F-> 0:slashdot? \n",
      " T-> {'None': 3}\n",
      " F-> 2:no? \n",
      "  T-> 3:21? \n",
      "   T-> {'Basic': 1}\n",
      "   F-> {'None': 3}\n",
      "  F-> {'Basic': 4}\n"
     ]
    }
   ],
   "source": [
    "printtree(tree)"
   ]
  },
  {
   "cell_type": "code",
   "execution_count": 73,
   "metadata": {
    "collapsed": true
   },
   "outputs": [],
   "source": [
    "def getwidth(tree):\n",
    "    if tree.tb ==None and tree.fb == None : return 1\n",
    "    return getwidth(tree.tb)+getwidth(tree.fb)\n",
    "\n",
    "def getdepth(tree):\n",
    "    if tree.tb == None and tree.fb == None : return 0\n",
    "    return (max(getdepth(tree.tb),getdepth(tree.fb))+1)\n",
    "\n",
    "from PIL import Image,ImageDraw\n",
    "\n",
    "def drawtree(tree,jpeg = 'tree.jpg'):\n",
    "    w = getwidth(tree)*100\n",
    "    h = getdepth(tree)*100+120\n",
    "    \n",
    "    img=Image.new('RGB',(w,h),(255,255,255))\n",
    "    draw = ImageDraw.Draw(img)\n",
    "    \n",
    "    drawnode(draw,tree,w/2,20)\n",
    "    img.save(jpeg,'JPEG')\n",
    "    \n",
    "def drawnode(draw,tree,x,y):\n",
    "    if tree.results == None:\n",
    "        w1 = getwidth(tree.fb)*100\n",
    "        w2 = getwidth(tree.tb)*100\n",
    "        \n",
    "        left = x-(w1+w2)/2\n",
    "        right = x+(w1+w2)/2\n",
    "        \n",
    "        draw.text((x-20,y-10),str(tree.col)+':'+str(tree.value),(0,0,0))\n",
    "        \n",
    "        draw.line((x,y,left+w1/2,y+100),fill = (255,0,0))\n",
    "        draw.line((x,y,right-w2/2,y+100),fill=(255,0,0))\n",
    "        \n",
    "        drawnode(draw,tree.fb,left+w1/2,y+100)\n",
    "        drawnode(draw,tree.tb,right-w2/2,y+100)\n",
    "    else:\n",
    "        txt = ' \\n'.join(['%s:%d'%v for v in tree.results.items()])\n",
    "        draw.text((x-20,y),txt,(0,0,0))\n",
    "        "
   ]
  },
  {
   "cell_type": "code",
   "execution_count": 76,
   "metadata": {
    "collapsed": true
   },
   "outputs": [],
   "source": [
    "drawtree(tree,jpeg = 'treeview.jpg')"
   ]
  },
  {
   "cell_type": "code",
   "execution_count": 83,
   "metadata": {
    "collapsed": false
   },
   "outputs": [],
   "source": [
    "def classify(observation,tree):\n",
    "    if tree.results!=None:\n",
    "        return tree.results\n",
    "    else:\n",
    "        v = observation[tree.col]\n",
    "        branch = None\n",
    "        if isinstance(v,int) or isinstance(v,float):\n",
    "            if v>=tree.value: branch=tree.tb\n",
    "            else: branch = tree.fb\n",
    "        else:\n",
    "            if v==tree.value: branch = tree.tb\n",
    "            else:branch = tree.fb\n",
    "        return classify(observation,branch)\n"
   ]
  },
  {
   "cell_type": "code",
   "execution_count": 84,
   "metadata": {
    "collapsed": false
   },
   "outputs": [
    {
     "data": {
      "text/plain": [
       "{'Basic': 4}"
      ]
     },
     "execution_count": 84,
     "metadata": {},
     "output_type": "execute_result"
    }
   ],
   "source": [
    "classify(['(direct)','USA','yes',5],tree)\n"
   ]
  },
  {
   "cell_type": "code",
   "execution_count": null,
   "metadata": {
    "collapsed": true
   },
   "outputs": [],
   "source": [
    "classify(['(direct)','USA','no',23],tree)\n",
    "\n"
   ]
  }
 ],
 "metadata": {
  "anaconda-cloud": {},
  "kernelspec": {
   "display_name": "Python [Root]",
   "language": "python",
   "name": "Python [Root]"
  },
  "language_info": {
   "codemirror_mode": {
    "name": "ipython",
    "version": 3
   },
   "file_extension": ".py",
   "mimetype": "text/x-python",
   "name": "python",
   "nbconvert_exporter": "python",
   "pygments_lexer": "ipython3",
   "version": "3.5.2"
  }
 },
 "nbformat": 4,
 "nbformat_minor": 0
}
