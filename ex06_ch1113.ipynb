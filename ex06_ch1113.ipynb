{
 "cells": [
  {
   "cell_type": "markdown",
   "metadata": {
    "slideshow": {
     "slide_type": "slide"
    }
   },
   "source": [
    "# Assignment 6\n",
    "\n",
    "This assignment has weighting $3.5$.\n",
    "The first question about clustering has 35%, and the second question about tiny image classification has 65%.\n",
    "\n",
    "This is a challenging assignment, so I recommend you start early."
   ]
  },
  {
   "cell_type": "markdown",
   "metadata": {
    "slideshow": {
     "slide_type": "slide"
    }
   },
   "source": [
    "# Clustering for handwritten digits\n",
    "\n",
    "Supervised learning requires labeled data, which can be expensive to acquire.\n",
    "For example, a dataset with $N$ samples for classification will require manual labeling $N$ times.\n",
    "\n",
    "One way to ameliorate this issue is to perform clustering of the raw data samples first, followed by manual inspection and labeling of only a few samples.\n",
    "Recall that clustering is a form of non-supervised learning, so it does not require any class labels.\n",
    "\n",
    "For example, say we are given a set of scanned hand-written digit images.\n",
    "We can cluster them into 10 groups first, manually inspect and label a few images in each cluster, and propagate the label towards the rest of all (unlabeled) samples in each cluster.\n",
    "\n",
    "The accuracy of such semi-automatic labeling depends on the accuracy of the clustering.\n",
    "If each cluster (0 to 9) corresponds exactly to hand-written digits 0-9, we are fine.\n",
    "Otherwise, we have some mis-labeled data.\n",
    "\n",
    "The goal of this question is to exercise clustering of the scikit-learn digits dataset which has labels, so that we can verify our clustering accuracy.\n",
    "The specifics are as follows.\n",
    "\n",
    "$ \\large You$ will be judged by the test accuracy of your code, and quality of descriptions of your method.\n",
    "As a reference, a simple code I (Li-Yi) wrote can achieve about 78% accuracy. Try to beat it as much as you can.\n",
    "\n",
    "$\n",
    "\\Large assessment:\n",
    "\\\n",
    "1.Test\\ accuracy.\n",
    "\\\n",
    "2.Quality\\ of\\ description\\ of\\ method.\n",
    "$"
   ]
  },
  {
   "cell_type": "markdown",
   "metadata": {
    "slideshow": {
     "slide_type": "subslide"
    }
   },
   "source": [
    "## Training and test data split\n",
    "\n",
    "We will split the original dataset into training and test datasets\n",
    "* training for building our clusters\n",
    "* testing to see if the clusters can predict future data\n",
    "\n",
    "## Accuracy\n",
    "What is your clustering accuracy (comparing cluster labels with the ground truth labels), and what are the properties of mis-clustered samples?\n",
    "\n",
    "## Data preprocessing\n",
    "Would the original features (pixels) work well, or we need further processing like scaling/standardization or dimensionality-reduction, before clustering?\n",
    "\n",
    "## Models and hyper-parameters\n",
    "\n",
    "Let's focus on k-means clustering, as hierarchical and density-based clustering do not provide the predict() method under scikit-learn.\n",
    "\n",
    "What is the best test performance you can achieve with which hyper-parameters (for k-means, standard scalar, and dimensionality reduction)?\n",
    "\n",
    "### Hint\n",
    "We have learned Pipeline and GridSearchCV for cross validation and hyper-parameter tuning."
   ]
  },
  {
   "cell_type": "code",
   "execution_count": 4,
   "metadata": {
    "collapsed": false,
    "slideshow": {
     "slide_type": "skip"
    }
   },
   "outputs": [
    {
     "name": "stdout",
     "output_type": "stream",
     "text": [
      "last updated: 2016-12-14 \n",
      "\n",
      "CPython 3.5.2\n",
      "IPython 4.2.0\n",
      "\n",
      "numpy 1.11.1\n",
      "pandas 0.18.1\n",
      "matplotlib 1.5.1\n",
      "scipy 0.18.0\n",
      "sklearn 0.18\n"
     ]
    }
   ],
   "source": [
    "%load_ext watermark\n",
    "%watermark -a '' -u -d -v -p numpy,pandas,matplotlib,scipy,sklearn\n",
    "%matplotlib inline"
   ]
  },
  {
   "cell_type": "code",
   "execution_count": 74,
   "metadata": {
    "collapsed": true,
    "slideshow": {
     "slide_type": "skip"
    }
   },
   "outputs": [],
   "source": [
    "# Added version check for recent scikit-learn 0.18 checks\n",
    "from distutils.version import LooseVersion as Version\n",
    "from sklearn import __version__ as sklearn_version"
   ]
  },
  {
   "cell_type": "markdown",
   "metadata": {
    "slideshow": {
     "slide_type": "fragment"
    }
   },
   "source": [
    "## Load data"
   ]
  },
  {
   "cell_type": "code",
   "execution_count": 83,
   "metadata": {
    "collapsed": false,
    "slideshow": {
     "slide_type": "fragment"
    }
   },
   "outputs": [
    {
     "name": "stdout",
     "output_type": "stream",
     "text": [
      "(1797, 64)\n",
      "(1797,)\n",
      "[0 1 2 3 4 5 6 7 8 9]\n"
     ]
    }
   ],
   "source": [
    "import numpy as np\n",
    "\n",
    "from sklearn.datasets import load_digits\n",
    "digits = load_digits()\n",
    "\n",
    "X = digits.data # data in pixels\n",
    "y = digits.target # digit labels\n",
    "\n",
    "print(X.shape)\n",
    "print(y.shape)\n",
    "\n",
    "print(np.unique(y))"
   ]
  },
  {
   "cell_type": "markdown",
   "metadata": {
    "slideshow": {
     "slide_type": "fragment"
    }
   },
   "source": [
    "## Visualize data"
   ]
  },
  {
   "cell_type": "code",
   "execution_count": 84,
   "metadata": {
    "collapsed": false,
    "slideshow": {
     "slide_type": "fragment"
    }
   },
   "outputs": [
    {
     "data": {
      "image/png": "[encoded data removed]",
      "text/plain": [
       "<matplotlib.figure.Figure at 0x8080410>"
      ]
     },
     "metadata": {},
     "output_type": "display_data"
    }
   ],
   "source": [
    "import matplotlib.pyplot as plt\n",
    "import pylab as pl\n",
    "\n",
    "num_rows = 4\n",
    "num_cols = 5\n",
    "\n",
    "fig, ax = plt.subplots(nrows=num_rows, ncols=num_cols, sharex=True, sharey=True)\n",
    "ax = ax.flatten()\n",
    "for index in range(num_rows*num_cols):\n",
    "    img = digits.images[index]\n",
    "    label = digits.target[index]\n",
    "    ax[index].imshow(img, cmap='Greys', interpolation='nearest')\n",
    "    ax[index].set_title('digit ' + str(label))\n",
    "\n",
    "ax[0].set_xticks([])\n",
    "ax[0].set_yticks([])\n",
    "plt.tight_layout()\n",
    "plt.show()"
   ]
  },
  {
   "cell_type": "markdown",
   "metadata": {
    "slideshow": {
     "slide_type": "fragment"
    }
   },
   "source": [
    "## Data sets: training versus test"
   ]
  },
  {
   "cell_type": "code",
   "execution_count": 85,
   "metadata": {
    "collapsed": false,
    "slideshow": {
     "slide_type": "fragment"
    }
   },
   "outputs": [
    {
     "name": "stdout",
     "output_type": "stream",
     "text": [
      "64\n",
      "training: 1437, test: 360\n"
     ]
    }
   ],
   "source": [
    "if Version(sklearn_version) < '0.18':\n",
    "    from sklearn.cross_validation import train_test_split\n",
    "else:\n",
    "    from sklearn.model_selection import train_test_split\n",
    "    \n",
    "X_train, X_test, y_train, y_test = train_test_split(\n",
    "    X, y, test_size=0.2, random_state=1)\n",
    "print(len(X_train[0]))\n",
    "num_training = y_train.shape[0]\n",
    "num_test = y_test.shape[0]\n",
    "print('training: ' + str(num_training) + ', test: ' + str(num_test))"
   ]
  },
  {
   "cell_type": "code",
   "execution_count": 86,
   "metadata": {
    "collapsed": false,
    "slideshow": {
     "slide_type": "fragment"
    }
   },
   "outputs": [
    {
     "name": "stdout",
     "output_type": "stream",
     "text": [
      "[135 147 141 142 143 152 144 142 145 146]\n",
      "[43 35 36 41 38 30 37 37 29 34]\n"
     ]
    }
   ],
   "source": [
    "import numpy as np\n",
    "\n",
    "# check to see if the data are well distributed among digits\n",
    "for y in [y_train, y_test]:\n",
    "    print(np.bincount(y))"
   ]
  },
  {
   "cell_type": "markdown",
   "metadata": {
    "slideshow": {
     "slide_type": "subslide"
    }
   },
   "source": [
    "## Answer"
   ]
  },
  {
   "cell_type": "markdown",
   "metadata": {
    "slideshow": {
     "slide_type": "fragment"
    }
   },
   "source": [
    "We first write a scoring function for clustering so that we can use for GridSearchCV.\n",
    "Take a look at use_scorer under scikit learn."
   ]
  },
  {
   "cell_type": "code",
   "execution_count": 155,
   "metadata": {
    "collapsed": false,
    "slideshow": {
     "slide_type": "fragment"
    }
   },
   "outputs": [],
   "source": [
    "from sklearn.metrics import accuracy_score, make_scorer\n",
    "import itertools \n",
    "import numpy as np\n",
    "\n",
    "'''The clustering_accuracy_score function is used to map the clustering label\n",
    "    to the ground true label to get accuracy score. The algorithm first finds the maximum \n",
    "    frequence of the corresponding true label towards each class of clustering label and\n",
    "     then map one clustering label to true label. The callable_clustering_accuracy_score function\n",
    "      is to be used in gridSearchCV. ''' \n",
    "\n",
    "def clustering_accuracy_score(y_true, y_pred):\n",
    "    # replace this with your code; note that y_pred is just cluster id, not digit id\n",
    "    y_test = y_pred\n",
    "    mapping_dic = {}\n",
    "    for label in np.unique(y_test):\n",
    "        label_dic = {}\n",
    "        for i in range(len(y_test)):\n",
    "            if y_test[i] == label and y_true[i] not in label_dic.keys():\n",
    "                label_dic[y_true[i]] = 1\n",
    "            elif y_test[i] == label and y_true[i] in label_dic.keys():\n",
    "                label_dic[y_true[i]] += 1\n",
    "        max_key = max(label_dic, key = lambda k: label_dic[k])\n",
    "        mapping_dic[label] = max_key\n",
    "    correct_count = 0\n",
    "    for i in range(len(y_test)):\n",
    "        if y_true[i] == mapping_dic[y_test[i]]:\n",
    "            correct_count += 1          \n",
    "    accuracy_rate = correct_count / len(y_test)\n",
    "    return accuracy_rate\n",
    "\n",
    "clustering_accuracy = make_scorer(clustering_accuracy_score)\n",
    "\n",
    "def callable_clustering_accuracy_score(estimator, X_test, y_true):\n",
    "    y_pred = estimator.fit_predict(X_test)\n",
    "    return clustering_accuracy_score(y_true, y_pred)\n",
    "#clustering_accuracy = make_scorer(clustering_accuracy_score)\n"
   ]
  },
  {
   "cell_type": "code",
   "execution_count": 156,
   "metadata": {
    "collapsed": true
   },
   "outputs": [],
   "source": [
    "\"\"\"Cluster_printer function aims to map clustering labels in clusters to \n",
    "    ground true labels. This is used for printing the false labeled images.\"\"\"\n",
    "\n",
    "def cluster_printer(estimator, X_train, y_train):\n",
    "    mapping ={}\n",
    "    y_pred = estimator.predict(X_train)\n",
    "    predict_label_list = list(set(y_pred))\n",
    "    for i in predict_label_list:\n",
    "        array = y_train[y_pred == i]\n",
    "        label = stats.mode(array).mode\n",
    "        mapping[str(i)] = label[0]\n",
    "    return mapping\n",
    "\n"
   ]
  },
  {
   "cell_type": "raw",
   "metadata": {
    "collapsed": false,
    "slideshow": {
     "slide_type": "fragment"
    }
   },
   "source": [
    "# toy case demonstrating the clustering accuracy\n",
    "# this is just a reference to illustrate what this score function is trying to achieve\n",
    "# feel free to design your own as long as you can justify\n",
    "\n",
    "# ground truth class label for samples\n",
    "toy_y_true = np.array([0, 0, 0, 1, 1, 2])\n",
    "\n",
    "# clustering id for samples\n",
    "toy_y_pred_true = np.array([1, 1, 1, 2, 2, 0])\n",
    "toy_y_pred_bad1 = np.array([0, 0, 1, 1, 1, 2])\n",
    "toy_y_pred_bad2 = np.array([2, 2, 1, 0, 0, 0])\n",
    "#toy_y_pred_bad2 = np.array([0, 1, 0, 1, 2, 0])\n",
    "toy_accuracy = clustering_accuracy_score(toy_y_true, toy_y_pred_true)\n",
    "print('accuracy', toy_accuracy, ', should be 1')\n",
    "\n",
    "toy_accuracy = clustering_accuracy_score(toy_y_true, toy_y_pred_bad1)\n",
    "print('accuracy', toy_accuracy, ', should be', 5.0/6.0)\n",
    "\n",
    "toy_accuracy = clustering_accuracy_score(toy_y_true, toy_y_pred_bad2)\n",
    "print('accuracy', toy_accuracy, ', should be', 5.0/6.0)"
   ]
  },
  {
   "cell_type": "markdown",
   "metadata": {
    "slideshow": {
     "slide_type": "fragment"
    }
   },
   "source": [
    "Build a pipeline with standard scaler, PCA, and clustering."
   ]
  },
  {
   "cell_type": "code",
   "execution_count": 157,
   "metadata": {
    "collapsed": false,
    "slideshow": {
     "slide_type": "fragment"
    }
   },
   "outputs": [],
   "source": [
    "from sklearn.pipeline import Pipeline\n",
    "from sklearn.preprocessing import StandardScaler\n",
    "from sklearn.preprocessing import Normalizer\n",
    "from sklearn.decomposition import PCA\n",
    "from sklearn.decomposition import KernelPCA\n",
    "from sklearn.cluster import KMeans\n",
    "from sklearn.model_selection import GridSearchCV\n",
    "\n",
    "#pipe_line.get_params()\n",
    "components_params = [2,3,4,5,7,10,15,30,40,60]\n",
    "\n",
    "\n",
    "params = [{'scl__norm':np.array(['l1','l2','max']),\n",
    "           'kernelpca__n_components':components_params,\n",
    "           'kernelpca__kernel':['cosine'],\n",
    "           'clf__n_clusters':[9,10,11,12,13,14,15],\n",
    "           'clf__init':['k-means++']}]\n",
    "\n",
    "# your code"
   ]
  },
  {
   "cell_type": "markdown",
   "metadata": {
    "slideshow": {
     "slide_type": "fragment"
    }
   },
   "source": [
    "Use GridSearchCV to tune hyper-parameters."
   ]
  },
  {
   "cell_type": "markdown",
   "metadata": {},
   "source": [
    "## Using first set of parameters to find the optimal one:\n",
    "\n",
    "We aim to find the best set of parameters for 'cosine' kernel-pca."
   ]
  },
  {
   "cell_type": "code",
   "execution_count": 136,
   "metadata": {
    "collapsed": false,
    "slideshow": {
     "slide_type": "fragment"
    }
   },
   "outputs": [
    {
     "name": "stdout",
     "output_type": "stream",
     "text": [
      "Fitting 10 folds for each of 210 candidates, totalling 2100 fits\n"
     ]
    },
    {
     "name": "stderr",
     "output_type": "stream",
     "text": [
      "[Parallel(n_jobs=1)]: Done 2100 out of 2100 | elapsed: 19.4min finished\n"
     ]
    }
   ],
   "source": [
    "# your code\n",
    "scl = Normalizer()\n",
    "kernelpca = KernelPCA()\n",
    "clf = KMeans(random_state = 1)\n",
    "\n",
    "pipe_line = Pipeline([('scl',scl),\n",
    "                      ('kernelpca',kernelpca),\n",
    "                      ('clf',clf)])\n",
    "gridCV = GridSearchCV(estimator = pipe_line,\n",
    "                      param_grid = params,\n",
    "                      scoring = callable_clustering_accuracy_score,\n",
    "                      cv = 10,\n",
    "                      verbose = 1)\n",
    "\n",
    "gridCV.fit(X_train,y_train)\n",
    "#gridCV.cv_results_\n",
    "\n",
    "best_model = gridCV.best_estimator_\n",
    "best_model.fit(X_train,y_train)\n",
    "y_cm = best_model.predict(X_test)\n"
   ]
  },
  {
   "cell_type": "code",
   "execution_count": 152,
   "metadata": {
    "collapsed": false,
    "slideshow": {
     "slide_type": "fragment"
    }
   },
   "outputs": [
    {
     "name": "stdout",
     "output_type": "stream",
     "text": [
      "+++++++++++++++++++++++++++++++++++++++++++\n",
      "The best estimator for cosine kernel is in below :\n",
      "+++++++++++++++++++++++++++++++++++++++++++\n",
      "Pipeline(steps=[('scl', Normalizer(copy=True, norm='l1')), ('kernelpca', KernelPCA(alpha=1.0, coef0=1, copy_X=True, degree=3, eigen_solver='auto',\n",
      "     fit_inverse_transform=False, gamma=None, kernel='cosine',\n",
      "     kernel_params=None, max_iter=None, n_components=15, n_jobs=1,\n",
      "     random_state=None, remove_z...s=15, n_init=10, n_jobs=1, precompute_distances='auto',\n",
      "    random_state=1, tol=0.0001, verbose=0))])\n"
     ]
    }
   ],
   "source": [
    "print(\"+++++++++++++++++++++++++++++++++++++++++++\")\n",
    "print(\"The best estimator for cosine kernel is in below :\")\n",
    "print(\"+++++++++++++++++++++++++++++++++++++++++++\")\n",
    "print(gridCV.best_estimator_)\n"
   ]
  },
  {
   "cell_type": "code",
   "execution_count": 147,
   "metadata": {
    "collapsed": false
   },
   "outputs": [
    {
     "name": "stdout",
     "output_type": "stream",
     "text": [
      "Accuracy_score : 0.9\n"
     ]
    },
    {
     "data": {
      "image/png": "[encoded data removed]",
      "text/plain": [
       "<matplotlib.figure.Figure at 0xd40a8d0>"
      ]
     },
     "metadata": {},
     "output_type": "display_data"
    }
   ],
   "source": [
    "# your code\n",
    "import matplotlib.pyplot as plt\n",
    "\n",
    "mapping = cluster_printer(gridCV.best_estimator_, X_train, y_train)\n",
    "y_test_pred = list(map(lambda x: mapping[str(x)], gridCV.best_estimator_.predict(X_test)))\n",
    "y_test_pred = np.array(y_test_pred)\n",
    "\n",
    "print(\"Accuracy_score :\",accuracy_score(y_true=y_test, y_pred=y_test_pred))\n",
    "\n",
    "miscl_img = X_test[y_test != y_test_pred][:25]\n",
    "correct_lab = y_test[y_test != y_test_pred][:25]\n",
    "miscl_lab = y_test_pred[y_test != y_test_pred][:25]\n",
    "\n",
    "fig, ax = plt.subplots(nrows=5, ncols=5, sharex=True, sharey=True)\n",
    "ax = ax.flatten()\n",
    "for i in range(25):\n",
    "    img = miscl_img[i].reshape(8,8)\n",
    "    ax[i].imshow(img, cmap='Greys', interpolation='nearest')\n",
    "    ax[i].set_title('%d) t: %d p: %d' % (i+1, correct_lab[i], miscl_lab[i]))\n",
    "\n",
    "ax[0].set_xticks([])\n",
    "ax[0].set_yticks([])\n",
    "plt.tight_layout()\n",
    "plt.show()\n"
   ]
  },
  {
   "cell_type": "markdown",
   "metadata": {},
   "source": [
    "## The second set of training parameters:\n",
    "\n",
    "We use radial basis function and polynomial functions to be the kernel for kernel-principle component \n",
    "\n",
    "analysis below. \n"
   ]
  },
  {
   "cell_type": "code",
   "execution_count": null,
   "metadata": {
    "collapsed": true
   },
   "outputs": [],
   "source": [
    "params2 = [{'kernelpca__n_components':components_params,\n",
    "           'kernelpca__kernel':['rbf','poly'],\n",
    "           'kernelpca__degree':[3,6,9],\n",
    "           'clf__n_clusters':[9,10,11,12,13,14,15],\n",
    "           'clf__init':['k-means++']}]"
   ]
  },
  {
   "cell_type": "code",
   "execution_count": 54,
   "metadata": {
    "collapsed": false
   },
   "outputs": [
    {
     "name": "stdout",
     "output_type": "stream",
     "text": [
      "Fitting 10 folds for each of 378 candidates, totalling 3780 fits\n"
     ]
    },
    {
     "name": "stderr",
     "output_type": "stream",
     "text": [
      "[Parallel(n_jobs=1)]: Done 3780 out of 3780 | elapsed: 42.1min finished\n"
     ]
    }
   ],
   "source": [
    "scl = StandardScaler()\n",
    "kernelpca = KernelPCA()\n",
    "clf = KMeans(random_state = 1)\n",
    "pipe_line2 = Pipeline([('scl',scl),\n",
    "                      ('kernelpca',kernelpca),\n",
    "                      ('clf',clf)])\n",
    "gridCV2 = GridSearchCV(estimator = pipe_line2,\n",
    "                      param_grid = params2,\n",
    "                      scoring = callable_clustering_accuracy_score,\n",
    "                      cv = 10,\n",
    "                      verbose = 1)\n",
    "\n",
    "gridCV2.fit(X_train,y_train)\n",
    "#gridCV.cv_results_\n",
    "\n",
    "best_model2 = gridCV2.best_estimator_\n",
    "best_model2.fit(X_train,y_train)\n",
    "y_cm = best_model2.predict(X_test)\n",
    "\n"
   ]
  },
  {
   "cell_type": "code",
   "execution_count": 151,
   "metadata": {
    "collapsed": false
   },
   "outputs": [
    {
     "name": "stdout",
     "output_type": "stream",
     "text": [
      "+++++++++++++++++++++++++++++++++++++++++++\n",
      "The best estimator for one of rbf&poly kernel is in below :\n",
      "+++++++++++++++++++++++++++++++++++++++++++\n",
      "Pipeline(steps=[('scl', StandardScaler(copy=True, with_mean=True, with_std=True)), ('kernelpca', KernelPCA(alpha=1.0, coef0=1, copy_X=True, degree=3, eigen_solver='auto',\n",
      "     fit_inverse_transform=False, gamma=None, kernel='rbf',\n",
      "     kernel_params=None, max_iter=None, n_components=40, n_jobs=1,\n",
      "     random...s=15, n_init=10, n_jobs=1, precompute_distances='auto',\n",
      "    random_state=1, tol=0.0001, verbose=0))])\n"
     ]
    }
   ],
   "source": [
    "print(\"+++++++++++++++++++++++++++++++++++++++++++\")\n",
    "print(\"The best estimator for one of rbf&poly kernel is in below :\")\n",
    "print(\"+++++++++++++++++++++++++++++++++++++++++++\")\n",
    "print(gridCV2.best_estimator_)\n",
    "\n"
   ]
  },
  {
   "cell_type": "code",
   "execution_count": 148,
   "metadata": {
    "collapsed": false
   },
   "outputs": [
    {
     "name": "stdout",
     "output_type": "stream",
     "text": [
      "Accuracy_score : 0.855555555556\n"
     ]
    },
    {
     "data": {
      "image/png": "[encoded data removed]",
      "text/plain": [
       "<matplotlib.figure.Figure at 0xd2099d0>"
      ]
     },
     "metadata": {},
     "output_type": "display_data"
    }
   ],
   "source": [
    "# your code\n",
    "import matplotlib.pyplot as plt\n",
    "\n",
    "mapping = cluster_printer(gridCV2.best_estimator_, X_train, y_train)\n",
    "y_test_pred = list(map(lambda x: mapping[str(x)], gridCV2.best_estimator_.predict(X_test)))\n",
    "y_test_pred = np.array(y_test_pred)\n",
    "\n",
    "print(\"Accuracy_score :\",accuracy_score(y_true=y_test, y_pred=y_test_pred))\n",
    "\n",
    "miscl_img = X_test[y_test != y_test_pred][:25]\n",
    "correct_lab = y_test[y_test != y_test_pred][:25]\n",
    "miscl_lab = y_test_pred[y_test != y_test_pred][:25]\n",
    "\n",
    "fig, ax = plt.subplots(nrows=5, ncols=5, sharex=True, sharey=True)\n",
    "ax = ax.flatten()\n",
    "for i in range(25):\n",
    "    img = miscl_img[i].reshape(8,8)\n",
    "    ax[i].imshow(img, cmap='Greys', interpolation='nearest')\n",
    "    ax[i].set_title('%d) t: %d p: %d' % (i+1, correct_lab[i], miscl_lab[i]))\n",
    "\n",
    "ax[0].set_xticks([])\n",
    "ax[0].set_yticks([])\n",
    "plt.tight_layout()\n",
    "# plt.savefig('./figures/mnist_miscl.png', dpi=300)\n",
    "plt.show()\n"
   ]
  },
  {
   "cell_type": "markdown",
   "metadata": {},
   "source": [
    "### Sigmoid kernel:\n",
    "From the above two training processes, we can easily observe that the cosine kernel has a better \n",
    "\n",
    "performance in classifying the hand-written digits. We will use sigmoid kernel to test next"
   ]
  },
  {
   "cell_type": "code",
   "execution_count": 98,
   "metadata": {
    "collapsed": false
   },
   "outputs": [],
   "source": [
    "components_params = [i for i in range(2,20)]\n",
    "params3 = [{'kernelpca__n_components':components_params,\n",
    "           'kernelpca__kernel':['sigmoid'],\n",
    "           'kernelpca__fit_inverse_transform':[False],\n",
    "           'clf__n_clusters':[9,10,11,12,13,14,15],\n",
    "           'clf__init':['k-means++']}]"
   ]
  },
  {
   "cell_type": "code",
   "execution_count": 99,
   "metadata": {
    "collapsed": false
   },
   "outputs": [
    {
     "name": "stdout",
     "output_type": "stream",
     "text": [
      "Fitting 10 folds for each of 126 candidates, totalling 1260 fits\n"
     ]
    },
    {
     "name": "stderr",
     "output_type": "stream",
     "text": [
      "[Parallel(n_jobs=1)]: Done 1260 out of 1260 | elapsed: 18.0min finished\n"
     ]
    }
   ],
   "source": [
    "scl = StandardScaler()\n",
    "kernelpca = KernelPCA()\n",
    "clf = KMeans(random_state = 1)\n",
    "pipe_line3 = Pipeline([('scl',scl),\n",
    "                      ('kernelpca',kernelpca),\n",
    "                      ('clf',clf)])\n",
    "gridCV3 = GridSearchCV(estimator = pipe_line3,\n",
    "                      param_grid = params3,\n",
    "                      scoring = callable_clustering_accuracy_score,\n",
    "                      cv = 10,\n",
    "                      verbose = 1)\n",
    "\n",
    "gridCV3.fit(X_train,y_train)\n",
    "#gridCV.cv_results_\n",
    "\n",
    "best_model3 = gridCV3.best_estimator_\n",
    "best_model3.fit(X_train,y_train)\n",
    "y_cm = best_model3.predict(X_test)\n"
   ]
  },
  {
   "cell_type": "code",
   "execution_count": 153,
   "metadata": {
    "collapsed": false
   },
   "outputs": [
    {
     "name": "stdout",
     "output_type": "stream",
     "text": [
      "+++++++++++++++++++++++++++++++++++++++++++\n",
      "The best estimator for one of rbf&poly kernel is in below :\n",
      "+++++++++++++++++++++++++++++++++++++++++++\n",
      "Pipeline(steps=[('scl', StandardScaler(copy=True, with_mean=True, with_std=True)), ('kernelpca', KernelPCA(alpha=1.0, coef0=1, copy_X=True, degree=3, eigen_solver='auto',\n",
      "     fit_inverse_transform=False, gamma=None, kernel='sigmoid',\n",
      "     kernel_params=None, max_iter=None, n_components=16, n_jobs=1,\n",
      "     ra...s=15, n_init=10, n_jobs=1, precompute_distances='auto',\n",
      "    random_state=1, tol=0.0001, verbose=0))])\n"
     ]
    }
   ],
   "source": [
    "print(\"+++++++++++++++++++++++++++++++++++++++++++\")\n",
    "print(\"The best estimator for one of rbf&poly kernel is in below :\")\n",
    "print(\"+++++++++++++++++++++++++++++++++++++++++++\")\n",
    "print(gridCV3.best_estimator_)\n"
   ]
  },
  {
   "cell_type": "markdown",
   "metadata": {
    "slideshow": {
     "slide_type": "fragment"
    }
   },
   "source": [
    "Visualize mis-clustered samples, and provide your explanation."
   ]
  },
  {
   "cell_type": "code",
   "execution_count": 149,
   "metadata": {
    "collapsed": false
   },
   "outputs": [
    {
     "name": "stdout",
     "output_type": "stream",
     "text": [
      "Accuracy_score : 0.869444444444\n"
     ]
    },
    {
     "data": {
      "image/png": "[encoded data removed]",
      "text/plain": [
       "<matplotlib.figure.Figure at 0xd541e30>"
      ]
     },
     "metadata": {},
     "output_type": "display_data"
    }
   ],
   "source": [
    "# your code\n",
    "import matplotlib.pyplot as plt\n",
    "\n",
    "mapping = cluster_printer(gridCV3.best_estimator_, X_train, y_train)\n",
    "y_test_pred = list(map(lambda x: mapping[str(x)], gridCV3.best_estimator_.predict(X_test)))\n",
    "y_test_pred = np.array(y_test_pred)\n",
    "\n",
    "print(\"Accuracy_score :\",accuracy_score(y_true=y_test, y_pred=y_test_pred))\n",
    "\n",
    "miscl_img = X_test[y_test != y_test_pred][:25]\n",
    "correct_lab = y_test[y_test != y_test_pred][:25]\n",
    "miscl_lab = y_test_pred[y_test != y_test_pred][:25]\n",
    "\n",
    "fig, ax = plt.subplots(nrows=5, ncols=5, sharex=True, sharey=True)\n",
    "ax = ax.flatten()\n",
    "for i in range(25):\n",
    "    img = miscl_img[i].reshape(8,8)\n",
    "    ax[i].imshow(img, cmap='Greys', interpolation='nearest')\n",
    "    ax[i].set_title('%d) t: %d p: %d' % (i+1, correct_lab[i], miscl_lab[i]))\n",
    "\n",
    "ax[0].set_xticks([])\n",
    "ax[0].set_yticks([])\n",
    "plt.tight_layout()\n",
    "# plt.savefig('./figures/mnist_miscl.png', dpi=300)\n",
    "plt.show()\n"
   ]
  },
  {
   "cell_type": "markdown",
   "metadata": {},
   "source": [
    "## GridSearchCV without pca\n",
    "\n",
    " Since we can simply check the data set is not linearly separable, we use kernel-PCA instead of PCA\n",
    " \n",
    " to do the feature reduction. So we don't tune models using PCA in this question. Besides, clustering\n",
    " \n",
    "is an unsupervised classification algorithm and we can't use LDA in this situation. In below, we will \n",
    "\n",
    "do our training without using pca and kernel-pca. "
   ]
  },
  {
   "cell_type": "code",
   "execution_count": 130,
   "metadata": {
    "collapsed": false
   },
   "outputs": [],
   "source": [
    "params4 = [{'clf__n_clusters':[9,10,11,12,13,14,15],\n",
    "            'clf__init':['k-means++'],\n",
    "            'clf__n_init':[i for i in range(5,15)],\n",
    "            'clf__algorithm':['auto','full','elkan']}]"
   ]
  },
  {
   "cell_type": "code",
   "execution_count": 131,
   "metadata": {
    "collapsed": false
   },
   "outputs": [
    {
     "name": "stdout",
     "output_type": "stream",
     "text": [
      "Fitting 10 folds for each of 210 candidates, totalling 2100 fits\n"
     ]
    },
    {
     "name": "stderr",
     "output_type": "stream",
     "text": [
      "[Parallel(n_jobs=1)]: Done 2100 out of 2100 | elapsed: 14.8min finished\n"
     ]
    }
   ],
   "source": [
    "scl = StandardScaler()\n",
    "kernelpca = KernelPCA()\n",
    "clf = KMeans(random_state = 1)\n",
    "pipe_line4 = Pipeline([('scl',scl),\n",
    "                      ('clf',clf)])\n",
    "\n",
    "gridCV4 = GridSearchCV(estimator = pipe_line4,\n",
    "                      param_grid = params4,\n",
    "                      scoring = callable_clustering_accuracy_score,\n",
    "                      cv = 10,\n",
    "                      verbose = 1)\n",
    "gridCV4.fit(X_train,y_train)\n",
    "#gridCV.cv_results_\n",
    "\n",
    "best_model4 = gridCV4.best_estimator_\n",
    "best_model4.fit(X_train,y_train)\n",
    "y_cm = best_model4.predict(X_test)\n"
   ]
  },
  {
   "cell_type": "code",
   "execution_count": 154,
   "metadata": {
    "collapsed": false
   },
   "outputs": [
    {
     "name": "stdout",
     "output_type": "stream",
     "text": [
      "+++++++++++++++++++++++++++++++++++++++++++\n",
      "The best estimator for one of rbf&poly kernel is in below :\n",
      "+++++++++++++++++++++++++++++++++++++++++++\n",
      "Pipeline(steps=[('scl', StandardScaler(copy=True, with_mean=True, with_std=True)), ('clf', KMeans(algorithm='auto', copy_x=True, init='k-means++', max_iter=300,\n",
      "    n_clusters=14, n_init=6, n_jobs=1, precompute_distances='auto',\n",
      "    random_state=1, tol=0.0001, verbose=0))])\n"
     ]
    }
   ],
   "source": [
    "print(\"+++++++++++++++++++++++++++++++++++++++++++\")\n",
    "print(\"The best estimator for one of rbf&poly kernel is in below :\")\n",
    "print(\"+++++++++++++++++++++++++++++++++++++++++++\")\n",
    "print(gridCV4.best_estimator_)\n",
    "\n"
   ]
  },
  {
   "cell_type": "code",
   "execution_count": 150,
   "metadata": {
    "collapsed": false
   },
   "outputs": [
    {
     "name": "stdout",
     "output_type": "stream",
     "text": [
      "Accuracy_score : 0.769444444444\n"
     ]
    },
    {
     "data": {
      "image/png": "[encoded data removed]",
      "text/plain": [
       "<matplotlib.figure.Figure at 0xa149370>"
      ]
     },
     "metadata": {},
     "output_type": "display_data"
    }
   ],
   "source": [
    "# your code\n",
    "import matplotlib.pyplot as plt\n",
    "\n",
    "mapping = cluster_printer(gridCV4.best_estimator_, X_train, y_train)\n",
    "y_test_pred = list(map(lambda x: mapping[str(x)], gridCV4.best_estimator_.predict(X_test)))\n",
    "y_test_pred = np.array(y_test_pred)\n",
    "\n",
    "print(\"Accuracy_score :\",accuracy_score(y_true=y_test, y_pred=y_test_pred))\n",
    "\n",
    "miscl_img = X_test[y_test != y_test_pred][:25]\n",
    "correct_lab = y_test[y_test != y_test_pred][:25]\n",
    "miscl_lab = y_test_pred[y_test != y_test_pred][:25]\n",
    "\n",
    "fig, ax = plt.subplots(nrows=5, ncols=5, sharex=True, sharey=True)\n",
    "ax = ax.flatten()\n",
    "for i in range(25):\n",
    "    img = miscl_img[i].reshape(8,8)\n",
    "    ax[i].imshow(img, cmap='Greys', interpolation='nearest')\n",
    "    ax[i].set_title('%d) t: %d p: %d' % (i+1, correct_lab[i], miscl_lab[i]))\n",
    "\n",
    "ax[0].set_xticks([])\n",
    "ax[0].set_yticks([])\n",
    "plt.tight_layout()\n",
    "# plt.savefig('./figures/mnist_miscl.png', dpi=300)\n",
    "plt.show()\n"
   ]
  },
  {
   "cell_type": "markdown",
   "metadata": {},
   "source": [
    "### Explanation for the training process.\n",
    "After parameter tuning, we find that non-linear kernel principle component analysis such as cosine \n",
    "\n",
    "kernel have a better performance. The reason is that the pixels or the features of the hand-written \n",
    "\n",
    "digits are not linearly seperable. So if we use pca to deal with it, the accuracy score is not high.\n",
    "\n",
    "Besides, one thing that surprises us is that the the best number of clusters is higher than the number\n",
    "\n",
    "of classes, 10. We guess that this may result from the difference between the formal digits and hand-\n",
    "\n",
    "written digits since some hand-written digits are even difficult to be classified even from human eyes \n",
    "\n",
    "and hence misleads the learning process. The distinction in number of true classes and predicted \n",
    "\n",
    "clusters will not effect our training process by the designed clustering algorithm, which is \n",
    "\n",
    "elaborated in the clustering_accuracy_score function cell above.\n",
    "\n",
    "Furthermore, if we choose not to use dimension reduction process, the classification performance is \n",
    "\n",
    "not as good as using kernel-pca. Besides, using normalizer method is better than standardscaler method\n",
    "\n",
    "in our best model tuning and the best model can achieve 90% accuracy rate and the corresponding \n",
    "\n",
    "preprocessing methid, kernels and hyper-parameters are listed in above. The comparison training sets\n",
    "\n",
    "are also listed above.\n",
    "\n",
    "\n"
   ]
  },
  {
   "cell_type": "markdown",
   "metadata": {},
   "source": [
    "The pictures that are not classified well have a bad hand-written shapes. It's even hard for us to classify it with eyes."
   ]
  },
  {
   "cell_type": "markdown",
   "metadata": {
    "slideshow": {
     "slide_type": "slide"
    }
   },
   "source": [
    "# Tiny image classification\n",
    "\n",
    "We will use the [CIFAR-10 dataset](https://www.cs.toronto.edu/~kriz/cifar.html) for image object recognition.\n",
    "The dataset consists of 50000 training samples and 10000 test samples in 10 different classes (airplane, automobile, bird, cat, deer, dog, frog, horse, ship, truck; see the link above for more information).\n",
    "The goal is to maximize the accuracy of your classifier on the test dataset after being optimized via the training dataset.\n",
    "\n",
    "You can use any learning models (supervised or unsupervised) or optimization methods (e.g. search methods for hyper-parameters).\n",
    "The only requirement is that your code can run inside an ipynb file, as usual.\n",
    "Please provide a description of your method, in addition to the code.\n",
    "Your answer will be evaluated not only on the test accuracy but also on the creativity of your methodology and the quality of your explanation/description."
   ]
  },
  {
   "cell_type": "markdown",
   "metadata": {
    "slideshow": {
     "slide_type": "subslide"
    }
   },
   "source": [
    "## Sample code to get you started\n",
    "\n",
    "This is a difficult classification task.\n",
    "A sample code below, based on a simple fully connected neural network built via Keras, is provided below.\n",
    "The test accuracy is about 43%."
   ]
  },
  {
   "cell_type": "code",
   "execution_count": null,
   "metadata": {
    "collapsed": false,
    "slideshow": {
     "slide_type": "fragment"
    }
   },
   "outputs": [],
   "source": [
    "%load_ext watermark\n",
    "%watermark -a '' -u -d -v -p numpy,keras"
   ]
  },
  {
   "cell_type": "code",
   "execution_count": 43,
   "metadata": {
    "collapsed": false,
    "slideshow": {
     "slide_type": "fragment"
    }
   },
   "outputs": [
    {
     "name": "stderr",
     "output_type": "stream",
     "text": [
      "Using Theano backend.\n",
      "ERROR (theano.sandbox.cuda): Failed to compile cuda_ndarray.cu: libcublas.so.8.0: cannot open shared object file: No such file or directory\n",
      "ERROR:theano.sandbox.cuda:Failed to compile cuda_ndarray.cu: libcublas.so.8.0: cannot open shared object file: No such file or directory\n",
      "WARNING (theano.sandbox.cuda): CUDA is installed, but device gpu0 is not available  (error: cuda unavailable)\n",
      "WARNING:theano.sandbox.cuda:CUDA is installed, but device gpu0 is not available  (error: cuda unavailable)\n"
     ]
    },
    {
     "name": "stdout",
     "output_type": "stream",
     "text": [
      "image shape:  (3, 32, 32)\n",
      "50000 training samples\n",
      "10000 test samples\n",
      "10 classes\n",
      "3072  pixels\n"
     ]
    }
   ],
   "source": [
    "import keras\n",
    "from keras.datasets import cifar10\n",
    "from keras.utils import np_utils\n",
    "from keras.models import Sequential\n",
    "from keras.layers import Dense, Dropout, Activation, Flatten\n",
    "from keras.layers import Convolution2D, MaxPooling2D\n",
    "from keras.optimizers import SGD\n",
    "import numpy as np\n",
    "from sklearn.metrics import accuracy_score\n",
    "\n",
    "# load data set\n",
    "(X_train, y_train), (X_test, y_test) = cifar10.load_data()\n",
    "\n",
    "img_shape = X_train.shape[1:] # [num_rows, num_cols, num_channels]\n",
    "num_img_pixels = np.prod(img_shape)\n",
    "num_training_samples = X_train.shape[0]\n",
    "num_test_samples = X_test.shape[0]\n",
    "\n",
    "nb_classes = np.sum(np.unique(y_train).shape)\n",
    "\n",
    "print('image shape: ', img_shape)\n",
    "print(X_train.shape[0], 'training samples')\n",
    "print(X_test.shape[0], 'test samples')\n",
    "print(nb_classes, 'classes')\n",
    "print(num_img_pixels, \" pixels\")\n",
    "# data processing\n",
    "\n",
    "X_train = X_train.reshape(num_training_samples, num_img_pixels)\n",
    "X_test = X_test.reshape(num_test_samples, num_img_pixels)\n",
    "\n",
    "X_train = X_train.astype('float32')\n",
    "X_test = X_test.astype('float32')\n",
    "X_train /= 255\n",
    "X_test /= 255\n",
    "\n",
    "#print(\"X_train : \",X_train )\n",
    "#print(\"X_test : \",X_test)\n",
    "\n",
    "# one hot encoding of labels\n",
    "y_train_ohe = np_utils.to_categorical(y_train)\n",
    "y_test_ohe = np_utils.to_categorical(y_test)"
   ]
  },
  {
   "cell_type": "code",
   "execution_count": null,
   "metadata": {
    "collapsed": false,
    "slideshow": {
     "slide_type": "fragment"
    }
   },
   "outputs": [],
   "source": [
    "# build a basic network\n",
    "\n",
    "\n",
    "model = Sequential()\n",
    "\n",
    "model.add(Dense(input_dim = num_img_pixels, \n",
    "                output_dim = 50, \n",
    "                init = 'uniform', \n",
    "                activation = 'tanh'))\n",
    "\n",
    "model.add(Dense(output_dim = 50, \n",
    "                init = 'uniform', \n",
    "                activation = 'tanh'))\n",
    "\n",
    "model.add(Dense(output_dim = nb_classes, \n",
    "                init = 'uniform', \n",
    "                activation = 'softmax'))\n",
    "\n",
    "sgd = SGD(lr=0.001, decay=1e-7, momentum=.9)\n",
    "\n",
    "model.compile(loss = 'categorical_crossentropy', \n",
    "              optimizer = sgd, \n",
    "              metrics = [\"accuracy\"])\n"
   ]
  },
  {
   "cell_type": "markdown",
   "metadata": {
    "collapsed": false,
    "slideshow": {
     "slide_type": "fragment"
    }
   },
   "source": [
    "# train\n",
    "\n",
    "_ = model.fit(X_train, y_train_ohe, \n",
    "              nb_epoch = 5, \n",
    "              batch_size = 10, \n",
    "              verbose = True, # turn this on to visualize progress \n",
    "              validation_split = 0.1 # 10% of training data for validation per epoch\n",
    "             )"
   ]
  },
  {
   "cell_type": "markdown",
   "metadata": {
    "collapsed": false,
    "slideshow": {
     "slide_type": "fragment"
    }
   },
   "source": [
    "# evaluate\n",
    "\n",
    "y_train_pred = model.predict_classes(X_train, verbose=True)\n",
    "print('First few predictions: ', y_train_pred[:3])\n",
    "train_acc = accuracy_score(y_train, y_train_pred)\n",
    "print('Training accuracy:', train_acc)\n",
    "\n",
    "y_test_pred = model.predict_classes(X_test, verbose=True)\n",
    "test_acc = accuracy_score(y_test, y_test_pred)\n",
    "print('Test accuracy:', test_acc)\n"
   ]
  },
  {
   "cell_type": "markdown",
   "metadata": {
    "slideshow": {
     "slide_type": "subslide"
    }
   },
   "source": [
    "## Answer"
   ]
  },
  {
   "cell_type": "markdown",
   "metadata": {},
   "source": [
    "### First head at beginning:\n",
    "The neural network below is constructed based on the hint in the tutorial by\n",
    "\n",
    "\"Building powerful image classification models using very little data\" , \n",
    "\n",
    "author: Francois Chollet. Link : https://blog.keras.io/building-powerful-image-classification-models-using-very-little-data.html \n",
    "\n",
    "This tutorial gives me some elementary knowledge \n",
    "\n",
    "on how to construct a simple neural network scientifically and I choose to \n",
    "\n",
    "improve a basic structure designed below according to our question requirement.\n"
   ]
  },
  {
   "cell_type": "code",
   "execution_count": 44,
   "metadata": {
    "collapsed": false,
    "scrolled": true
   },
   "outputs": [
    {
     "name": "stdout",
     "output_type": "stream",
     "text": [
      "X_train shape: (50000, 3, 32, 32)\n",
      "50000 train samples\n",
      "10000 test samples\n",
      "Not using data augmentation.\n",
      "Train on 50000 samples, validate on 10000 samples\n",
      "Epoch 1/200\n",
      "50000/50000 [==============================] - 60s - loss: 1.8762 - acc: 0.3023 - val_loss: 1.4740 - val_acc: 0.4744\n",
      "Epoch 2/200\n",
      "50000/50000 [==============================] - 58s - loss: 1.5026 - acc: 0.4567 - val_loss: 1.2690 - val_acc: 0.5430\n",
      "Epoch 3/200\n",
      "50000/50000 [==============================] - 56s - loss: 1.3412 - acc: 0.5218 - val_loss: 1.1245 - val_acc: 0.5970\n",
      "Epoch 4/200\n",
      "50000/50000 [==============================] - 56s - loss: 1.2253 - acc: 0.5647 - val_loss: 1.0574 - val_acc: 0.6334\n",
      "Epoch 5/200\n",
      "50000/50000 [==============================] - 58s - loss: 1.1377 - acc: 0.5978 - val_loss: 0.9936 - val_acc: 0.6589\n",
      "Epoch 6/200\n",
      "50000/50000 [==============================] - 67s - loss: 1.0622 - acc: 0.6250 - val_loss: 0.9421 - val_acc: 0.6683\n",
      "Epoch 7/200\n",
      "50000/50000 [==============================] - 64s - loss: 1.0151 - acc: 0.6433 - val_loss: 0.9337 - val_acc: 0.6777\n",
      "Epoch 8/200\n",
      "50000/50000 [==============================] - 64s - loss: 0.9637 - acc: 0.6610 - val_loss: 0.9164 - val_acc: 0.6853\n",
      "Epoch 9/200\n",
      "50000/50000 [==============================] - 66s - loss: 0.9351 - acc: 0.6760 - val_loss: 0.8586 - val_acc: 0.7050\n",
      "Epoch 10/200\n",
      "50000/50000 [==============================] - 64s - loss: 0.9016 - acc: 0.6850 - val_loss: 0.8781 - val_acc: 0.6985\n",
      "Epoch 11/200\n",
      "50000/50000 [==============================] - 67s - loss: 0.8763 - acc: 0.6944 - val_loss: 0.8974 - val_acc: 0.6934\n",
      "Epoch 12/200\n",
      "50000/50000 [==============================] - 65s - loss: 0.8475 - acc: 0.7034 - val_loss: 0.8402 - val_acc: 0.7131\n",
      "Epoch 13/200\n",
      "50000/50000 [==============================] - 66s - loss: 0.8181 - acc: 0.7142 - val_loss: 0.8292 - val_acc: 0.7108\n",
      "Epoch 14/200\n",
      "50000/50000 [==============================] - 66s - loss: 0.8067 - acc: 0.7177 - val_loss: 0.9027 - val_acc: 0.6884\n",
      "Epoch 15/200\n",
      "50000/50000 [==============================] - 68s - loss: 0.7828 - acc: 0.7284 - val_loss: 0.8244 - val_acc: 0.7195\n",
      "Epoch 16/200\n",
      "50000/50000 [==============================] - 67s - loss: 0.7620 - acc: 0.7326 - val_loss: 0.8485 - val_acc: 0.7203\n",
      "Epoch 17/200\n",
      "50000/50000 [==============================] - 67s - loss: 0.7571 - acc: 0.7343 - val_loss: 0.8392 - val_acc: 0.7186\n",
      "Epoch 18/200\n",
      "50000/50000 [==============================] - 66s - loss: 0.7343 - acc: 0.7416 - val_loss: 0.8557 - val_acc: 0.7170\n",
      "Epoch 19/200\n",
      "50000/50000 [==============================] - 67s - loss: 0.7201 - acc: 0.7462 - val_loss: 0.8174 - val_acc: 0.7292\n",
      "Epoch 20/200\n",
      "50000/50000 [==============================] - 68s - loss: 0.7100 - acc: 0.7493 - val_loss: 0.8820 - val_acc: 0.7125\n",
      "Epoch 21/200\n",
      "50000/50000 [==============================] - 68s - loss: 0.7001 - acc: 0.7532 - val_loss: 0.8634 - val_acc: 0.7162\n",
      "Epoch 22/200\n",
      "50000/50000 [==============================] - 68s - loss: 0.6858 - acc: 0.7563 - val_loss: 0.8502 - val_acc: 0.7229\n",
      "Epoch 23/200\n",
      "50000/50000 [==============================] - 68s - loss: 0.6766 - acc: 0.7607 - val_loss: 0.8501 - val_acc: 0.7237\n",
      "Epoch 24/200\n",
      "50000/50000 [==============================] - 69s - loss: 0.6712 - acc: 0.7604 - val_loss: 0.8929 - val_acc: 0.7106\n",
      "Epoch 25/200\n",
      "50000/50000 [==============================] - 67s - loss: 0.6544 - acc: 0.7671 - val_loss: 0.8292 - val_acc: 0.7312\n",
      "Epoch 26/200\n",
      "50000/50000 [==============================] - 67s - loss: 0.6488 - acc: 0.7701 - val_loss: 0.8521 - val_acc: 0.7325\n",
      "Epoch 27/200\n",
      "50000/50000 [==============================] - 69s - loss: 0.6395 - acc: 0.7711 - val_loss: 0.8408 - val_acc: 0.7339\n",
      "Epoch 28/200\n",
      "50000/50000 [==============================] - 69s - loss: 0.6252 - acc: 0.7741 - val_loss: 0.8553 - val_acc: 0.7262\n",
      "Epoch 29/200\n",
      "50000/50000 [==============================] - 69s - loss: 0.6270 - acc: 0.7745 - val_loss: 0.9191 - val_acc: 0.7071\n",
      "Epoch 30/200\n",
      "50000/50000 [==============================] - 69s - loss: 0.6126 - acc: 0.7785 - val_loss: 0.8888 - val_acc: 0.7245\n",
      "Epoch 31/200\n",
      "50000/50000 [==============================] - 70s - loss: 0.6122 - acc: 0.7810 - val_loss: 0.9066 - val_acc: 0.7240\n",
      "Epoch 32/200\n",
      "50000/50000 [==============================] - 69s - loss: 0.6093 - acc: 0.7799 - val_loss: 0.8941 - val_acc: 0.7175\n",
      "Epoch 33/200\n",
      "50000/50000 [==============================] - 69s - loss: 0.6032 - acc: 0.7848 - val_loss: 0.8942 - val_acc: 0.7202\n",
      "Epoch 34/200\n",
      "50000/50000 [==============================] - 70s - loss: 0.5924 - acc: 0.7867 - val_loss: 0.8988 - val_acc: 0.7351\n",
      "Epoch 35/200\n",
      "50000/50000 [==============================] - 70s - loss: 0.5935 - acc: 0.7863 - val_loss: 0.9265 - val_acc: 0.7234\n",
      "Epoch 36/200\n",
      "50000/50000 [==============================] - 70s - loss: 0.5920 - acc: 0.7868 - val_loss: 0.8819 - val_acc: 0.7295\n",
      "Epoch 37/200\n",
      "50000/50000 [==============================] - 70s - loss: 0.5811 - acc: 0.7919 - val_loss: 0.9224 - val_acc: 0.7288\n",
      "Epoch 38/200\n",
      "50000/50000 [==============================] - 72s - loss: 0.5755 - acc: 0.7915 - val_loss: 0.9294 - val_acc: 0.7208\n",
      "Epoch 39/200\n",
      "50000/50000 [==============================] - 69s - loss: 0.5728 - acc: 0.7934 - val_loss: 0.9202 - val_acc: 0.7313\n",
      "Epoch 40/200\n",
      "50000/50000 [==============================] - 69s - loss: 0.5648 - acc: 0.7958 - val_loss: 0.9422 - val_acc: 0.7250\n",
      "Epoch 41/200\n",
      "50000/50000 [==============================] - 70s - loss: 0.5594 - acc: 0.7989 - val_loss: 0.9041 - val_acc: 0.7303\n",
      "Epoch 42/200\n",
      "50000/50000 [==============================] - 69s - loss: 0.5634 - acc: 0.7959 - val_loss: 0.9522 - val_acc: 0.7203\n",
      "Epoch 43/200\n",
      "50000/50000 [==============================] - 69s - loss: 0.5566 - acc: 0.7981 - val_loss: 0.9238 - val_acc: 0.7260\n",
      "Epoch 44/200\n",
      "50000/50000 [==============================] - 70s - loss: 0.5452 - acc: 0.8009 - val_loss: 0.9533 - val_acc: 0.7196\n",
      "Epoch 45/200\n",
      "50000/50000 [==============================] - 69s - loss: 0.5531 - acc: 0.7996 - val_loss: 0.9482 - val_acc: 0.7339\n",
      "Epoch 46/200\n",
      "50000/50000 [==============================] - 70s - loss: 0.5464 - acc: 0.8014 - val_loss: 0.9854 - val_acc: 0.7215\n",
      "Epoch 47/200\n",
      "50000/50000 [==============================] - 68s - loss: 0.5443 - acc: 0.8040 - val_loss: 0.9228 - val_acc: 0.7232\n",
      "Epoch 48/200\n",
      "50000/50000 [==============================] - 70s - loss: 0.5447 - acc: 0.8039 - val_loss: 0.9982 - val_acc: 0.7244\n",
      "Epoch 49/200\n",
      "50000/50000 [==============================] - 70s - loss: 0.5322 - acc: 0.8074 - val_loss: 0.9655 - val_acc: 0.7301\n",
      "Epoch 50/200\n",
      "50000/50000 [==============================] - 70s - loss: 0.5340 - acc: 0.8083 - val_loss: 0.9729 - val_acc: 0.7224\n",
      "Epoch 51/200\n",
      "50000/50000 [==============================] - 69s - loss: 0.5357 - acc: 0.8071 - val_loss: 1.0024 - val_acc: 0.7234\n",
      "Epoch 52/200\n",
      "50000/50000 [==============================] - 69s - loss: 0.5109 - acc: 0.8161 - val_loss: 0.9616 - val_acc: 0.7255\n",
      "Epoch 53/200\n",
      "50000/50000 [==============================] - 71s - loss: 0.5294 - acc: 0.8098 - val_loss: 1.0058 - val_acc: 0.7195\n",
      "Epoch 54/200\n",
      "50000/50000 [==============================] - 70s - loss: 0.5347 - acc: 0.8083 - val_loss: 0.9916 - val_acc: 0.7293\n",
      "Epoch 55/200\n",
      "50000/50000 [==============================] - 69s - loss: 0.5189 - acc: 0.8131 - val_loss: 1.0519 - val_acc: 0.7173\n",
      "Epoch 56/200\n",
      "50000/50000 [==============================] - 70s - loss: 0.5129 - acc: 0.8145 - val_loss: 1.0160 - val_acc: 0.7154\n",
      "Epoch 57/200\n",
      "50000/50000 [==============================] - 70s - loss: 0.5184 - acc: 0.8136 - val_loss: 1.0042 - val_acc: 0.7307\n",
      "Epoch 58/200\n",
      "50000/50000 [==============================] - 70s - loss: 0.5096 - acc: 0.8145 - val_loss: 1.0299 - val_acc: 0.7239\n",
      "Epoch 59/200\n",
      "50000/50000 [==============================] - 71s - loss: 0.5166 - acc: 0.8140 - val_loss: 1.0116 - val_acc: 0.7222\n",
      "Epoch 60/200\n",
      "50000/50000 [==============================] - 63s - loss: 0.5074 - acc: 0.8161 - val_loss: 1.1037 - val_acc: 0.7240\n",
      "Epoch 61/200\n",
      "50000/50000 [==============================] - 67s - loss: 0.5088 - acc: 0.8158 - val_loss: 1.0377 - val_acc: 0.7230\n",
      "Epoch 62/200\n",
      "50000/50000 [==============================] - 70s - loss: 0.5084 - acc: 0.8178 - val_loss: 1.0334 - val_acc: 0.7284\n",
      "Epoch 63/200\n",
      "50000/50000 [==============================] - 70s - loss: 0.5094 - acc: 0.8157 - val_loss: 1.0701 - val_acc: 0.7185\n",
      "Epoch 64/200\n",
      "50000/50000 [==============================] - 71s - loss: 0.5105 - acc: 0.8155 - val_loss: 1.0127 - val_acc: 0.7305\n",
      "Epoch 65/200\n",
      "50000/50000 [==============================] - 70s - loss: 0.5012 - acc: 0.8198 - val_loss: 1.0554 - val_acc: 0.7298\n",
      "Epoch 66/200\n",
      "50000/50000 [==============================] - 69s - loss: 0.5084 - acc: 0.8176 - val_loss: 1.0543 - val_acc: 0.7150\n",
      "Epoch 67/200\n",
      "50000/50000 [==============================] - 68s - loss: 0.4882 - acc: 0.8224 - val_loss: 1.0441 - val_acc: 0.7286\n",
      "Epoch 68/200\n",
      "50000/50000 [==============================] - 68s - loss: 0.5038 - acc: 0.8184 - val_loss: 1.0405 - val_acc: 0.7235\n",
      "Epoch 69/200\n",
      "50000/50000 [==============================] - 68s - loss: 0.4914 - acc: 0.8201 - val_loss: 1.0812 - val_acc: 0.7136\n",
      "Epoch 70/200\n",
      "50000/50000 [==============================] - 72s - loss: 0.4976 - acc: 0.8194 - val_loss: 1.0750 - val_acc: 0.7246\n",
      "Epoch 71/200\n",
      "50000/50000 [==============================] - 70s - loss: 0.4961 - acc: 0.8232 - val_loss: 1.0537 - val_acc: 0.7301\n",
      "Epoch 72/200\n",
      "50000/50000 [==============================] - 69s - loss: 0.4844 - acc: 0.8240 - val_loss: 1.0835 - val_acc: 0.7198\n",
      "Epoch 73/200\n",
      "50000/50000 [==============================] - 70s - loss: 0.4917 - acc: 0.8219 - val_loss: 1.0794 - val_acc: 0.7268\n",
      "Epoch 74/200\n",
      "50000/50000 [==============================] - 70s - loss: 0.4929 - acc: 0.8220 - val_loss: 1.1121 - val_acc: 0.7246\n",
      "Epoch 75/200\n",
      "50000/50000 [==============================] - 70s - loss: 0.4835 - acc: 0.8269 - val_loss: 1.0797 - val_acc: 0.7184\n",
      "Epoch 76/200\n",
      "50000/50000 [==============================] - 70s - loss: 0.4854 - acc: 0.8241 - val_loss: 1.1060 - val_acc: 0.7238\n",
      "Epoch 77/200\n",
      "50000/50000 [==============================] - 68s - loss: 0.4837 - acc: 0.8236 - val_loss: 1.1187 - val_acc: 0.7197\n",
      "Epoch 78/200\n",
      "50000/50000 [==============================] - 61s - loss: 0.4875 - acc: 0.8246 - val_loss: 1.1081 - val_acc: 0.7189\n",
      "Epoch 79/200\n",
      "50000/50000 [==============================] - 62s - loss: 0.4765 - acc: 0.8284 - val_loss: 1.1584 - val_acc: 0.7295\n",
      "Epoch 80/200\n",
      "50000/50000 [==============================] - 62s - loss: 0.4771 - acc: 0.8288 - val_loss: 1.1113 - val_acc: 0.7206\n",
      "Epoch 81/200\n",
      "50000/50000 [==============================] - 61s - loss: 0.4754 - acc: 0.8300 - val_loss: 1.1356 - val_acc: 0.7228\n",
      "Epoch 82/200\n",
      "50000/50000 [==============================] - 63s - loss: 0.4686 - acc: 0.8307 - val_loss: 1.1669 - val_acc: 0.7223\n",
      "Epoch 83/200\n",
      "50000/50000 [==============================] - 63s - loss: 0.4773 - acc: 0.8291 - val_loss: 1.1289 - val_acc: 0.7237\n",
      "Epoch 84/200\n",
      "50000/50000 [==============================] - 63s - loss: 0.4727 - acc: 0.8297 - val_loss: 1.1408 - val_acc: 0.7236\n",
      "Epoch 85/200\n",
      "50000/50000 [==============================] - 62s - loss: 0.4617 - acc: 0.8339 - val_loss: 1.1268 - val_acc: 0.7271\n",
      "Epoch 86/200\n",
      "50000/50000 [==============================] - 64s - loss: 0.4713 - acc: 0.8314 - val_loss: 1.1299 - val_acc: 0.7127\n",
      "Epoch 87/200\n",
      "50000/50000 [==============================] - 62s - loss: 0.4712 - acc: 0.8310 - val_loss: 1.1943 - val_acc: 0.7137\n",
      "Epoch 88/200\n",
      "50000/50000 [==============================] - 62s - loss: 0.4769 - acc: 0.8293 - val_loss: 1.1722 - val_acc: 0.7228\n",
      "Epoch 89/200\n",
      "50000/50000 [==============================] - 63s - loss: 0.4733 - acc: 0.8305 - val_loss: 1.1348 - val_acc: 0.7291\n",
      "Epoch 90/200\n",
      "50000/50000 [==============================] - 63s - loss: 0.4663 - acc: 0.8324 - val_loss: 1.1969 - val_acc: 0.7149\n",
      "Epoch 91/200\n",
      "50000/50000 [==============================] - 62s - loss: 0.4756 - acc: 0.8284 - val_loss: 1.1465 - val_acc: 0.7305\n",
      "Epoch 92/200\n",
      "50000/50000 [==============================] - 63s - loss: 0.4616 - acc: 0.8343 - val_loss: 1.1710 - val_acc: 0.7259\n",
      "Epoch 93/200\n",
      "50000/50000 [==============================] - 64s - loss: 0.4720 - acc: 0.8287 - val_loss: 1.2483 - val_acc: 0.7175\n",
      "Epoch 94/200\n",
      "50000/50000 [==============================] - 62s - loss: 0.4689 - acc: 0.8318 - val_loss: 1.2004 - val_acc: 0.7214\n",
      "Epoch 95/200\n",
      "50000/50000 [==============================] - 62s - loss: 0.4660 - acc: 0.8335 - val_loss: 1.2077 - val_acc: 0.7194\n",
      "Epoch 96/200\n",
      "50000/50000 [==============================] - 63s - loss: 0.4616 - acc: 0.8350 - val_loss: 1.1947 - val_acc: 0.7190\n",
      "Epoch 97/200\n",
      "50000/50000 [==============================] - 62s - loss: 0.4710 - acc: 0.8315 - val_loss: 1.1534 - val_acc: 0.7212\n",
      "Epoch 98/200\n",
      "50000/50000 [==============================] - 63s - loss: 0.4543 - acc: 0.8374 - val_loss: 1.2732 - val_acc: 0.7109\n",
      "Epoch 99/200\n",
      "50000/50000 [==============================] - 62s - loss: 0.4548 - acc: 0.8364 - val_loss: 1.2574 - val_acc: 0.7082\n",
      "Epoch 100/200\n",
      "50000/50000 [==============================] - 63s - loss: 0.4660 - acc: 0.8348 - val_loss: 1.2299 - val_acc: 0.7195\n",
      "Epoch 101/200\n",
      "50000/50000 [==============================] - 63s - loss: 0.4605 - acc: 0.8361 - val_loss: 1.1943 - val_acc: 0.7256\n",
      "Epoch 102/200\n",
      "50000/50000 [==============================] - 62s - loss: 0.4550 - acc: 0.8399 - val_loss: 1.1939 - val_acc: 0.7197\n",
      "Epoch 103/200\n",
      "50000/50000 [==============================] - 70s - loss: 0.4521 - acc: 0.8381 - val_loss: 1.2246 - val_acc: 0.7278\n",
      "Epoch 104/200\n",
      "50000/50000 [==============================] - 72s - loss: 0.4622 - acc: 0.8346 - val_loss: 1.2302 - val_acc: 0.7177\n",
      "Epoch 105/200\n",
      "50000/50000 [==============================] - 72s - loss: 0.4607 - acc: 0.8362 - val_loss: 1.2457 - val_acc: 0.7195\n",
      "Epoch 106/200\n",
      "50000/50000 [==============================] - 75s - loss: 0.4561 - acc: 0.8371 - val_loss: 1.2288 - val_acc: 0.7209\n",
      "Epoch 107/200\n",
      "50000/50000 [==============================] - 67s - loss: 0.4541 - acc: 0.8391 - val_loss: 1.2556 - val_acc: 0.7154\n",
      "Epoch 108/200\n",
      "50000/50000 [==============================] - 71s - loss: 0.4571 - acc: 0.8370 - val_loss: 1.2177 - val_acc: 0.7168\n",
      "Epoch 109/200\n",
      "50000/50000 [==============================] - 74s - loss: 0.4511 - acc: 0.8383 - val_loss: 1.2028 - val_acc: 0.7142\n",
      "Epoch 110/200\n",
      "50000/50000 [==============================] - 73s - loss: 0.4486 - acc: 0.8400 - val_loss: 1.2383 - val_acc: 0.7213\n",
      "Epoch 111/200\n",
      "50000/50000 [==============================] - 74s - loss: 0.4585 - acc: 0.8367 - val_loss: 1.2382 - val_acc: 0.7142\n",
      "Epoch 112/200\n",
      "50000/50000 [==============================] - 75s - loss: 0.4588 - acc: 0.8384 - val_loss: 1.2375 - val_acc: 0.7274\n",
      "Epoch 113/200\n",
      "50000/50000 [==============================] - 71s - loss: 0.4553 - acc: 0.8391 - val_loss: 1.3147 - val_acc: 0.7083\n",
      "Epoch 114/200\n",
      "50000/50000 [==============================] - 74s - loss: 0.4580 - acc: 0.8370 - val_loss: 1.2432 - val_acc: 0.7177\n",
      "Epoch 115/200\n",
      "50000/50000 [==============================] - 73s - loss: 0.4438 - acc: 0.8431 - val_loss: 1.2893 - val_acc: 0.7213\n",
      "Epoch 116/200\n",
      "50000/50000 [==============================] - 74s - loss: 0.4525 - acc: 0.8399 - val_loss: 1.2100 - val_acc: 0.7208\n",
      "Epoch 117/200\n",
      "50000/50000 [==============================] - 75s - loss: 0.4440 - acc: 0.8418 - val_loss: 1.2781 - val_acc: 0.7224\n",
      "Epoch 118/200\n",
      "50000/50000 [==============================] - 74s - loss: 0.4546 - acc: 0.8400 - val_loss: 1.2682 - val_acc: 0.7203\n",
      "Epoch 119/200\n",
      "50000/50000 [==============================] - 75s - loss: 0.4563 - acc: 0.8381 - val_loss: 1.2432 - val_acc: 0.7182\n",
      "Epoch 120/200\n",
      "50000/50000 [==============================] - 74s - loss: 0.4542 - acc: 0.8398 - val_loss: 1.2408 - val_acc: 0.7207\n",
      "Epoch 121/200\n",
      "50000/50000 [==============================] - 74s - loss: 0.4562 - acc: 0.8394 - val_loss: 1.2746 - val_acc: 0.7209\n",
      "Epoch 122/200\n",
      "50000/50000 [==============================] - 75s - loss: 0.4428 - acc: 0.8431 - val_loss: 1.3365 - val_acc: 0.7172\n",
      "Epoch 123/200\n",
      "50000/50000 [==============================] - 74s - loss: 0.4456 - acc: 0.8439 - val_loss: 1.2776 - val_acc: 0.7147\n",
      "Epoch 124/200\n",
      "50000/50000 [==============================] - 75s - loss: 0.4349 - acc: 0.8468 - val_loss: 1.2797 - val_acc: 0.7169\n",
      "Epoch 125/200\n",
      "50000/50000 [==============================] - 75s - loss: 0.4388 - acc: 0.8446 - val_loss: 1.2799 - val_acc: 0.7168\n",
      "Epoch 126/200\n",
      "50000/50000 [==============================] - 74s - loss: 0.4364 - acc: 0.8442 - val_loss: 1.2965 - val_acc: 0.7210\n",
      "Epoch 127/200\n",
      "50000/50000 [==============================] - 74s - loss: 0.4453 - acc: 0.8435 - val_loss: 1.2998 - val_acc: 0.7272\n",
      "Epoch 128/200\n",
      "50000/50000 [==============================] - 74s - loss: 0.4430 - acc: 0.8447 - val_loss: 1.2683 - val_acc: 0.7146\n",
      "Epoch 129/200\n",
      "50000/50000 [==============================] - 74s - loss: 0.4435 - acc: 0.8432 - val_loss: 1.3070 - val_acc: 0.7194\n",
      "Epoch 130/200\n",
      "50000/50000 [==============================] - 76s - loss: 0.4429 - acc: 0.8434 - val_loss: 1.2834 - val_acc: 0.7187\n",
      "Epoch 131/200\n",
      "50000/50000 [==============================] - 75s - loss: 0.4389 - acc: 0.8452 - val_loss: 1.3005 - val_acc: 0.7116\n",
      "Epoch 132/200\n",
      "50000/50000 [==============================] - 69s - loss: 0.4374 - acc: 0.8462 - val_loss: 1.3140 - val_acc: 0.7125\n",
      "Epoch 133/200\n",
      "50000/50000 [==============================] - 62s - loss: 0.4403 - acc: 0.8450 - val_loss: 1.2863 - val_acc: 0.7136\n",
      "Epoch 134/200\n",
      "50000/50000 [==============================] - 61s - loss: 0.4388 - acc: 0.8464 - val_loss: 1.2994 - val_acc: 0.7154\n",
      "Epoch 135/200\n",
      "50000/50000 [==============================] - 61s - loss: 0.4426 - acc: 0.8436 - val_loss: 1.3171 - val_acc: 0.7199\n",
      "Epoch 136/200\n",
      "50000/50000 [==============================] - 63s - loss: 0.4349 - acc: 0.8476 - val_loss: 1.3008 - val_acc: 0.7207\n",
      "Epoch 137/200\n",
      "50000/50000 [==============================] - 65s - loss: 0.4377 - acc: 0.8466 - val_loss: 1.2864 - val_acc: 0.7205\n",
      "Epoch 138/200\n",
      "50000/50000 [==============================] - 63s - loss: 0.4427 - acc: 0.8459 - val_loss: 1.2902 - val_acc: 0.7210\n",
      "Epoch 139/200\n",
      "50000/50000 [==============================] - 70s - loss: 0.4258 - acc: 0.8503 - val_loss: 1.3430 - val_acc: 0.7092\n",
      "Epoch 140/200\n",
      "50000/50000 [==============================] - 77s - loss: 0.4328 - acc: 0.8477 - val_loss: 1.4223 - val_acc: 0.7030\n",
      "Epoch 141/200\n",
      "50000/50000 [==============================] - 78s - loss: 0.4373 - acc: 0.8485 - val_loss: 1.3453 - val_acc: 0.7194\n",
      "Epoch 142/200\n",
      "50000/50000 [==============================] - 76s - loss: 0.4272 - acc: 0.8485 - val_loss: 1.3535 - val_acc: 0.7118\n",
      "Epoch 143/200\n",
      "50000/50000 [==============================] - 66s - loss: 0.4236 - acc: 0.8510 - val_loss: 1.3542 - val_acc: 0.7214\n",
      "Epoch 144/200\n",
      "50000/50000 [==============================] - 64s - loss: 0.4328 - acc: 0.8495 - val_loss: 1.2706 - val_acc: 0.7147\n",
      "Epoch 145/200\n",
      "50000/50000 [==============================] - 67s - loss: 0.4322 - acc: 0.8497 - val_loss: 1.3272 - val_acc: 0.7094\n",
      "Epoch 146/200\n",
      "50000/50000 [==============================] - 64s - loss: 0.4439 - acc: 0.8468 - val_loss: 1.3669 - val_acc: 0.7101\n",
      "Epoch 147/200\n",
      "50000/50000 [==============================] - 63s - loss: 0.4204 - acc: 0.8512 - val_loss: 1.3203 - val_acc: 0.7174\n",
      "Epoch 148/200\n",
      "50000/50000 [==============================] - 63s - loss: 0.4336 - acc: 0.8473 - val_loss: 1.3294 - val_acc: 0.7214\n",
      "Epoch 149/200\n",
      "50000/50000 [==============================] - 66s - loss: 0.4342 - acc: 0.8488 - val_loss: 1.3941 - val_acc: 0.7115\n",
      "Epoch 150/200\n",
      "50000/50000 [==============================] - 64s - loss: 0.4295 - acc: 0.8492 - val_loss: 1.3525 - val_acc: 0.7101\n",
      "Epoch 151/200\n",
      "50000/50000 [==============================] - 69s - loss: 0.4355 - acc: 0.8493 - val_loss: 1.3191 - val_acc: 0.7161\n",
      "Epoch 152/200\n",
      "50000/50000 [==============================] - 64s - loss: 0.4220 - acc: 0.8550 - val_loss: 1.3870 - val_acc: 0.7158\n",
      "Epoch 153/200\n",
      "50000/50000 [==============================] - 64s - loss: 0.4212 - acc: 0.8527 - val_loss: 1.3797 - val_acc: 0.7175\n",
      "Epoch 154/200\n",
      "50000/50000 [==============================] - 64s - loss: 0.4385 - acc: 0.8488 - val_loss: 1.3440 - val_acc: 0.7168\n",
      "Epoch 155/200\n",
      "50000/50000 [==============================] - 64s - loss: 0.4122 - acc: 0.8554 - val_loss: 1.3430 - val_acc: 0.7161\n",
      "Epoch 156/200\n",
      "50000/50000 [==============================] - 63s - loss: 0.4291 - acc: 0.8513 - val_loss: 1.3746 - val_acc: 0.7171\n",
      "Epoch 157/200\n",
      "50000/50000 [==============================] - 64s - loss: 0.4184 - acc: 0.8526 - val_loss: 1.3575 - val_acc: 0.7180\n",
      "Epoch 158/200\n",
      "50000/50000 [==============================] - 65s - loss: 0.4262 - acc: 0.8508 - val_loss: 1.3687 - val_acc: 0.7182\n",
      "Epoch 159/200\n",
      "50000/50000 [==============================] - 64s - loss: 0.4223 - acc: 0.8516 - val_loss: 1.4642 - val_acc: 0.7153\n",
      "Epoch 160/200\n",
      "50000/50000 [==============================] - 64s - loss: 0.4215 - acc: 0.8540 - val_loss: 1.4435 - val_acc: 0.7141\n",
      "Epoch 161/200\n",
      "50000/50000 [==============================] - 68s - loss: 0.4202 - acc: 0.8549 - val_loss: 1.3613 - val_acc: 0.7111\n",
      "Epoch 162/200\n",
      "50000/50000 [==============================] - 72s - loss: 0.4233 - acc: 0.8533 - val_loss: 1.3936 - val_acc: 0.7080\n",
      "Epoch 163/200\n",
      "50000/50000 [==============================] - 76s - loss: 0.4179 - acc: 0.8560 - val_loss: 1.3446 - val_acc: 0.7184\n",
      "Epoch 164/200\n",
      "50000/50000 [==============================] - 77s - loss: 0.4091 - acc: 0.8577 - val_loss: 1.3816 - val_acc: 0.7164\n",
      "Epoch 165/200\n",
      "50000/50000 [==============================] - 77s - loss: 0.4175 - acc: 0.8551 - val_loss: 1.4202 - val_acc: 0.7225\n",
      "Epoch 166/200\n",
      "50000/50000 [==============================] - 77s - loss: 0.4184 - acc: 0.8562 - val_loss: 1.4114 - val_acc: 0.7143\n",
      "Epoch 167/200\n",
      "50000/50000 [==============================] - 78s - loss: 0.4201 - acc: 0.8547 - val_loss: 1.3559 - val_acc: 0.7090\n",
      "Epoch 168/200\n",
      "50000/50000 [==============================] - 79s - loss: 0.4167 - acc: 0.8565 - val_loss: 1.3861 - val_acc: 0.7202\n",
      "Epoch 169/200\n",
      "50000/50000 [==============================] - 78s - loss: 0.4196 - acc: 0.8540 - val_loss: 1.4020 - val_acc: 0.7146\n",
      "Epoch 170/200\n",
      "50000/50000 [==============================] - 76s - loss: 0.4307 - acc: 0.8512 - val_loss: 1.3868 - val_acc: 0.7124\n",
      "Epoch 171/200\n",
      "50000/50000 [==============================] - 72s - loss: 0.4198 - acc: 0.8546 - val_loss: 1.3994 - val_acc: 0.7174\n",
      "Epoch 172/200\n",
      "50000/50000 [==============================] - 65s - loss: 0.4224 - acc: 0.8558 - val_loss: 1.3923 - val_acc: 0.7165\n",
      "Epoch 173/200\n",
      "50000/50000 [==============================] - 65s - loss: 0.4123 - acc: 0.8575 - val_loss: 1.4069 - val_acc: 0.7169\n",
      "Epoch 174/200\n",
      "50000/50000 [==============================] - 65s - loss: 0.4126 - acc: 0.8579 - val_loss: 1.4047 - val_acc: 0.7175\n",
      "Epoch 175/200\n",
      "50000/50000 [==============================] - 65s - loss: 0.4013 - acc: 0.8598 - val_loss: 1.4103 - val_acc: 0.7208\n",
      "Epoch 176/200\n",
      "50000/50000 [==============================] - 67s - loss: 0.4186 - acc: 0.8546 - val_loss: 1.4019 - val_acc: 0.7144\n",
      "Epoch 177/200\n",
      "50000/50000 [==============================] - 69s - loss: 0.4163 - acc: 0.8556 - val_loss: 1.4420 - val_acc: 0.7118\n",
      "Epoch 178/200\n",
      "50000/50000 [==============================] - 75s - loss: 0.4171 - acc: 0.8574 - val_loss: 1.3990 - val_acc: 0.7177\n",
      "Epoch 179/200\n",
      "50000/50000 [==============================] - 70s - loss: 0.4138 - acc: 0.8581 - val_loss: 1.3989 - val_acc: 0.7161\n",
      "Epoch 180/200\n",
      "50000/50000 [==============================] - 65s - loss: 0.4204 - acc: 0.8554 - val_loss: 1.4237 - val_acc: 0.7105\n",
      "Epoch 181/200\n",
      "50000/50000 [==============================] - 66s - loss: 0.4002 - acc: 0.8613 - val_loss: 1.4545 - val_acc: 0.7082\n",
      "Epoch 182/200\n",
      "50000/50000 [==============================] - 71s - loss: 0.4109 - acc: 0.8581 - val_loss: 1.4193 - val_acc: 0.7125\n",
      "Epoch 183/200\n",
      "50000/50000 [==============================] - 72s - loss: 0.4063 - acc: 0.8607 - val_loss: 1.4326 - val_acc: 0.7191\n",
      "Epoch 184/200\n",
      "50000/50000 [==============================] - 67s - loss: 0.4056 - acc: 0.8583 - val_loss: 1.3868 - val_acc: 0.7127\n",
      "Epoch 185/200\n",
      "50000/50000 [==============================] - 62s - loss: 0.4155 - acc: 0.8557 - val_loss: 1.4527 - val_acc: 0.7153\n",
      "Epoch 186/200\n",
      "50000/50000 [==============================] - 62s - loss: 0.4195 - acc: 0.8571 - val_loss: 1.3975 - val_acc: 0.7153\n",
      "Epoch 187/200\n",
      "50000/50000 [==============================] - 62s - loss: 0.4077 - acc: 0.8589 - val_loss: 1.4381 - val_acc: 0.7142\n",
      "Epoch 188/200\n",
      "50000/50000 [==============================] - 62s - loss: 0.4219 - acc: 0.8561 - val_loss: 1.4549 - val_acc: 0.7148\n",
      "Epoch 189/200\n",
      "50000/50000 [==============================] - 68s - loss: 0.4184 - acc: 0.8551 - val_loss: 1.4715 - val_acc: 0.7088\n",
      "Epoch 190/200\n",
      "50000/50000 [==============================] - 72s - loss: 0.3890 - acc: 0.8656 - val_loss: 1.4873 - val_acc: 0.7117\n",
      "Epoch 191/200\n",
      "50000/50000 [==============================] - 72s - loss: 0.4137 - acc: 0.8577 - val_loss: 1.4822 - val_acc: 0.7119\n",
      "Epoch 192/200\n",
      "50000/50000 [==============================] - 72s - loss: 0.4126 - acc: 0.8591 - val_loss: 1.4848 - val_acc: 0.7123\n",
      "Epoch 193/200\n",
      "50000/50000 [==============================] - 73s - loss: 0.4158 - acc: 0.8567 - val_loss: 1.4455 - val_acc: 0.7149\n",
      "Epoch 194/200\n",
      "50000/50000 [==============================] - 74s - loss: 0.4067 - acc: 0.8599 - val_loss: 1.4694 - val_acc: 0.7185\n",
      "Epoch 195/200\n",
      "50000/50000 [==============================] - 73s - loss: 0.4093 - acc: 0.8607 - val_loss: 1.4240 - val_acc: 0.7146\n",
      "Epoch 196/200\n",
      "50000/50000 [==============================] - 74s - loss: 0.4104 - acc: 0.8596 - val_loss: 1.4346 - val_acc: 0.7165\n",
      "Epoch 197/200\n",
      "50000/50000 [==============================] - 73s - loss: 0.4074 - acc: 0.8625 - val_loss: 1.4319 - val_acc: 0.7180\n",
      "Epoch 198/200\n",
      "50000/50000 [==============================] - 72s - loss: 0.4069 - acc: 0.8601 - val_loss: 1.5336 - val_acc: 0.7066\n",
      "Epoch 199/200\n",
      "50000/50000 [==============================] - 73s - loss: 0.4067 - acc: 0.8611 - val_loss: 1.4551 - val_acc: 0.7122\n",
      "Epoch 200/200\n",
      "50000/50000 [==============================] - 73s - loss: 0.4112 - acc: 0.8584 - val_loss: 1.4687 - val_acc: 0.7123\n"
     ]
    }
   ],
   "source": [
    "from keras.preprocessing.image import ImageDataGenerator\n",
    "from keras.models import Sequential\n",
    "from keras.layers import Convolution2D, MaxPooling2D\n",
    "from keras.layers import Activation, Dropout, Flatten, Dense\n",
    "\n",
    "\n",
    "# the data, shuffled and split between train and test sets\n",
    "(X_train, y_train), (X_test, y_test) = cifar10.load_data()\n",
    "print('X_train shape:', X_train.shape)\n",
    "print(X_train.shape[0], 'train samples')\n",
    "print(X_test.shape[0], 'test samples')\n",
    "\n",
    "# convert class vectors to binary class matrices\n",
    "Y_train = np_utils.to_categorical(y_train, nb_classes)\n",
    "Y_test = np_utils.to_categorical(y_test, nb_classes)\n",
    "\n",
    "# dimensions of our images.\n",
    "img_width, img_height = 32, 32\n",
    "\n",
    "#train_data_dir = 'data/train'\n",
    "#validation_data_dir = 'data/validation'\n",
    "batch_size = 30\n",
    "nb_train_samples = 50000\n",
    "nb_validation_samples = 10000\n",
    "nb_epoch = 200\n",
    "\n",
    "\n",
    "model = Sequential()\n",
    "model.add(Convolution2D(32, 3, 3, border_mode = 'same' ,input_shape=X_train.shape[1:]))\n",
    "model.add(Activation('relu'))\n",
    "model.add(MaxPooling2D(pool_size=(2, 2)))\n",
    "\n",
    "model.add(Convolution2D(32, 3, 3, border_mode = 'same'))\n",
    "model.add(Activation('relu'))\n",
    "model.add(MaxPooling2D(pool_size=(2, 2),border_mode = 'same'))\n",
    "\n",
    "model.add(Convolution2D(64, 3, 3, border_mode = 'same'))\n",
    "model.add(Activation('relu'))\n",
    "model.add(MaxPooling2D(pool_size=(2, 2),border_mode = 'same'))\n",
    "\n",
    "model.add(Flatten())\n",
    "model.add(Dense(64))\n",
    "model.add(Activation('relu'))\n",
    "model.add(Dropout(0.5))\n",
    "model.add(Dense(nb_classes))\n",
    "model.add(Activation('softmax'))\n",
    "#Different learning rate with default parameter.\n",
    "sgd = SGD(lr = 0.005, decay = 1e-6,momentum = 0.9,nesterov = True)\n",
    "model.compile(loss='categorical_crossentropy',\n",
    "              optimizer=sgd,\n",
    "              metrics=['accuracy'])\n",
    "\n",
    "\n",
    "X_train = X_train.astype('float32')\n",
    "X_test = X_test.astype('float32')\n",
    "X_train /= 255\n",
    "X_test /= 255\n",
    "\n",
    "#set data_augmentation here:\n",
    "\n",
    "data_augmentation = False\n",
    "\n",
    "if not data_augmentation:\n",
    "    print('Not using data augmentation.')\n",
    "    model.fit(X_train, Y_train,\n",
    "              batch_size=batch_size,\n",
    "              nb_epoch=nb_epoch,\n",
    "              validation_data=(X_test, Y_test),\n",
    "              shuffle=True)\n",
    "else:\n",
    "    print('Using real-time data augmentation.')\n",
    "\n",
    "    # this will do preprocessing and realtime data augmentation\n",
    "    datagen = ImageDataGenerator(\n",
    "        featurewise_center=False,  # set input mean to 0 over the dataset\n",
    "        samplewise_center=False,  # set each sample mean to 0\n",
    "        featurewise_std_normalization=False,  # divide inputs by std of the dataset\n",
    "        samplewise_std_normalization=False,  # divide each input by its std\n",
    "        zca_whitening=False,  # apply ZCA whitening\n",
    "        rotation_range=0,  # randomly rotate images in the range (degrees, 0 to 180)\n",
    "        width_shift_range=0.1,  # randomly shift images horizontally (fraction of total width)\n",
    "        height_shift_range=0.1,  # randomly shift images vertically (fraction of total height)\n",
    "        horizontal_flip=True,  # randomly flip images\n",
    "        vertical_flip=False)  # randomly flip images\n",
    "\n",
    "    # compute quantities required for featurewise normalization\n",
    "    # (std, mean, and principal components if ZCA whitening is applied)\n",
    "    datagen.fit(X_train)\n",
    "    print(X_train.shape)\n",
    "    # fit the model on the batches generated by datagen.flow()\n",
    "    model.fit_generator(datagen.flow(X_train, Y_train,\n",
    "                        batch_size=batch_size),\n",
    "                        samples_per_epoch=X_train.shape[0],\n",
    "                        nb_epoch=nb_epoch,\n",
    "                        validation_data=(X_test, Y_test))\n",
    "\n"
   ]
  },
  {
   "cell_type": "code",
   "execution_count": 47,
   "metadata": {
    "collapsed": false
   },
   "outputs": [
    {
     "name": "stdout",
     "output_type": "stream",
     "text": [
      "49984/50000 [============================>.] - ETA: 0sFirst few predictions:  [6 9 9]\n",
      "Training accuracy: 0.94222\n",
      "10000/10000 [==============================] - 3s     \n",
      "Test accuracy: 0.7123\n"
     ]
    }
   ],
   "source": [
    "y_train_pred = model.predict_classes(X_train, verbose=True)\n",
    "print('First few predictions: ', y_train_pred[:3])\n",
    "#print(y_train,y_train_pred)\n",
    "\n",
    "train_acc = accuracy_score(y_train, y_train_pred)\n",
    "print('Training accuracy:', train_acc)\n",
    "\n",
    "y_test_pred = model.predict_classes(X_test, verbose=True)\n",
    "test_acc = accuracy_score(y_test, y_test_pred)\n",
    "print('Test accuracy:', test_acc)\n"
   ]
  },
  {
   "cell_type": "markdown",
   "metadata": {},
   "source": [
    "## Results and improvement:\n",
    "\n",
    "As we can see from the above training example, The very high training accuracy doesn't correspond to a equally high \n",
    "\n",
    "test accuracy rate. It's caused by overfitting and we could improve our model by adding dropout layers, which are \n",
    "\n",
    "designed to promote this. Besides ,we choose to use data augmentation below and this will also help by making the \n",
    "\n",
    "same image a little bit different in each epoch in order to  make our training process more generalized. "
   ]
  },
  {
   "cell_type": "code",
   "execution_count": 51,
   "metadata": {
    "collapsed": false
   },
   "outputs": [
    {
     "name": "stdout",
     "output_type": "stream",
     "text": [
      "Using real-time data augmentation.\n",
      "(50000, 3, 32, 32)\n",
      "Epoch 1/200\n",
      "50000/50000 [==============================] - 87s - loss: 2.2112 - acc: 0.1709 - val_loss: 2.0959 - val_acc: 0.2299\n",
      "Epoch 2/200\n",
      "50000/50000 [==============================] - 79s - loss: 2.0147 - acc: 0.2509 - val_loss: 1.9154 - val_acc: 0.3158\n",
      "Epoch 3/200\n",
      "50000/50000 [==============================] - 79s - loss: 1.8850 - acc: 0.3117 - val_loss: 1.7768 - val_acc: 0.3741\n",
      "Epoch 4/200\n",
      "50000/50000 [==============================] - 76s - loss: 1.7516 - acc: 0.3626 - val_loss: 1.7474 - val_acc: 0.3794\n",
      "Epoch 5/200\n",
      "50000/50000 [==============================] - 76s - loss: 1.6528 - acc: 0.3988 - val_loss: 1.6373 - val_acc: 0.4180\n",
      "Epoch 6/200\n",
      "50000/50000 [==============================] - 76s - loss: 1.5882 - acc: 0.4250 - val_loss: 1.5027 - val_acc: 0.4679\n",
      "Epoch 7/200\n",
      "50000/50000 [==============================] - 77s - loss: 1.5459 - acc: 0.4412 - val_loss: 1.4583 - val_acc: 0.4966\n",
      "Epoch 8/200\n",
      "50000/50000 [==============================] - 76s - loss: 1.5038 - acc: 0.4583 - val_loss: 1.5581 - val_acc: 0.4552\n",
      "Epoch 9/200\n",
      "50000/50000 [==============================] - 77s - loss: 1.4766 - acc: 0.4691 - val_loss: 1.4147 - val_acc: 0.5076\n",
      "Epoch 10/200\n",
      "50000/50000 [==============================] - 77s - loss: 1.4478 - acc: 0.4787 - val_loss: 1.4953 - val_acc: 0.4629\n",
      "Epoch 11/200\n",
      "50000/50000 [==============================] - 76s - loss: 1.4272 - acc: 0.4872 - val_loss: 1.4191 - val_acc: 0.4933\n",
      "Epoch 12/200\n",
      "50000/50000 [==============================] - 77s - loss: 1.4011 - acc: 0.4947 - val_loss: 1.3460 - val_acc: 0.5218\n",
      "Epoch 13/200\n",
      "50000/50000 [==============================] - 76s - loss: 1.3778 - acc: 0.5024 - val_loss: 1.4121 - val_acc: 0.4897\n",
      "Epoch 14/200\n",
      "50000/50000 [==============================] - 76s - loss: 1.3567 - acc: 0.5143 - val_loss: 1.5236 - val_acc: 0.4516\n",
      "Epoch 15/200\n",
      "50000/50000 [==============================] - 77s - loss: 1.3356 - acc: 0.5195 - val_loss: 1.3953 - val_acc: 0.4971\n",
      "Epoch 16/200\n",
      "50000/50000 [==============================] - 78s - loss: 1.3182 - acc: 0.5273 - val_loss: 1.5446 - val_acc: 0.4560\n",
      "Epoch 17/200\n",
      "50000/50000 [==============================] - 78s - loss: 1.3038 - acc: 0.5312 - val_loss: 1.4056 - val_acc: 0.5039\n",
      "Epoch 18/200\n",
      "50000/50000 [==============================] - 76s - loss: 1.2805 - acc: 0.5428 - val_loss: 1.4149 - val_acc: 0.4922\n",
      "Epoch 19/200\n",
      "50000/50000 [==============================] - 78s - loss: 1.2634 - acc: 0.5507 - val_loss: 1.3963 - val_acc: 0.4941\n",
      "Epoch 20/200\n",
      "50000/50000 [==============================] - 79s - loss: 1.2486 - acc: 0.5546 - val_loss: 1.3369 - val_acc: 0.5216\n",
      "Epoch 21/200\n",
      "50000/50000 [==============================] - 80s - loss: 1.2345 - acc: 0.5617 - val_loss: 1.3358 - val_acc: 0.5199\n",
      "Epoch 22/200\n",
      "50000/50000 [==============================] - 78s - loss: 1.2173 - acc: 0.5648 - val_loss: 1.4202 - val_acc: 0.4915\n",
      "Epoch 23/200\n",
      "50000/50000 [==============================] - 79s - loss: 1.2092 - acc: 0.5718 - val_loss: 1.4975 - val_acc: 0.4776\n",
      "Epoch 24/200\n",
      "50000/50000 [==============================] - 81s - loss: 1.1947 - acc: 0.5755 - val_loss: 1.3297 - val_acc: 0.5272\n",
      "Epoch 25/200\n",
      "50000/50000 [==============================] - 79s - loss: 1.1779 - acc: 0.5836 - val_loss: 1.3639 - val_acc: 0.5098\n",
      "Epoch 26/200\n",
      "50000/50000 [==============================] - 81s - loss: 1.1682 - acc: 0.5848 - val_loss: 1.3340 - val_acc: 0.5289\n",
      "Epoch 27/200\n",
      "50000/50000 [==============================] - 80s - loss: 1.1547 - acc: 0.5928 - val_loss: 1.3289 - val_acc: 0.5380\n",
      "Epoch 28/200\n",
      "50000/50000 [==============================] - 81s - loss: 1.1428 - acc: 0.5956 - val_loss: 1.3661 - val_acc: 0.5043\n",
      "Epoch 29/200\n",
      "50000/50000 [==============================] - 82s - loss: 1.1334 - acc: 0.5967 - val_loss: 1.3335 - val_acc: 0.5183\n",
      "Epoch 30/200\n",
      "50000/50000 [==============================] - 81s - loss: 1.1210 - acc: 0.6029 - val_loss: 1.3364 - val_acc: 0.5178\n",
      "Epoch 31/200\n",
      "50000/50000 [==============================] - 82s - loss: 1.1081 - acc: 0.6095 - val_loss: 1.3526 - val_acc: 0.5194\n",
      "Epoch 32/200\n",
      "50000/50000 [==============================] - 81s - loss: 1.1011 - acc: 0.6111 - val_loss: 1.4030 - val_acc: 0.5014\n",
      "Epoch 33/200\n",
      "50000/50000 [==============================] - 83s - loss: 1.0950 - acc: 0.6138 - val_loss: 1.2887 - val_acc: 0.5433\n",
      "Epoch 34/200\n",
      "50000/50000 [==============================] - 82s - loss: 1.0822 - acc: 0.6188 - val_loss: 1.2168 - val_acc: 0.5658\n",
      "Epoch 35/200\n",
      "50000/50000 [==============================] - 82s - loss: 1.0674 - acc: 0.6224 - val_loss: 1.2822 - val_acc: 0.5540\n",
      "Epoch 36/200\n",
      "50000/50000 [==============================] - 83s - loss: 1.0618 - acc: 0.6245 - val_loss: 1.2409 - val_acc: 0.5602\n",
      "Epoch 37/200\n",
      "50000/50000 [==============================] - 83s - loss: 1.0555 - acc: 0.6279 - val_loss: 1.2651 - val_acc: 0.5600\n",
      "Epoch 38/200\n",
      "50000/50000 [==============================] - 82s - loss: 1.0442 - acc: 0.6324 - val_loss: 1.3159 - val_acc: 0.5394\n",
      "Epoch 39/200\n",
      "50000/50000 [==============================] - 83s - loss: 1.0372 - acc: 0.6339 - val_loss: 1.2496 - val_acc: 0.5433\n",
      "Epoch 40/200\n",
      "50000/50000 [==============================] - 84s - loss: 1.0311 - acc: 0.6376 - val_loss: 1.3647 - val_acc: 0.5144\n",
      "Epoch 41/200\n",
      "50000/50000 [==============================] - 85s - loss: 1.0222 - acc: 0.6420 - val_loss: 1.2205 - val_acc: 0.5680\n",
      "Epoch 42/200\n",
      "50000/50000 [==============================] - 83s - loss: 1.0151 - acc: 0.6441 - val_loss: 1.2629 - val_acc: 0.5535\n",
      "Epoch 43/200\n",
      "50000/50000 [==============================] - 83s - loss: 1.0073 - acc: 0.6446 - val_loss: 1.2164 - val_acc: 0.5609\n",
      "Epoch 44/200\n",
      "50000/50000 [==============================] - 84s - loss: 0.9966 - acc: 0.6507 - val_loss: 1.3243 - val_acc: 0.5401\n",
      "Epoch 45/200\n",
      "50000/50000 [==============================] - 85s - loss: 0.9906 - acc: 0.6515 - val_loss: 1.2236 - val_acc: 0.5735\n",
      "Epoch 46/200\n",
      "50000/50000 [==============================] - 84s - loss: 0.9849 - acc: 0.6537 - val_loss: 1.3239 - val_acc: 0.5370\n",
      "Epoch 47/200\n",
      "50000/50000 [==============================] - 85s - loss: 0.9852 - acc: 0.6548 - val_loss: 1.2112 - val_acc: 0.5658\n",
      "Epoch 48/200\n",
      "50000/50000 [==============================] - 85s - loss: 0.9672 - acc: 0.6603 - val_loss: 1.2273 - val_acc: 0.5753\n",
      "Epoch 49/200\n",
      "50000/50000 [==============================] - 84s - loss: 0.9657 - acc: 0.6593 - val_loss: 1.2606 - val_acc: 0.5690\n",
      "Epoch 50/200\n",
      "50000/50000 [==============================] - 84s - loss: 0.9578 - acc: 0.6635 - val_loss: 1.2088 - val_acc: 0.5799\n",
      "Epoch 51/200\n",
      "50000/50000 [==============================] - 84s - loss: 0.9532 - acc: 0.6626 - val_loss: 1.2740 - val_acc: 0.5583\n",
      "Epoch 52/200\n",
      "50000/50000 [==============================] - 84s - loss: 0.9462 - acc: 0.6698 - val_loss: 1.1111 - val_acc: 0.6175\n",
      "Epoch 53/200\n",
      "50000/50000 [==============================] - 84s - loss: 0.9410 - acc: 0.6680 - val_loss: 1.2368 - val_acc: 0.5808\n",
      "Epoch 54/200\n",
      "50000/50000 [==============================] - 85s - loss: 0.9470 - acc: 0.6668 - val_loss: 1.1803 - val_acc: 0.5960\n",
      "Epoch 55/200\n",
      "50000/50000 [==============================] - 83s - loss: 0.9360 - acc: 0.6713 - val_loss: 1.1811 - val_acc: 0.5897\n",
      "Epoch 56/200\n",
      "50000/50000 [==============================] - 84s - loss: 0.9217 - acc: 0.6771 - val_loss: 1.1783 - val_acc: 0.5879\n",
      "Epoch 57/200\n",
      "50000/50000 [==============================] - 86s - loss: 0.9247 - acc: 0.6743 - val_loss: 1.1281 - val_acc: 0.6132\n",
      "Epoch 58/200\n",
      "50000/50000 [==============================] - 83s - loss: 0.9136 - acc: 0.6776 - val_loss: 1.1051 - val_acc: 0.6158\n",
      "Epoch 59/200\n",
      "50000/50000 [==============================] - 83s - loss: 0.9126 - acc: 0.6795 - val_loss: 1.0764 - val_acc: 0.6236\n",
      "Epoch 60/200\n",
      "50000/50000 [==============================] - 83s - loss: 0.9056 - acc: 0.6819 - val_loss: 1.0734 - val_acc: 0.6260\n",
      "Epoch 61/200\n",
      "50000/50000 [==============================] - 84s - loss: 0.9008 - acc: 0.6838 - val_loss: 1.2429 - val_acc: 0.5801\n",
      "Epoch 62/200\n",
      "50000/50000 [==============================] - 84s - loss: 0.8967 - acc: 0.6845 - val_loss: 1.1181 - val_acc: 0.6112\n",
      "Epoch 63/200\n",
      "50000/50000 [==============================] - 83s - loss: 0.8950 - acc: 0.6854 - val_loss: 1.0873 - val_acc: 0.6208\n",
      "Epoch 64/200\n",
      "50000/50000 [==============================] - 86s - loss: 0.8888 - acc: 0.6854 - val_loss: 1.1192 - val_acc: 0.6154\n",
      "Epoch 65/200\n",
      "50000/50000 [==============================] - 84s - loss: 0.8842 - acc: 0.6852 - val_loss: 1.1203 - val_acc: 0.6138\n",
      "Epoch 66/200\n",
      "50000/50000 [==============================] - 83s - loss: 0.8797 - acc: 0.6912 - val_loss: 1.0629 - val_acc: 0.6299\n",
      "Epoch 67/200\n",
      "50000/50000 [==============================] - 84s - loss: 0.8777 - acc: 0.6932 - val_loss: 0.9998 - val_acc: 0.6497\n",
      "Epoch 68/200\n",
      "50000/50000 [==============================] - 84s - loss: 0.8685 - acc: 0.6966 - val_loss: 1.1611 - val_acc: 0.5995\n",
      "Epoch 69/200\n",
      "50000/50000 [==============================] - 84s - loss: 0.8684 - acc: 0.6936 - val_loss: 1.0884 - val_acc: 0.6233\n",
      "Epoch 70/200\n",
      "50000/50000 [==============================] - 85s - loss: 0.8640 - acc: 0.6954 - val_loss: 1.0691 - val_acc: 0.6325\n",
      "Epoch 71/200\n",
      "50000/50000 [==============================] - 85s - loss: 0.8591 - acc: 0.6973 - val_loss: 1.0625 - val_acc: 0.6379\n",
      "Epoch 72/200\n",
      "50000/50000 [==============================] - 84s - loss: 0.8584 - acc: 0.7001 - val_loss: 1.1186 - val_acc: 0.6106\n",
      "Epoch 73/200\n",
      "50000/50000 [==============================] - 84s - loss: 0.8443 - acc: 0.7031 - val_loss: 1.1919 - val_acc: 0.5947\n",
      "Epoch 74/200\n",
      "50000/50000 [==============================] - 84s - loss: 0.8466 - acc: 0.7014 - val_loss: 1.1464 - val_acc: 0.6022\n",
      "Epoch 75/200\n",
      "50000/50000 [==============================] - 84s - loss: 0.8439 - acc: 0.7045 - val_loss: 1.0722 - val_acc: 0.6301\n",
      "Epoch 76/200\n",
      "50000/50000 [==============================] - 86s - loss: 0.8471 - acc: 0.7015 - val_loss: 1.0323 - val_acc: 0.6444\n",
      "Epoch 77/200\n",
      "50000/50000 [==============================] - 84s - loss: 0.8346 - acc: 0.7076 - val_loss: 1.2017 - val_acc: 0.5979\n",
      "Epoch 78/200\n",
      "50000/50000 [==============================] - 85s - loss: 0.8386 - acc: 0.7072 - val_loss: 1.1313 - val_acc: 0.6206\n",
      "Epoch 79/200\n",
      "50000/50000 [==============================] - 85s - loss: 0.8303 - acc: 0.7108 - val_loss: 1.2409 - val_acc: 0.5914\n",
      "Epoch 80/200\n",
      "50000/50000 [==============================] - 83s - loss: 0.8273 - acc: 0.7086 - val_loss: 1.0952 - val_acc: 0.6263\n",
      "Epoch 81/200\n",
      "50000/50000 [==============================] - 86s - loss: 0.8214 - acc: 0.7127 - val_loss: 1.1628 - val_acc: 0.6034\n",
      "Epoch 82/200\n",
      "50000/50000 [==============================] - 84s - loss: 0.8183 - acc: 0.7133 - val_loss: 1.0884 - val_acc: 0.6275\n",
      "Epoch 83/200\n",
      "50000/50000 [==============================] - 85s - loss: 0.8124 - acc: 0.7149 - val_loss: 1.0285 - val_acc: 0.6492\n",
      "Epoch 84/200\n",
      "50000/50000 [==============================] - 84s - loss: 0.8197 - acc: 0.7126 - val_loss: 1.1433 - val_acc: 0.6121\n",
      "Epoch 85/200\n",
      "50000/50000 [==============================] - 85s - loss: 0.8108 - acc: 0.7177 - val_loss: 0.9832 - val_acc: 0.6583\n",
      "Epoch 86/200\n",
      "50000/50000 [==============================] - 84s - loss: 0.8100 - acc: 0.7163 - val_loss: 1.0967 - val_acc: 0.6204\n",
      "Epoch 87/200\n",
      "50000/50000 [==============================] - 84s - loss: 0.8062 - acc: 0.7176 - val_loss: 1.0834 - val_acc: 0.6311\n",
      "Epoch 88/200\n",
      "50000/50000 [==============================] - 84s - loss: 0.8069 - acc: 0.7167 - val_loss: 1.0996 - val_acc: 0.6262\n",
      "Epoch 89/200\n",
      "50000/50000 [==============================] - 86s - loss: 0.7995 - acc: 0.7188 - val_loss: 1.0098 - val_acc: 0.6569\n",
      "Epoch 90/200\n",
      "50000/50000 [==============================] - 85s - loss: 0.8010 - acc: 0.7178 - val_loss: 1.0113 - val_acc: 0.6508\n",
      "Epoch 91/200\n",
      "50000/50000 [==============================] - 85s - loss: 0.7944 - acc: 0.7214 - val_loss: 0.9912 - val_acc: 0.6614\n",
      "Epoch 92/200\n",
      "50000/50000 [==============================] - 85s - loss: 0.7935 - acc: 0.7206 - val_loss: 1.1072 - val_acc: 0.6256\n",
      "Epoch 93/200\n",
      "50000/50000 [==============================] - 85s - loss: 0.7915 - acc: 0.7233 - val_loss: 0.9859 - val_acc: 0.6618\n",
      "Epoch 94/200\n",
      "50000/50000 [==============================] - 85s - loss: 0.7890 - acc: 0.7243 - val_loss: 1.0805 - val_acc: 0.6380\n",
      "Epoch 95/200\n",
      "50000/50000 [==============================] - 85s - loss: 0.7819 - acc: 0.7263 - val_loss: 1.0425 - val_acc: 0.6392\n",
      "Epoch 96/200\n",
      "50000/50000 [==============================] - 83s - loss: 0.7831 - acc: 0.7242 - val_loss: 1.0779 - val_acc: 0.6280\n",
      "Epoch 97/200\n",
      "50000/50000 [==============================] - 84s - loss: 0.7799 - acc: 0.7264 - val_loss: 1.0989 - val_acc: 0.6181\n",
      "Epoch 98/200\n",
      "50000/50000 [==============================] - 84s - loss: 0.7768 - acc: 0.7281 - val_loss: 1.1468 - val_acc: 0.6157\n",
      "Epoch 99/200\n",
      "50000/50000 [==============================] - 84s - loss: 0.7764 - acc: 0.7278 - val_loss: 0.9336 - val_acc: 0.6742\n",
      "Epoch 100/200\n",
      "50000/50000 [==============================] - 85s - loss: 0.7733 - acc: 0.7284 - val_loss: 1.0332 - val_acc: 0.6461\n",
      "Epoch 101/200\n",
      "50000/50000 [==============================] - 85s - loss: 0.7690 - acc: 0.7292 - val_loss: 1.0551 - val_acc: 0.6377\n",
      "Epoch 102/200\n",
      "50000/50000 [==============================] - 85s - loss: 0.7693 - acc: 0.7285 - val_loss: 1.0097 - val_acc: 0.6558\n",
      "Epoch 103/200\n",
      "50000/50000 [==============================] - 86s - loss: 0.7667 - acc: 0.7289 - val_loss: 0.9341 - val_acc: 0.6773\n",
      "Epoch 104/200\n",
      "50000/50000 [==============================] - 85s - loss: 0.7675 - acc: 0.7292 - val_loss: 1.0481 - val_acc: 0.6441\n",
      "Epoch 105/200\n",
      "50000/50000 [==============================] - 86s - loss: 0.7586 - acc: 0.7334 - val_loss: 0.9245 - val_acc: 0.6817\n",
      "Epoch 106/200\n",
      "50000/50000 [==============================] - 85s - loss: 0.7593 - acc: 0.7349 - val_loss: 1.1762 - val_acc: 0.6141\n",
      "Epoch 107/200\n",
      "50000/50000 [==============================] - 86s - loss: 0.7553 - acc: 0.7347 - val_loss: 0.9639 - val_acc: 0.6676\n",
      "Epoch 108/200\n",
      "50000/50000 [==============================] - 86s - loss: 0.7531 - acc: 0.7350 - val_loss: 1.0270 - val_acc: 0.6503\n",
      "Epoch 109/200\n",
      "50000/50000 [==============================] - 85s - loss: 0.7537 - acc: 0.7348 - val_loss: 1.1011 - val_acc: 0.6293\n",
      "Epoch 110/200\n",
      "50000/50000 [==============================] - 86s - loss: 0.7471 - acc: 0.7368 - val_loss: 1.0464 - val_acc: 0.6457\n",
      "Epoch 111/200\n",
      "50000/50000 [==============================] - 84s - loss: 0.7441 - acc: 0.7391 - val_loss: 1.0821 - val_acc: 0.6369\n",
      "Epoch 112/200\n",
      "50000/50000 [==============================] - 85s - loss: 0.7479 - acc: 0.7364 - val_loss: 0.9939 - val_acc: 0.6615\n",
      "Epoch 113/200\n",
      "50000/50000 [==============================] - 84s - loss: 0.7449 - acc: 0.7377 - val_loss: 0.9048 - val_acc: 0.6860\n",
      "Epoch 114/200\n",
      "50000/50000 [==============================] - 84s - loss: 0.7455 - acc: 0.7387 - val_loss: 0.9233 - val_acc: 0.6837\n",
      "Epoch 115/200\n",
      "50000/50000 [==============================] - 86s - loss: 0.7400 - acc: 0.7411 - val_loss: 0.9501 - val_acc: 0.6688\n",
      "Epoch 116/200\n",
      "50000/50000 [==============================] - 86s - loss: 0.7438 - acc: 0.7397 - val_loss: 0.8539 - val_acc: 0.7005\n",
      "Epoch 117/200\n",
      "50000/50000 [==============================] - 85s - loss: 0.7373 - acc: 0.7408 - val_loss: 1.0001 - val_acc: 0.6610\n",
      "Epoch 118/200\n",
      "50000/50000 [==============================] - 84s - loss: 0.7373 - acc: 0.7425 - val_loss: 0.9875 - val_acc: 0.6625\n",
      "Epoch 119/200\n",
      "50000/50000 [==============================] - 85s - loss: 0.7354 - acc: 0.7417 - val_loss: 0.9530 - val_acc: 0.6701\n",
      "Epoch 120/200\n",
      "50000/50000 [==============================] - 86s - loss: 0.7302 - acc: 0.7434 - val_loss: 1.0343 - val_acc: 0.6478\n",
      "Epoch 121/200\n",
      "50000/50000 [==============================] - 86s - loss: 0.7325 - acc: 0.7441 - val_loss: 0.9575 - val_acc: 0.6721\n",
      "Epoch 122/200\n",
      "50000/50000 [==============================] - 85s - loss: 0.7267 - acc: 0.7461 - val_loss: 0.9659 - val_acc: 0.6655\n",
      "Epoch 123/200\n",
      "50000/50000 [==============================] - 86s - loss: 0.7262 - acc: 0.7457 - val_loss: 0.9349 - val_acc: 0.6771\n",
      "Epoch 124/200\n",
      "50000/50000 [==============================] - 86s - loss: 0.7284 - acc: 0.7431 - val_loss: 0.9226 - val_acc: 0.6799\n",
      "Epoch 125/200\n",
      "50000/50000 [==============================] - 85s - loss: 0.7224 - acc: 0.7466 - val_loss: 0.9022 - val_acc: 0.6844\n",
      "Epoch 126/200\n",
      "50000/50000 [==============================] - 86s - loss: 0.7224 - acc: 0.7479 - val_loss: 0.9163 - val_acc: 0.6841\n",
      "Epoch 127/200\n",
      "50000/50000 [==============================] - 86s - loss: 0.7221 - acc: 0.7453 - val_loss: 0.9349 - val_acc: 0.6845\n",
      "Epoch 128/200\n",
      "50000/50000 [==============================] - 86s - loss: 0.7194 - acc: 0.7484 - val_loss: 0.9916 - val_acc: 0.6633\n",
      "Epoch 129/200\n",
      "50000/50000 [==============================] - 88s - loss: 0.7215 - acc: 0.7450 - val_loss: 0.9166 - val_acc: 0.6855\n",
      "Epoch 130/200\n",
      "50000/50000 [==============================] - 86s - loss: 0.7186 - acc: 0.7457 - val_loss: 0.8662 - val_acc: 0.7035\n",
      "Epoch 131/200\n",
      "50000/50000 [==============================] - 85s - loss: 0.7231 - acc: 0.7462 - val_loss: 0.9616 - val_acc: 0.6721\n",
      "Epoch 132/200\n",
      "50000/50000 [==============================] - 85s - loss: 0.7131 - acc: 0.7497 - val_loss: 0.9193 - val_acc: 0.6833\n",
      "Epoch 133/200\n",
      "50000/50000 [==============================] - 87s - loss: 0.7125 - acc: 0.7503 - val_loss: 0.8979 - val_acc: 0.6884\n",
      "Epoch 134/200\n",
      "50000/50000 [==============================] - 85s - loss: 0.7147 - acc: 0.7486 - val_loss: 0.9974 - val_acc: 0.6616\n",
      "Epoch 135/200\n",
      "50000/50000 [==============================] - 86s - loss: 0.7134 - acc: 0.7492 - val_loss: 0.9761 - val_acc: 0.6664\n",
      "Epoch 136/200\n",
      "50000/50000 [==============================] - 86s - loss: 0.7082 - acc: 0.7513 - val_loss: 0.9636 - val_acc: 0.6701\n",
      "Epoch 137/200\n",
      "50000/50000 [==============================] - 87s - loss: 0.7063 - acc: 0.7503 - val_loss: 0.9248 - val_acc: 0.6802\n",
      "Epoch 138/200\n",
      "50000/50000 [==============================] - 87s - loss: 0.7091 - acc: 0.7488 - val_loss: 0.9964 - val_acc: 0.6639\n",
      "Epoch 139/200\n",
      "50000/50000 [==============================] - 86s - loss: 0.7055 - acc: 0.7505 - val_loss: 0.9183 - val_acc: 0.6845\n",
      "Epoch 140/200\n",
      "50000/50000 [==============================] - 85s - loss: 0.7018 - acc: 0.7523 - val_loss: 0.9044 - val_acc: 0.6872\n",
      "Epoch 141/200\n",
      "50000/50000 [==============================] - 85s - loss: 0.7009 - acc: 0.7535 - val_loss: 0.9344 - val_acc: 0.6805\n",
      "Epoch 142/200\n",
      "50000/50000 [==============================] - 86s - loss: 0.6972 - acc: 0.7554 - val_loss: 0.9056 - val_acc: 0.6877\n",
      "Epoch 143/200\n",
      "50000/50000 [==============================] - 85s - loss: 0.7004 - acc: 0.7547 - val_loss: 0.8307 - val_acc: 0.7096\n",
      "Epoch 144/200\n",
      "50000/50000 [==============================] - 86s - loss: 0.7029 - acc: 0.7533 - val_loss: 0.9058 - val_acc: 0.6886\n",
      "Epoch 145/200\n",
      "50000/50000 [==============================] - 87s - loss: 0.7005 - acc: 0.7553 - val_loss: 0.9656 - val_acc: 0.6718\n",
      "Epoch 146/200\n",
      "50000/50000 [==============================] - 85s - loss: 0.6972 - acc: 0.7539 - val_loss: 0.8586 - val_acc: 0.7032\n",
      "Epoch 147/200\n",
      "50000/50000 [==============================] - 87s - loss: 0.6902 - acc: 0.7571 - val_loss: 0.9611 - val_acc: 0.6715\n",
      "Epoch 148/200\n",
      "50000/50000 [==============================] - 86s - loss: 0.6926 - acc: 0.7559 - val_loss: 0.9202 - val_acc: 0.6864\n",
      "Epoch 149/200\n",
      "50000/50000 [==============================] - 86s - loss: 0.6943 - acc: 0.7561 - val_loss: 0.9138 - val_acc: 0.6832\n",
      "Epoch 150/200\n",
      "50000/50000 [==============================] - 88s - loss: 0.6905 - acc: 0.7565 - val_loss: 0.9986 - val_acc: 0.6683\n",
      "Epoch 151/200\n",
      "50000/50000 [==============================] - 86s - loss: 0.6918 - acc: 0.7560 - val_loss: 0.9159 - val_acc: 0.6893\n",
      "Epoch 152/200\n",
      "50000/50000 [==============================] - 85s - loss: 0.6890 - acc: 0.7578 - val_loss: 0.9941 - val_acc: 0.6671\n",
      "Epoch 153/200\n",
      "50000/50000 [==============================] - 86s - loss: 0.6896 - acc: 0.7585 - val_loss: 1.0085 - val_acc: 0.6652\n",
      "Epoch 154/200\n",
      "50000/50000 [==============================] - 86s - loss: 0.6879 - acc: 0.7591 - val_loss: 0.9606 - val_acc: 0.6738\n",
      "Epoch 155/200\n",
      "50000/50000 [==============================] - 87s - loss: 0.6802 - acc: 0.7585 - val_loss: 0.8063 - val_acc: 0.7208\n",
      "Epoch 156/200\n",
      "50000/50000 [==============================] - 88s - loss: 0.6888 - acc: 0.7574 - val_loss: 0.8407 - val_acc: 0.7104\n",
      "Epoch 157/200\n",
      "50000/50000 [==============================] - 86s - loss: 0.6797 - acc: 0.7623 - val_loss: 0.9173 - val_acc: 0.6889\n",
      "Epoch 158/200\n",
      "50000/50000 [==============================] - 88s - loss: 0.6785 - acc: 0.7609 - val_loss: 0.9503 - val_acc: 0.6759\n",
      "Epoch 159/200\n",
      "50000/50000 [==============================] - 86s - loss: 0.6787 - acc: 0.7613 - val_loss: 0.8902 - val_acc: 0.6957\n",
      "Epoch 160/200\n",
      "50000/50000 [==============================] - 88s - loss: 0.6881 - acc: 0.7556 - val_loss: 1.0078 - val_acc: 0.6595\n",
      "Epoch 161/200\n",
      "50000/50000 [==============================] - 87s - loss: 0.6780 - acc: 0.7602 - val_loss: 0.9599 - val_acc: 0.6755\n",
      "Epoch 162/200\n",
      "50000/50000 [==============================] - 88s - loss: 0.6721 - acc: 0.7612 - val_loss: 0.8503 - val_acc: 0.7088\n",
      "Epoch 163/200\n",
      "50000/50000 [==============================] - 85s - loss: 0.6787 - acc: 0.7598 - val_loss: 0.8780 - val_acc: 0.6967\n",
      "Epoch 164/200\n",
      "50000/50000 [==============================] - 86s - loss: 0.6776 - acc: 0.7615 - val_loss: 0.8698 - val_acc: 0.7004\n",
      "Epoch 165/200\n",
      "50000/50000 [==============================] - 87s - loss: 0.6747 - acc: 0.7638 - val_loss: 0.9639 - val_acc: 0.6757\n",
      "Epoch 166/200\n",
      "50000/50000 [==============================] - 87s - loss: 0.6715 - acc: 0.7624 - val_loss: 0.8981 - val_acc: 0.6908\n",
      "Epoch 167/200\n",
      "50000/50000 [==============================] - 87s - loss: 0.6745 - acc: 0.7611 - val_loss: 0.9442 - val_acc: 0.6806\n",
      "Epoch 168/200\n",
      "50000/50000 [==============================] - 88s - loss: 0.6742 - acc: 0.7620 - val_loss: 0.8203 - val_acc: 0.7134\n",
      "Epoch 169/200\n",
      "50000/50000 [==============================] - 86s - loss: 0.6695 - acc: 0.7635 - val_loss: 0.9082 - val_acc: 0.6901\n",
      "Epoch 170/200\n",
      "50000/50000 [==============================] - 85s - loss: 0.6683 - acc: 0.7630 - val_loss: 0.9724 - val_acc: 0.6759\n",
      "Epoch 171/200\n",
      "50000/50000 [==============================] - 87s - loss: 0.6709 - acc: 0.7630 - val_loss: 0.9222 - val_acc: 0.6831\n",
      "Epoch 172/200\n",
      "50000/50000 [==============================] - 86s - loss: 0.6721 - acc: 0.7637 - val_loss: 0.8803 - val_acc: 0.6969\n",
      "Epoch 173/200\n",
      "50000/50000 [==============================] - 86s - loss: 0.6685 - acc: 0.7675 - val_loss: 0.9300 - val_acc: 0.6796\n",
      "Epoch 174/200\n",
      "50000/50000 [==============================] - 87s - loss: 0.6712 - acc: 0.7658 - val_loss: 0.9200 - val_acc: 0.6904\n",
      "Epoch 175/200\n",
      "50000/50000 [==============================] - 87s - loss: 0.6697 - acc: 0.7635 - val_loss: 0.9669 - val_acc: 0.6726\n",
      "Epoch 176/200\n",
      "50000/50000 [==============================] - 86s - loss: 0.6645 - acc: 0.7661 - val_loss: 0.9255 - val_acc: 0.6886\n",
      "Epoch 177/200\n",
      "50000/50000 [==============================] - 88s - loss: 0.6607 - acc: 0.7681 - val_loss: 0.8881 - val_acc: 0.6966\n",
      "Epoch 178/200\n",
      "50000/50000 [==============================] - 86s - loss: 0.6639 - acc: 0.7672 - val_loss: 1.0020 - val_acc: 0.6686\n",
      "Epoch 179/200\n",
      "50000/50000 [==============================] - 87s - loss: 0.6601 - acc: 0.7657 - val_loss: 0.9933 - val_acc: 0.6692\n",
      "Epoch 180/200\n",
      "50000/50000 [==============================] - 87s - loss: 0.6598 - acc: 0.7685 - val_loss: 0.9321 - val_acc: 0.6834\n",
      "Epoch 181/200\n",
      "50000/50000 [==============================] - 86s - loss: 0.6611 - acc: 0.7670 - val_loss: 0.8627 - val_acc: 0.7032\n",
      "Epoch 182/200\n",
      "50000/50000 [==============================] - 88s - loss: 0.6574 - acc: 0.7689 - val_loss: 0.9256 - val_acc: 0.6888\n",
      "Epoch 183/200\n",
      "50000/50000 [==============================] - 86s - loss: 0.6580 - acc: 0.7688 - val_loss: 0.9014 - val_acc: 0.6899\n",
      "Epoch 184/200\n",
      "50000/50000 [==============================] - 85s - loss: 0.6567 - acc: 0.7698 - val_loss: 0.8522 - val_acc: 0.7089\n",
      "Epoch 185/200\n",
      "50000/50000 [==============================] - 87s - loss: 0.6575 - acc: 0.7685 - val_loss: 0.9416 - val_acc: 0.6821\n",
      "Epoch 186/200\n",
      "50000/50000 [==============================] - 87s - loss: 0.6557 - acc: 0.7687 - val_loss: 0.8757 - val_acc: 0.7006\n",
      "Epoch 187/200\n",
      "50000/50000 [==============================] - 87s - loss: 0.6550 - acc: 0.7692 - val_loss: 0.8906 - val_acc: 0.6957\n",
      "Epoch 188/200\n",
      "50000/50000 [==============================] - 87s - loss: 0.6561 - acc: 0.7687 - val_loss: 0.7889 - val_acc: 0.7247\n",
      "Epoch 189/200\n",
      "50000/50000 [==============================] - 86s - loss: 0.6516 - acc: 0.7707 - val_loss: 0.8299 - val_acc: 0.7196\n",
      "Epoch 190/200\n",
      "50000/50000 [==============================] - 87s - loss: 0.6524 - acc: 0.7695 - val_loss: 0.8211 - val_acc: 0.7228\n",
      "Epoch 191/200\n",
      "50000/50000 [==============================] - 86s - loss: 0.6506 - acc: 0.7697 - val_loss: 0.8434 - val_acc: 0.7096\n",
      "Epoch 192/200\n",
      "50000/50000 [==============================] - 87s - loss: 0.6437 - acc: 0.7738 - val_loss: 0.8752 - val_acc: 0.7046\n",
      "Epoch 193/200\n",
      "50000/50000 [==============================] - 87s - loss: 0.6460 - acc: 0.7712 - val_loss: 0.9416 - val_acc: 0.6819\n",
      "Epoch 194/200\n",
      "50000/50000 [==============================] - 87s - loss: 0.6500 - acc: 0.7697 - val_loss: 0.8477 - val_acc: 0.7101\n",
      "Epoch 195/200\n",
      "50000/50000 [==============================] - 87s - loss: 0.6449 - acc: 0.7720 - val_loss: 0.8753 - val_acc: 0.6989\n",
      "Epoch 196/200\n",
      "50000/50000 [==============================] - 86s - loss: 0.6435 - acc: 0.7741 - val_loss: 0.8459 - val_acc: 0.7097\n",
      "Epoch 197/200\n",
      "50000/50000 [==============================] - 86s - loss: 0.6454 - acc: 0.7723 - val_loss: 0.7856 - val_acc: 0.7294\n",
      "Epoch 198/200\n",
      "50000/50000 [==============================] - 87s - loss: 0.6457 - acc: 0.7712 - val_loss: 0.7969 - val_acc: 0.7257\n",
      "Epoch 199/200\n",
      "50000/50000 [==============================] - 87s - loss: 0.6454 - acc: 0.7731 - val_loss: 0.8020 - val_acc: 0.7228\n",
      "Epoch 200/200\n",
      "50000/50000 [==============================] - 85s - loss: 0.6444 - acc: 0.7735 - val_loss: 0.8234 - val_acc: 0.7143\n"
     ]
    }
   ],
   "source": [
    "nb_epoch = 4\n",
    "model2 = Sequential()\n",
    "\n",
    "model2.add(Dropout(0.2,input_shape=X_train.shape[1:]))\n",
    "model2.add(Convolution2D(32, 3, 3, border_mode = 'same'))\n",
    "model2.add(Activation('relu'))\n",
    "model2.add(Convolution2D(32,3,3))\n",
    "model2.add(Activation('relu'))\n",
    "model2.add(MaxPooling2D(pool_size=(2, 2)))\n",
    "\n",
    "model2.add(Convolution2D(32, 3, 3, border_mode = 'same'))\n",
    "model2.add(Activation('relu'))\n",
    "model2.add(MaxPooling2D(pool_size=(2, 2),border_mode = 'same'))\n",
    "\n",
    "model2.add(Convolution2D(64, 3, 3, border_mode = 'same'))\n",
    "model2.add(Activation('relu'))\n",
    "model2.add(MaxPooling2D(pool_size=(2, 2),border_mode = 'same'))\n",
    "\n",
    "model2.add(Flatten())\n",
    "model2.add(Dense(256))\n",
    "model2.add(Activation('relu'))\n",
    "model2.add(Dropout(0.5))\n",
    "model2.add(Dense(nb_classes))\n",
    "model2.add(Activation('sigmoid'))\n",
    "\n",
    "sgd = SGD(lr = 0.005, decay = 1e-6,momentum = 0.9,nesterov = True)\n",
    "model2.compile(loss='categorical_crossentropy',\n",
    "              optimizer='sgd',\n",
    "              metrics=['accuracy'])\n",
    "\n",
    "data_augmentation = True\n",
    "\n",
    "if not data_augmentation:\n",
    "    print('Not using data augmentation.')\n",
    "    model2.fit(X_train, Y_train,\n",
    "              batch_size=batch_size,\n",
    "              nb_epoch=nb_epoch,\n",
    "              validation_data=(X_test, Y_test),\n",
    "              shuffle=True)\n",
    "else:\n",
    "    print('Using real-time data augmentation.')\n",
    "\n",
    "    # this will do preprocessing and realtime data augmentation\n",
    "    datagen = ImageDataGenerator(\n",
    "        featurewise_center=False,  # set input mean to 0 over the dataset\n",
    "        samplewise_center=False,  # set each sample mean to 0\n",
    "        featurewise_std_normalization=False,  # divide inputs by std of the dataset\n",
    "        samplewise_std_normalization=False,  # divide each input by its std\n",
    "        zca_whitening=False,  # apply ZCA whitening\n",
    "        rotation_range=0,  # randomly rotate images in the range (degrees, 0 to 180)\n",
    "        width_shift_range=0.1,  # randomly shift images horizontally (fraction of total width)\n",
    "        height_shift_range=0.1,  # randomly shift images vertically (fraction of total height)\n",
    "        horizontal_flip=True,  # randomly flip images\n",
    "        vertical_flip=False)  # randomly flip images\n",
    "\n",
    "    # compute quantities required for featurewise normalization\n",
    "    # (std, mean, and principal components if ZCA whitening is applied)\n",
    "    datagen.fit(X_train)\n",
    "    print(X_train.shape)\n",
    "    # fit the model on the batches generated by datagen.flow()\n",
    "    model2.fit_generator(datagen.flow(X_train, Y_train,\n",
    "                        batch_size=batch_size),\n",
    "                        samples_per_epoch=X_train.shape[0],\n",
    "                        nb_epoch=nb_epoch,\n",
    "                        validation_data=(X_test, Y_test))\n",
    "\n"
   ]
  },
  {
   "cell_type": "code",
   "execution_count": 52,
   "metadata": {
    "collapsed": false
   },
   "outputs": [
    {
     "name": "stdout",
     "output_type": "stream",
     "text": [
      "49984/50000 [============================>.] - ETA: 0sFirst few predictions:  [6 9 9]\n",
      "Training accuracy: 0.76542\n",
      " 9984/10000 [============================>.] - ETA: 0sTest accuracy: 0.7143\n"
     ]
    }
   ],
   "source": [
    "y_train_pred = model2.predict_classes(X_train, verbose=True)\n",
    "print('First few predictions: ', y_train_pred[:3])\n",
    "#print(y_train,y_train_pred)\n",
    "\n",
    "train_acc = accuracy_score(y_train, y_train_pred)\n",
    "print('Training accuracy:', train_acc)\n",
    "\n",
    "y_test_pred = model2.predict_classes(X_test, verbose=True)\n",
    "test_acc = accuracy_score(y_test, y_test_pred)\n",
    "print('Test accuracy:', test_acc)\n",
    "\n"
   ]
  },
  {
   "cell_type": "markdown",
   "metadata": {},
   "source": [
    "## Results and improvement:\n",
    "We can see from the above improvement, the overfitting problem has been improved a lot. The training accuracy and \n",
    "\n",
    "the test accuracy has a smaller difference. However, our test accuracy is still not high and we should consider to \n",
    "\n",
    "complicate our neural network and to increase its complexity. We will add some convolution layers and increase the \n",
    "\n",
    "number of nodes in dense layer.     "
   ]
  },
  {
   "cell_type": "code",
   "execution_count": 61,
   "metadata": {
    "collapsed": false
   },
   "outputs": [
    {
     "name": "stdout",
     "output_type": "stream",
     "text": [
      "Using real-time data augmentation.\n",
      "(50000, 3, 32, 32)\n",
      "Epoch 1/200\n",
      "50000/50000 [==============================] - 157s - loss: 2.1398 - acc: 0.2018 - val_loss: 1.9085 - val_acc: 0.3139\n",
      "Epoch 2/200\n",
      "50000/50000 [==============================] - 151s - loss: 1.8601 - acc: 0.3188 - val_loss: 1.6145 - val_acc: 0.4054\n",
      "Epoch 3/200\n",
      "50000/50000 [==============================] - 155s - loss: 1.6615 - acc: 0.3874 - val_loss: 1.5082 - val_acc: 0.4596\n",
      "Epoch 4/200\n",
      "50000/50000 [==============================] - 154s - loss: 1.5511 - acc: 0.4298 - val_loss: 1.4148 - val_acc: 0.5076\n",
      "Epoch 5/200\n",
      "50000/50000 [==============================] - 154s - loss: 1.4609 - acc: 0.4687 - val_loss: 1.3035 - val_acc: 0.5358\n",
      "Epoch 6/200\n",
      "50000/50000 [==============================] - 154s - loss: 1.3899 - acc: 0.4990 - val_loss: 1.2255 - val_acc: 0.5633\n",
      "Epoch 7/200\n",
      "50000/50000 [==============================] - 158s - loss: 1.3230 - acc: 0.5246 - val_loss: 1.1637 - val_acc: 0.5900\n",
      "Epoch 8/200\n",
      "50000/50000 [==============================] - 160s - loss: 1.2664 - acc: 0.5442 - val_loss: 1.1175 - val_acc: 0.6094\n",
      "Epoch 9/200\n",
      "50000/50000 [==============================] - 152s - loss: 1.2180 - acc: 0.5644 - val_loss: 1.0532 - val_acc: 0.6319\n",
      "Epoch 10/200\n",
      "50000/50000 [==============================] - 155s - loss: 1.1724 - acc: 0.5820 - val_loss: 1.0336 - val_acc: 0.6362\n",
      "Epoch 11/200\n",
      "50000/50000 [==============================] - 154s - loss: 1.1295 - acc: 0.5983 - val_loss: 0.9886 - val_acc: 0.6468\n",
      "Epoch 12/200\n",
      "50000/50000 [==============================] - 152s - loss: 1.0939 - acc: 0.6094 - val_loss: 0.9305 - val_acc: 0.6735\n",
      "Epoch 13/200\n",
      "50000/50000 [==============================] - 154s - loss: 1.0546 - acc: 0.6248 - val_loss: 0.9089 - val_acc: 0.6778\n",
      "Epoch 14/200\n",
      "50000/50000 [==============================] - 144s - loss: 1.0267 - acc: 0.6369 - val_loss: 0.8781 - val_acc: 0.6914\n",
      "Epoch 15/200\n",
      "50000/50000 [==============================] - 145s - loss: 0.9959 - acc: 0.6491 - val_loss: 0.9029 - val_acc: 0.6864\n",
      "Epoch 16/200\n",
      "50000/50000 [==============================] - 144s - loss: 0.9643 - acc: 0.6601 - val_loss: 0.8210 - val_acc: 0.7116\n",
      "Epoch 17/200\n",
      "50000/50000 [==============================] - 144s - loss: 0.9426 - acc: 0.6668 - val_loss: 0.7992 - val_acc: 0.7209\n",
      "Epoch 18/200\n",
      "50000/50000 [==============================] - 143s - loss: 0.9212 - acc: 0.6750 - val_loss: 0.7908 - val_acc: 0.7209\n",
      "Epoch 19/200\n",
      "50000/50000 [==============================] - 143s - loss: 0.9052 - acc: 0.6821 - val_loss: 0.7748 - val_acc: 0.7306\n",
      "Epoch 20/200\n",
      "50000/50000 [==============================] - 143s - loss: 0.8834 - acc: 0.6888 - val_loss: 0.7640 - val_acc: 0.7368\n",
      "Epoch 21/200\n",
      "50000/50000 [==============================] - 147s - loss: 0.8717 - acc: 0.6931 - val_loss: 0.7791 - val_acc: 0.7316\n",
      "Epoch 22/200\n",
      "50000/50000 [==============================] - 142s - loss: 0.8470 - acc: 0.6998 - val_loss: 0.7438 - val_acc: 0.7408\n",
      "Epoch 23/200\n",
      "50000/50000 [==============================] - 145s - loss: 0.8348 - acc: 0.7045 - val_loss: 0.7679 - val_acc: 0.7278\n",
      "Epoch 24/200\n",
      "50000/50000 [==============================] - 143s - loss: 0.8215 - acc: 0.7105 - val_loss: 0.7077 - val_acc: 0.7507\n",
      "Epoch 25/200\n",
      "50000/50000 [==============================] - 144s - loss: 0.8141 - acc: 0.7160 - val_loss: 0.6957 - val_acc: 0.7573\n",
      "Epoch 26/200\n",
      "50000/50000 [==============================] - 145s - loss: 0.7981 - acc: 0.7205 - val_loss: 0.7134 - val_acc: 0.7498\n",
      "Epoch 27/200\n",
      "50000/50000 [==============================] - 145s - loss: 0.7841 - acc: 0.7259 - val_loss: 0.6713 - val_acc: 0.7652\n",
      "Epoch 28/200\n",
      "50000/50000 [==============================] - 145s - loss: 0.7819 - acc: 0.7258 - val_loss: 0.7258 - val_acc: 0.7436\n",
      "Epoch 29/200\n",
      "50000/50000 [==============================] - 140s - loss: 0.7648 - acc: 0.7321 - val_loss: 0.6517 - val_acc: 0.7705\n",
      "Epoch 30/200\n",
      "50000/50000 [==============================] - 145s - loss: 0.7563 - acc: 0.7352 - val_loss: 0.6678 - val_acc: 0.7640\n",
      "Epoch 31/200\n",
      "50000/50000 [==============================] - 146s - loss: 0.7475 - acc: 0.7388 - val_loss: 0.6625 - val_acc: 0.7668\n",
      "Epoch 32/200\n",
      "50000/50000 [==============================] - 145s - loss: 0.7364 - acc: 0.7424 - val_loss: 0.6266 - val_acc: 0.7784\n",
      "Epoch 33/200\n",
      "50000/50000 [==============================] - 145s - loss: 0.7306 - acc: 0.7439 - val_loss: 0.6368 - val_acc: 0.7811\n",
      "Epoch 34/200\n",
      "50000/50000 [==============================] - 144s - loss: 0.7216 - acc: 0.7461 - val_loss: 0.6291 - val_acc: 0.7762\n",
      "Epoch 35/200\n",
      "50000/50000 [==============================] - 144s - loss: 0.7106 - acc: 0.7507 - val_loss: 0.6353 - val_acc: 0.7802\n",
      "Epoch 36/200\n",
      "50000/50000 [==============================] - 142s - loss: 0.7058 - acc: 0.7536 - val_loss: 0.6663 - val_acc: 0.7655\n",
      "Epoch 37/200\n",
      "50000/50000 [==============================] - 145s - loss: 0.6965 - acc: 0.7566 - val_loss: 0.6249 - val_acc: 0.7793\n",
      "Epoch 38/200\n",
      "50000/50000 [==============================] - 143s - loss: 0.6909 - acc: 0.7599 - val_loss: 0.5977 - val_acc: 0.7909\n",
      "Epoch 39/200\n",
      "50000/50000 [==============================] - 145s - loss: 0.6803 - acc: 0.7625 - val_loss: 0.5921 - val_acc: 0.7943\n",
      "Epoch 40/200\n",
      "50000/50000 [==============================] - 144s - loss: 0.6754 - acc: 0.7621 - val_loss: 0.6667 - val_acc: 0.7648\n",
      "Epoch 41/200\n",
      "50000/50000 [==============================] - 145s - loss: 0.6720 - acc: 0.7636 - val_loss: 0.5969 - val_acc: 0.7873\n",
      "Epoch 42/200\n",
      "50000/50000 [==============================] - 142s - loss: 0.6591 - acc: 0.7697 - val_loss: 0.6140 - val_acc: 0.7842\n",
      "Epoch 43/200\n",
      "50000/50000 [==============================] - 146s - loss: 0.6596 - acc: 0.7700 - val_loss: 0.5660 - val_acc: 0.8031\n",
      "Epoch 44/200\n",
      "50000/50000 [==============================] - 144s - loss: 0.6516 - acc: 0.7743 - val_loss: 0.5697 - val_acc: 0.7989\n",
      "Epoch 45/200\n",
      "50000/50000 [==============================] - 145s - loss: 0.6453 - acc: 0.7733 - val_loss: 0.5551 - val_acc: 0.8004\n",
      "Epoch 46/200\n",
      "50000/50000 [==============================] - 144s - loss: 0.6426 - acc: 0.7743 - val_loss: 0.5574 - val_acc: 0.8046\n",
      "Epoch 47/200\n",
      "50000/50000 [==============================] - 146s - loss: 0.6401 - acc: 0.7758 - val_loss: 0.5808 - val_acc: 0.7979\n",
      "Epoch 48/200\n",
      "50000/50000 [==============================] - 144s - loss: 0.6330 - acc: 0.7776 - val_loss: 0.5704 - val_acc: 0.8023\n",
      "Epoch 49/200\n",
      "50000/50000 [==============================] - 145s - loss: 0.6252 - acc: 0.7816 - val_loss: 0.5560 - val_acc: 0.8089\n",
      "Epoch 50/200\n",
      "50000/50000 [==============================] - 143s - loss: 0.6216 - acc: 0.7840 - val_loss: 0.5515 - val_acc: 0.8082\n",
      "Epoch 51/200\n",
      "50000/50000 [==============================] - 145s - loss: 0.6149 - acc: 0.7844 - val_loss: 0.5370 - val_acc: 0.8121\n",
      "Epoch 52/200\n",
      "50000/50000 [==============================] - 145s - loss: 0.6150 - acc: 0.7869 - val_loss: 0.5535 - val_acc: 0.8079\n",
      "Epoch 53/200\n",
      "50000/50000 [==============================] - 146s - loss: 0.6065 - acc: 0.7881 - val_loss: 0.5563 - val_acc: 0.8034\n",
      "Epoch 54/200\n",
      "50000/50000 [==============================] - 146s - loss: 0.6055 - acc: 0.7890 - val_loss: 0.5272 - val_acc: 0.8163\n",
      "Epoch 55/200\n",
      "50000/50000 [==============================] - 142s - loss: 0.5983 - acc: 0.7906 - val_loss: 0.5421 - val_acc: 0.8107\n",
      "Epoch 56/200\n",
      "50000/50000 [==============================] - 148s - loss: 0.5907 - acc: 0.7931 - val_loss: 0.5283 - val_acc: 0.8171\n",
      "Epoch 57/200\n",
      "50000/50000 [==============================] - 145s - loss: 0.5858 - acc: 0.7945 - val_loss: 0.5298 - val_acc: 0.8137\n",
      "Epoch 58/200\n",
      "50000/50000 [==============================] - 144s - loss: 0.5894 - acc: 0.7936 - val_loss: 0.5076 - val_acc: 0.8271\n",
      "Epoch 59/200\n",
      "50000/50000 [==============================] - 145s - loss: 0.5846 - acc: 0.7957 - val_loss: 0.5208 - val_acc: 0.8202\n",
      "Epoch 60/200\n",
      "50000/50000 [==============================] - 147s - loss: 0.5773 - acc: 0.7991 - val_loss: 0.5204 - val_acc: 0.8197\n",
      "Epoch 61/200\n",
      "50000/50000 [==============================] - 143s - loss: 0.5824 - acc: 0.7959 - val_loss: 0.5251 - val_acc: 0.8198\n",
      "Epoch 62/200\n",
      "50000/50000 [==============================] - 147s - loss: 0.5695 - acc: 0.8004 - val_loss: 0.5173 - val_acc: 0.8199\n",
      "Epoch 63/200\n",
      "50000/50000 [==============================] - 145s - loss: 0.5672 - acc: 0.8024 - val_loss: 0.5177 - val_acc: 0.8213\n",
      "Epoch 64/200\n",
      "50000/50000 [==============================] - 145s - loss: 0.5642 - acc: 0.8038 - val_loss: 0.5039 - val_acc: 0.8257\n",
      "Epoch 65/200\n",
      "50000/50000 [==============================] - 145s - loss: 0.5566 - acc: 0.8039 - val_loss: 0.5236 - val_acc: 0.8195\n",
      "Epoch 66/200\n",
      "50000/50000 [==============================] - 146s - loss: 0.5616 - acc: 0.8045 - val_loss: 0.5268 - val_acc: 0.8204\n",
      "Epoch 67/200\n",
      "50000/50000 [==============================] - 145s - loss: 0.5582 - acc: 0.8040 - val_loss: 0.5033 - val_acc: 0.8229\n",
      "Epoch 68/200\n",
      "50000/50000 [==============================] - 144s - loss: 0.5541 - acc: 0.8087 - val_loss: 0.4958 - val_acc: 0.8244\n",
      "Epoch 69/200\n",
      "50000/50000 [==============================] - 143s - loss: 0.5527 - acc: 0.8081 - val_loss: 0.4997 - val_acc: 0.8284\n",
      "Epoch 70/200\n",
      "50000/50000 [==============================] - 143s - loss: 0.5445 - acc: 0.8103 - val_loss: 0.4985 - val_acc: 0.8254\n",
      "Epoch 71/200\n",
      "50000/50000 [==============================] - 144s - loss: 0.5460 - acc: 0.8101 - val_loss: 0.5253 - val_acc: 0.8146\n",
      "Epoch 72/200\n",
      "50000/50000 [==============================] - 144s - loss: 0.5436 - acc: 0.8078 - val_loss: 0.5286 - val_acc: 0.8146\n",
      "Epoch 73/200\n",
      "50000/50000 [==============================] - 144s - loss: 0.5391 - acc: 0.8117 - val_loss: 0.4807 - val_acc: 0.8329\n",
      "Epoch 74/200\n",
      "50000/50000 [==============================] - 146s - loss: 0.5380 - acc: 0.8106 - val_loss: 0.4825 - val_acc: 0.8316\n",
      "Epoch 75/200\n",
      "50000/50000 [==============================] - 145s - loss: 0.5328 - acc: 0.8141 - val_loss: 0.4878 - val_acc: 0.8305\n",
      "Epoch 76/200\n",
      "50000/50000 [==============================] - 144s - loss: 0.5337 - acc: 0.8143 - val_loss: 0.4836 - val_acc: 0.8340\n",
      "Epoch 77/200\n",
      "50000/50000 [==============================] - 142s - loss: 0.5251 - acc: 0.8166 - val_loss: 0.4855 - val_acc: 0.8358\n",
      "Epoch 78/200\n",
      "50000/50000 [==============================] - 143s - loss: 0.5200 - acc: 0.8170 - val_loss: 0.4743 - val_acc: 0.8380\n",
      "Epoch 79/200\n",
      "50000/50000 [==============================] - 146s - loss: 0.5201 - acc: 0.8183 - val_loss: 0.4743 - val_acc: 0.8373\n",
      "Epoch 80/200\n",
      "50000/50000 [==============================] - 146s - loss: 0.5201 - acc: 0.8189 - val_loss: 0.4754 - val_acc: 0.8362\n",
      "Epoch 81/200\n",
      "50000/50000 [==============================] - 145s - loss: 0.5139 - acc: 0.8199 - val_loss: 0.4769 - val_acc: 0.8374\n",
      "Epoch 82/200\n",
      "50000/50000 [==============================] - 146s - loss: 0.5156 - acc: 0.8192 - val_loss: 0.4712 - val_acc: 0.8347\n",
      "Epoch 83/200\n",
      "50000/50000 [==============================] - 144s - loss: 0.5165 - acc: 0.8180 - val_loss: 0.4739 - val_acc: 0.8362\n",
      "Epoch 84/200\n",
      "50000/50000 [==============================] - 145s - loss: 0.5126 - acc: 0.8195 - val_loss: 0.4744 - val_acc: 0.8387\n",
      "Epoch 85/200\n",
      "50000/50000 [==============================] - 145s - loss: 0.5043 - acc: 0.8252 - val_loss: 0.4626 - val_acc: 0.8433\n",
      "Epoch 86/200\n",
      "50000/50000 [==============================] - 145s - loss: 0.5017 - acc: 0.8244 - val_loss: 0.4704 - val_acc: 0.8386\n",
      "Epoch 87/200\n",
      "50000/50000 [==============================] - 146s - loss: 0.5052 - acc: 0.8240 - val_loss: 0.4730 - val_acc: 0.8355\n",
      "Epoch 88/200\n",
      "50000/50000 [==============================] - 146s - loss: 0.4997 - acc: 0.8249 - val_loss: 0.4565 - val_acc: 0.8420\n",
      "Epoch 89/200\n",
      "50000/50000 [==============================] - 145s - loss: 0.5039 - acc: 0.8243 - val_loss: 0.4503 - val_acc: 0.8417\n",
      "Epoch 90/200\n",
      "50000/50000 [==============================] - 143s - loss: 0.4946 - acc: 0.8261 - val_loss: 0.4904 - val_acc: 0.8315\n",
      "Epoch 91/200\n",
      "50000/50000 [==============================] - 146s - loss: 0.4945 - acc: 0.8282 - val_loss: 0.4761 - val_acc: 0.8393\n",
      "Epoch 92/200\n",
      "50000/50000 [==============================] - 146s - loss: 0.4941 - acc: 0.8262 - val_loss: 0.4536 - val_acc: 0.8453\n",
      "Epoch 93/200\n",
      "50000/50000 [==============================] - 147s - loss: 0.4852 - acc: 0.8290 - val_loss: 0.4746 - val_acc: 0.8354\n",
      "Epoch 94/200\n",
      "50000/50000 [==============================] - 147s - loss: 0.4842 - acc: 0.8309 - val_loss: 0.4602 - val_acc: 0.8411\n",
      "Epoch 95/200\n",
      "50000/50000 [==============================] - 146s - loss: 0.4927 - acc: 0.8273 - val_loss: 0.4715 - val_acc: 0.8365\n",
      "Epoch 96/200\n",
      "50000/50000 [==============================] - 145s - loss: 0.4870 - acc: 0.8312 - val_loss: 0.4697 - val_acc: 0.8396\n",
      "Epoch 97/200\n",
      "50000/50000 [==============================] - 145s - loss: 0.4823 - acc: 0.8305 - val_loss: 0.4593 - val_acc: 0.8412\n",
      "Epoch 98/200\n",
      "50000/50000 [==============================] - 146s - loss: 0.4822 - acc: 0.8318 - val_loss: 0.4605 - val_acc: 0.8415\n",
      "Epoch 99/200\n",
      "50000/50000 [==============================] - 146s - loss: 0.4788 - acc: 0.8321 - val_loss: 0.4485 - val_acc: 0.8470\n",
      "Epoch 100/200\n",
      "50000/50000 [==============================] - 147s - loss: 0.4761 - acc: 0.8332 - val_loss: 0.4445 - val_acc: 0.8467\n",
      "Epoch 101/200\n",
      "50000/50000 [==============================] - 144s - loss: 0.4695 - acc: 0.8353 - val_loss: 0.4548 - val_acc: 0.8432\n",
      "Epoch 102/200\n",
      "50000/50000 [==============================] - 147s - loss: 0.4699 - acc: 0.8357 - val_loss: 0.4500 - val_acc: 0.8440\n",
      "Epoch 103/200\n",
      "50000/50000 [==============================] - 147s - loss: 0.4695 - acc: 0.8354 - val_loss: 0.4498 - val_acc: 0.8465\n",
      "Epoch 104/200\n",
      "50000/50000 [==============================] - 149s - loss: 0.4702 - acc: 0.8350 - val_loss: 0.4428 - val_acc: 0.8486\n",
      "Epoch 105/200\n",
      "50000/50000 [==============================] - 146s - loss: 0.4669 - acc: 0.8371 - val_loss: 0.4593 - val_acc: 0.8432\n",
      "Epoch 106/200\n",
      "50000/50000 [==============================] - 147s - loss: 0.4637 - acc: 0.8376 - val_loss: 0.4581 - val_acc: 0.8442\n",
      "Epoch 107/200\n",
      "50000/50000 [==============================] - 148s - loss: 0.4616 - acc: 0.8382 - val_loss: 0.4541 - val_acc: 0.8454\n",
      "Epoch 108/200\n",
      "50000/50000 [==============================] - 145s - loss: 0.4653 - acc: 0.8376 - val_loss: 0.4554 - val_acc: 0.8444\n",
      "Epoch 109/200\n",
      "50000/50000 [==============================] - 146s - loss: 0.4570 - acc: 0.8388 - val_loss: 0.4409 - val_acc: 0.8461\n",
      "Epoch 110/200\n",
      "50000/50000 [==============================] - 147s - loss: 0.4637 - acc: 0.8370 - val_loss: 0.4426 - val_acc: 0.8485\n",
      "Epoch 111/200\n",
      "50000/50000 [==============================] - 148s - loss: 0.4562 - acc: 0.8407 - val_loss: 0.4518 - val_acc: 0.8426\n",
      "Epoch 112/200\n",
      "50000/50000 [==============================] - 149s - loss: 0.4580 - acc: 0.8391 - val_loss: 0.4437 - val_acc: 0.8465\n",
      "Epoch 113/200\n",
      "50000/50000 [==============================] - 148s - loss: 0.4566 - acc: 0.8405 - val_loss: 0.4427 - val_acc: 0.8479\n",
      "Epoch 114/200\n",
      "50000/50000 [==============================] - 148s - loss: 0.4545 - acc: 0.8404 - val_loss: 0.4346 - val_acc: 0.8494\n",
      "Epoch 115/200\n",
      "50000/50000 [==============================] - 149s - loss: 0.4530 - acc: 0.8401 - val_loss: 0.4418 - val_acc: 0.8498\n",
      "Epoch 116/200\n",
      "50000/50000 [==============================] - 149s - loss: 0.4517 - acc: 0.8417 - val_loss: 0.4428 - val_acc: 0.8452\n",
      "Epoch 117/200\n",
      "50000/50000 [==============================] - 148s - loss: 0.4481 - acc: 0.8410 - val_loss: 0.4424 - val_acc: 0.8495\n",
      "Epoch 118/200\n",
      "50000/50000 [==============================] - 146s - loss: 0.4501 - acc: 0.8432 - val_loss: 0.4328 - val_acc: 0.8549\n",
      "Epoch 119/200\n",
      "50000/50000 [==============================] - 147s - loss: 0.4473 - acc: 0.8433 - val_loss: 0.4310 - val_acc: 0.8551\n",
      "Epoch 120/200\n",
      "50000/50000 [==============================] - 146s - loss: 0.4461 - acc: 0.8441 - val_loss: 0.4598 - val_acc: 0.8411\n",
      "Epoch 121/200\n",
      "50000/50000 [==============================] - 148s - loss: 0.4495 - acc: 0.8449 - val_loss: 0.4423 - val_acc: 0.8465\n",
      "Epoch 122/200\n",
      "50000/50000 [==============================] - 147s - loss: 0.4412 - acc: 0.8452 - val_loss: 0.4290 - val_acc: 0.8543\n",
      "Epoch 123/200\n",
      "50000/50000 [==============================] - 148s - loss: 0.4443 - acc: 0.8425 - val_loss: 0.4259 - val_acc: 0.8535\n",
      "Epoch 124/200\n",
      "50000/50000 [==============================] - 148s - loss: 0.4378 - acc: 0.8482 - val_loss: 0.4258 - val_acc: 0.8534\n",
      "Epoch 125/200\n",
      "50000/50000 [==============================] - 151s - loss: 0.4399 - acc: 0.8453 - val_loss: 0.4254 - val_acc: 0.8557\n",
      "Epoch 126/200\n",
      "50000/50000 [==============================] - 148s - loss: 0.4405 - acc: 0.8474 - val_loss: 0.4201 - val_acc: 0.8576\n",
      "Epoch 127/200\n",
      "50000/50000 [==============================] - 145s - loss: 0.4398 - acc: 0.8452 - val_loss: 0.4456 - val_acc: 0.8447\n",
      "Epoch 128/200\n",
      "50000/50000 [==============================] - 149s - loss: 0.4343 - acc: 0.8487 - val_loss: 0.4311 - val_acc: 0.8531\n",
      "Epoch 129/200\n",
      "50000/50000 [==============================] - 149s - loss: 0.4378 - acc: 0.8456 - val_loss: 0.4480 - val_acc: 0.8446\n",
      "Epoch 130/200\n",
      "50000/50000 [==============================] - 147s - loss: 0.4329 - acc: 0.8486 - val_loss: 0.4288 - val_acc: 0.8530\n",
      "Epoch 131/200\n",
      "50000/50000 [==============================] - 149s - loss: 0.4284 - acc: 0.8514 - val_loss: 0.4582 - val_acc: 0.8431\n",
      "Epoch 132/200\n",
      "50000/50000 [==============================] - 149s - loss: 0.4351 - acc: 0.8498 - val_loss: 0.4201 - val_acc: 0.8546\n",
      "Epoch 133/200\n",
      "50000/50000 [==============================] - 148s - loss: 0.4282 - acc: 0.8507 - val_loss: 0.4407 - val_acc: 0.8497\n",
      "Epoch 134/200\n",
      "50000/50000 [==============================] - 149s - loss: 0.4273 - acc: 0.8514 - val_loss: 0.4141 - val_acc: 0.8553\n",
      "Epoch 135/200\n",
      "50000/50000 [==============================] - 149s - loss: 0.4271 - acc: 0.8497 - val_loss: 0.4270 - val_acc: 0.8549\n",
      "Epoch 136/200\n",
      "50000/50000 [==============================] - 149s - loss: 0.4200 - acc: 0.8520 - val_loss: 0.4260 - val_acc: 0.8549\n",
      "Epoch 137/200\n",
      "50000/50000 [==============================] - 147s - loss: 0.4235 - acc: 0.8516 - val_loss: 0.4190 - val_acc: 0.8565\n",
      "Epoch 138/200\n",
      "50000/50000 [==============================] - 150s - loss: 0.4256 - acc: 0.8502 - val_loss: 0.4261 - val_acc: 0.8540\n",
      "Epoch 139/200\n",
      "50000/50000 [==============================] - 149s - loss: 0.4217 - acc: 0.8502 - val_loss: 0.4129 - val_acc: 0.8614\n",
      "Epoch 140/200\n",
      "50000/50000 [==============================] - 148s - loss: 0.4221 - acc: 0.8527 - val_loss: 0.4303 - val_acc: 0.8489\n",
      "Epoch 141/200\n",
      "50000/50000 [==============================] - 147s - loss: 0.4195 - acc: 0.8508 - val_loss: 0.4246 - val_acc: 0.8552\n",
      "Epoch 142/200\n",
      "50000/50000 [==============================] - 146s - loss: 0.4172 - acc: 0.8540 - val_loss: 0.4265 - val_acc: 0.8549\n",
      "Epoch 143/200\n",
      "50000/50000 [==============================] - 147s - loss: 0.4091 - acc: 0.8566 - val_loss: 0.4292 - val_acc: 0.8545\n",
      "Epoch 144/200\n",
      "50000/50000 [==============================] - 148s - loss: 0.4120 - acc: 0.8551 - val_loss: 0.4290 - val_acc: 0.8527\n",
      "Epoch 145/200\n",
      "50000/50000 [==============================] - 148s - loss: 0.4191 - acc: 0.8531 - val_loss: 0.4246 - val_acc: 0.8544\n",
      "Epoch 146/200\n",
      "50000/50000 [==============================] - 147s - loss: 0.4130 - acc: 0.8553 - val_loss: 0.4257 - val_acc: 0.8558\n",
      "Epoch 147/200\n",
      "50000/50000 [==============================] - 150s - loss: 0.4104 - acc: 0.8559 - val_loss: 0.4248 - val_acc: 0.8533\n",
      "Epoch 148/200\n",
      "50000/50000 [==============================] - 148s - loss: 0.4153 - acc: 0.8534 - val_loss: 0.4278 - val_acc: 0.8545\n",
      "Epoch 149/200\n",
      "50000/50000 [==============================] - 149s - loss: 0.4134 - acc: 0.8552 - val_loss: 0.4131 - val_acc: 0.8583\n",
      "Epoch 150/200\n",
      "50000/50000 [==============================] - 148s - loss: 0.4149 - acc: 0.8552 - val_loss: 0.4582 - val_acc: 0.8446\n",
      "Epoch 151/200\n",
      "50000/50000 [==============================] - 147s - loss: 0.4062 - acc: 0.8574 - val_loss: 0.4205 - val_acc: 0.8555\n",
      "Epoch 152/200\n",
      "50000/50000 [==============================] - 149s - loss: 0.4104 - acc: 0.8573 - val_loss: 0.4169 - val_acc: 0.8560\n",
      "Epoch 153/200\n",
      "50000/50000 [==============================] - 147s - loss: 0.4067 - acc: 0.8574 - val_loss: 0.4205 - val_acc: 0.8563\n",
      "Epoch 154/200\n",
      "50000/50000 [==============================] - 148s - loss: 0.4019 - acc: 0.8591 - val_loss: 0.4357 - val_acc: 0.8520\n",
      "Epoch 155/200\n",
      "50000/50000 [==============================] - 151s - loss: 0.4081 - acc: 0.8583 - val_loss: 0.4084 - val_acc: 0.8595\n",
      "Epoch 156/200\n",
      "50000/50000 [==============================] - 148s - loss: 0.4056 - acc: 0.8574 - val_loss: 0.4125 - val_acc: 0.8579\n",
      "Epoch 157/200\n",
      "50000/50000 [==============================] - 149s - loss: 0.4017 - acc: 0.8587 - val_loss: 0.4158 - val_acc: 0.8597\n",
      "Epoch 158/200\n",
      "50000/50000 [==============================] - 147s - loss: 0.4035 - acc: 0.8603 - val_loss: 0.4093 - val_acc: 0.8610\n",
      "Epoch 159/200\n",
      "50000/50000 [==============================] - 148s - loss: 0.4031 - acc: 0.8567 - val_loss: 0.4123 - val_acc: 0.8588\n",
      "Epoch 160/200\n",
      "50000/50000 [==============================] - 148s - loss: 0.4023 - acc: 0.8586 - val_loss: 0.4153 - val_acc: 0.8578\n",
      "Epoch 161/200\n",
      "50000/50000 [==============================] - 147s - loss: 0.3968 - acc: 0.8604 - val_loss: 0.4113 - val_acc: 0.8617\n",
      "Epoch 162/200\n",
      "50000/50000 [==============================] - 149s - loss: 0.3996 - acc: 0.8583 - val_loss: 0.4697 - val_acc: 0.8404\n",
      "Epoch 163/200\n",
      "50000/50000 [==============================] - 150s - loss: 0.3990 - acc: 0.8585 - val_loss: 0.4133 - val_acc: 0.8595\n",
      "Epoch 164/200\n",
      "50000/50000 [==============================] - 148s - loss: 0.3954 - acc: 0.8611 - val_loss: 0.4146 - val_acc: 0.8575\n",
      "Epoch 165/200\n",
      "50000/50000 [==============================] - 151s - loss: 0.3951 - acc: 0.8607 - val_loss: 0.3970 - val_acc: 0.8660\n",
      "Epoch 166/200\n",
      "50000/50000 [==============================] - 153s - loss: 0.3953 - acc: 0.8614 - val_loss: 0.4135 - val_acc: 0.8598\n",
      "Epoch 167/200\n",
      "50000/50000 [==============================] - 150s - loss: 0.3916 - acc: 0.8632 - val_loss: 0.4031 - val_acc: 0.8621\n",
      "Epoch 168/200\n",
      "50000/50000 [==============================] - 150s - loss: 0.3931 - acc: 0.8625 - val_loss: 0.4024 - val_acc: 0.8630\n",
      "Epoch 169/200\n",
      "50000/50000 [==============================] - 151s - loss: 0.3926 - acc: 0.8621 - val_loss: 0.4253 - val_acc: 0.8566\n",
      "Epoch 170/200\n",
      "50000/50000 [==============================] - 147s - loss: 0.3921 - acc: 0.8615 - val_loss: 0.4063 - val_acc: 0.8628\n",
      "Epoch 171/200\n",
      "50000/50000 [==============================] - 148s - loss: 0.3908 - acc: 0.8636 - val_loss: 0.4062 - val_acc: 0.8610\n",
      "Epoch 172/200\n",
      "50000/50000 [==============================] - 150s - loss: 0.3928 - acc: 0.8615 - val_loss: 0.3994 - val_acc: 0.8644\n",
      "Epoch 173/200\n",
      "50000/50000 [==============================] - 149s - loss: 0.3904 - acc: 0.8626 - val_loss: 0.4037 - val_acc: 0.8646\n",
      "Epoch 174/200\n",
      "50000/50000 [==============================] - 150s - loss: 0.3867 - acc: 0.8644 - val_loss: 0.4043 - val_acc: 0.8625\n",
      "Epoch 175/200\n",
      "50000/50000 [==============================] - 149s - loss: 0.3845 - acc: 0.8653 - val_loss: 0.4071 - val_acc: 0.8618\n",
      "Epoch 176/200\n",
      "50000/50000 [==============================] - 150s - loss: 0.3859 - acc: 0.8656 - val_loss: 0.4025 - val_acc: 0.8623\n",
      "Epoch 177/200\n",
      "50000/50000 [==============================] - 145s - loss: 0.3845 - acc: 0.8654 - val_loss: 0.4061 - val_acc: 0.8621\n",
      "Epoch 178/200\n",
      "50000/50000 [==============================] - 149s - loss: 0.3862 - acc: 0.8630 - val_loss: 0.3966 - val_acc: 0.8653\n",
      "Epoch 179/200\n",
      "50000/50000 [==============================] - 149s - loss: 0.3830 - acc: 0.8644 - val_loss: 0.4117 - val_acc: 0.8588\n",
      "Epoch 180/200\n",
      "50000/50000 [==============================] - 149s - loss: 0.3801 - acc: 0.8659 - val_loss: 0.3999 - val_acc: 0.8666\n",
      "Epoch 181/200\n",
      "50000/50000 [==============================] - 150s - loss: 0.3823 - acc: 0.8653 - val_loss: 0.4310 - val_acc: 0.8547\n",
      "Epoch 182/200\n",
      "50000/50000 [==============================] - 147s - loss: 0.3823 - acc: 0.8652 - val_loss: 0.4265 - val_acc: 0.8525\n",
      "Epoch 183/200\n",
      "50000/50000 [==============================] - 149s - loss: 0.3799 - acc: 0.8655 - val_loss: 0.4435 - val_acc: 0.8494\n",
      "Epoch 184/200\n",
      "50000/50000 [==============================] - 150s - loss: 0.3778 - acc: 0.8672 - val_loss: 0.4238 - val_acc: 0.8564\n",
      "Epoch 185/200\n",
      "50000/50000 [==============================] - 147s - loss: 0.3786 - acc: 0.8667 - val_loss: 0.4046 - val_acc: 0.8634\n",
      "Epoch 186/200\n",
      "50000/50000 [==============================] - 145s - loss: 0.3809 - acc: 0.8656 - val_loss: 0.4058 - val_acc: 0.8629\n",
      "Epoch 187/200\n",
      "50000/50000 [==============================] - 150s - loss: 0.3804 - acc: 0.8675 - val_loss: 0.3979 - val_acc: 0.8624\n",
      "Epoch 188/200\n",
      "50000/50000 [==============================] - 150s - loss: 0.3785 - acc: 0.8663 - val_loss: 0.4046 - val_acc: 0.8604\n",
      "Epoch 189/200\n",
      "50000/50000 [==============================] - 151s - loss: 0.3859 - acc: 0.8627 - val_loss: 0.4021 - val_acc: 0.8637\n",
      "Epoch 190/200\n",
      "50000/50000 [==============================] - 147s - loss: 0.3777 - acc: 0.8674 - val_loss: 0.4105 - val_acc: 0.8591\n",
      "Epoch 191/200\n",
      "50000/50000 [==============================] - 147s - loss: 0.3724 - acc: 0.8682 - val_loss: 0.4183 - val_acc: 0.8571\n",
      "Epoch 192/200\n",
      "50000/50000 [==============================] - 150s - loss: 0.3763 - acc: 0.8672 - val_loss: 0.4076 - val_acc: 0.8627\n",
      "Epoch 193/200\n",
      "50000/50000 [==============================] - 148s - loss: 0.3727 - acc: 0.8678 - val_loss: 0.4021 - val_acc: 0.8634\n",
      "Epoch 194/200\n",
      "50000/50000 [==============================] - 148s - loss: 0.3739 - acc: 0.8693 - val_loss: 0.3988 - val_acc: 0.8651\n",
      "Epoch 195/200\n",
      "50000/50000 [==============================] - 148s - loss: 0.3720 - acc: 0.8686 - val_loss: 0.3985 - val_acc: 0.8653\n",
      "Epoch 196/200\n",
      "50000/50000 [==============================] - 151s - loss: 0.3744 - acc: 0.8680 - val_loss: 0.4101 - val_acc: 0.8602\n",
      "Epoch 197/200\n",
      "50000/50000 [==============================] - 149s - loss: 0.3668 - acc: 0.8695 - val_loss: 0.3978 - val_acc: 0.8650\n",
      "Epoch 198/200\n",
      "50000/50000 [==============================] - 151s - loss: 0.3705 - acc: 0.8704 - val_loss: 0.3999 - val_acc: 0.8667\n",
      "Epoch 199/200\n",
      "50000/50000 [==============================] - 152s - loss: 0.3687 - acc: 0.8704 - val_loss: 0.4059 - val_acc: 0.8617\n",
      "Epoch 200/200\n",
      "50000/50000 [==============================] - 158s - loss: 0.3722 - acc: 0.8689 - val_loss: 0.4029 - val_acc: 0.8639\n"
     ]
    }
   ],
   "source": [
    "nb_epoch = 200\n",
    "model3 = Sequential()\n",
    "\n",
    "model3.add(Dropout(0.2,input_shape=X_train.shape[1:]))\n",
    "model3.add(Convolution2D(32, 3, 3, border_mode = 'same'))\n",
    "model3.add(Activation('relu'))\n",
    "model3.add(Convolution2D(32,3,3))\n",
    "model3.add(Activation('relu'))\n",
    "model3.add(MaxPooling2D(pool_size=(2, 2)))\n",
    "\n",
    "model3.add(Convolution2D(64, 3, 3, border_mode = 'same'))\n",
    "model3.add(Activation('relu'))\n",
    "model3.add(MaxPooling2D(pool_size=(2, 2),border_mode = 'same'))\n",
    "\n",
    "model3.add(Convolution2D(64, 3, 3, border_mode = 'same'))\n",
    "model3.add(Activation('relu'))\n",
    "model3.add(MaxPooling2D(pool_size=(2, 2),border_mode = 'same'))\n",
    "model3.add(Dropout(0.25,input_shape=X_train.shape[1:]))\n",
    "\n",
    "\n",
    "model3.add(Flatten())\n",
    "model3.add(Dense(512))\n",
    "model3.add(Activation('relu'))\n",
    "model3.add(Dropout(0.5))\n",
    "model3.add(Dense(nb_classes))\n",
    "model3.add(Activation('softmax'))\n",
    "\n",
    "sgd = SGD(lr = 0.007, decay = 1e-6,momentum = 0.9,nesterov = True)\n",
    "model3.compile(loss='categorical_crossentropy',\n",
    "              optimizer='sgd',\n",
    "              metrics=['accuracy'])\n",
    "\n",
    "data_augmentation = True\n",
    "\n",
    "if not data_augmentation:\n",
    "    print('Not using data augmentation.')\n",
    "    model3.fit(X_train, Y_train,\n",
    "              batch_size=batch_size,\n",
    "              nb_epoch=nb_epoch,\n",
    "              validation_data=(X_test, Y_test),\n",
    "              shuffle=True)\n",
    "else:\n",
    "    print('Using real-time data augmentation.')\n",
    "\n",
    "    # this will do preprocessing and realtime data augmentation\n",
    "    datagen = ImageDataGenerator(\n",
    "        featurewise_center=False,  # set input mean to 0 over the dataset\n",
    "        samplewise_center=False,  # set each sample mean to 0\n",
    "        featurewise_std_normalization=False,  # divide inputs by std of the dataset\n",
    "        samplewise_std_normalization=False,  # divide each input by its std\n",
    "        zca_whitening=False,  # apply ZCA whitening\n",
    "        rotation_range=0,  # randomly rotate images in the range (degrees, 0 to 180)\n",
    "        width_shift_range=0.1,  # randomly shift images horizontally (fraction of total width)\n",
    "        height_shift_range=0.1,  # randomly shift images vertically (fraction of total height)\n",
    "        horizontal_flip=True,  # randomly flip images\n",
    "        vertical_flip=False)  # randomly flip images\n",
    "\n",
    "    # compute quantities required for featurewise normalization\n",
    "    # (std, mean, and principal components if ZCA whitening is applied)\n",
    "    datagen.fit(X_train)\n",
    "    print(X_train.shape)\n",
    "    # fit the model on the batches generated by datagen.flow()\n",
    "    model3.fit_generator(datagen.flow(X_train, Y_train,\n",
    "                        batch_size=batch_size),\n",
    "                        samples_per_epoch=X_train.shape[0],\n",
    "                        nb_epoch=nb_epoch,\n",
    "                        validation_data=(X_test, Y_test))\n",
    "\n"
   ]
  },
  {
   "cell_type": "code",
   "execution_count": 62,
   "metadata": {
    "collapsed": false
   },
   "outputs": [
    {
     "name": "stdout",
     "output_type": "stream",
     "text": [
      "50000/50000 [==============================] - 41s    \n",
      "First few predictions:  [6 9 9]\n",
      "Training accuracy: 0.92994\n",
      "10000/10000 [==============================] - 8s     \n",
      "Test accuracy: 0.8639\n"
     ]
    }
   ],
   "source": [
    "y_train_pred = model3.predict_classes(X_train, verbose=True)\n",
    "print('First few predictions: ', y_train_pred[:3])\n",
    "#print(y_train,y_train_pred)\n",
    "\n",
    "train_acc = accuracy_score(y_train, y_train_pred)\n",
    "print('Training accuracy:', train_acc)\n",
    "\n",
    "y_test_pred = model3.predict_classes(X_test, verbose=True)\n",
    "test_acc = accuracy_score(y_test, y_test_pred)\n",
    "print('Test accuracy:', test_acc)\n",
    "\n"
   ]
  },
  {
   "cell_type": "markdown",
   "metadata": {
    "slideshow": {
     "slide_type": "fragment"
    }
   },
   "source": [
    "## Your description\n",
    "with the following main parts:\n",
    "\n",
    "<dl>\n",
    "\n",
    "<dt>Introduction</dt>\n",
    "<dd>\n",
    "At a high-level, what are the approaches you considered and why?\n",
    "</dd>\n",
    "\n",
    "<dt>Method</dt>\n",
    "<dd>\n",
    "Describe your entire pipeline, such as data-preprocessing, model selection, and hyper-parameter optpimization.\n",
    "</dd>\n",
    "\n",
    "<dt>Results</dt>\n",
    "<dd>\n",
    "Describe the experimental process you took to arrive at the solution.\n",
    "For example:\n",
    "(1) compare your approach against other approach(es) you have tried, as\n",
    "well as the MLP baseline classifer.\n",
    "(2) compare against different settings of model parameters, e.g. regularization type/strength, number of hidden units or structure of a neural network, types of kernel in a SVM, etc. \n",
    "\n",
    "<dt>Conclusion</dt>\n",
    "<dd>\n",
    "Summarize what you have learned from the experiments and discuss the limitations and potential future improvements of your current method.\n",
    "</dd>\n",
    "\n",
    "<dt>References</dt>\n",
    "<dd>\n",
    "Cite any publically available code, blog posts, research papers, etc. you used or got ideas from.\n",
    "</dl>"
   ]
  },
  {
   "cell_type": "markdown",
   "metadata": {
    "collapsed": true
   },
   "source": [
    "#### Introduction:\n",
    "At first, I choose to construct a neural network using sequential method in keras that is, a linear\n",
    "\n",
    "stack of layers to achieve tiny image classification. The reason is that the images have comparatively\n",
    "\n",
    "large amount of features, pixels. A simple classific classification algorithm or simple ensemble \n",
    "\n",
    "algorithm. e.g. SVM, Logistic regression may not be competent to achieve a high accuracy or at least, \n",
    "\n",
    "very inefficient to tune their hyper-parameters.\n",
    "\n",
    "Hence, We choose to use neural network, which is convenient to use(lots of implemented libraries, \n",
    "\n",
    "APIs in keras) and also can achieve higher accuracy scores.  \n"
   ]
  },
  {
   "cell_type": "markdown",
   "metadata": {},
   "source": [
    "#### Method:\n",
    "We construct a 15-layer neural network with maximum width 64 nodes at first to train, which is \n",
    "\n",
    "inspired by an online tutorial and I have run it for several hours to get the initial result, which \n",
    "\n",
    "can achieve around 70 % accuracy for both training and testing. We want to find the potential reason \n",
    "\n",
    "for low score and improve the neural network by adding or deleting layers or nodes. Besides, we can \n",
    "\n",
    "adjust the density of it.   \n"
   ]
  },
  {
   "cell_type": "markdown",
   "metadata": {},
   "source": [
    "#### Result:\n",
    "The comparisons of hyper-parameters: hidden layers, hyper parameters are listed during the \n",
    "\n",
    "experiment process. "
   ]
  },
  {
   "cell_type": "markdown",
   "metadata": {},
   "source": [
    "#### Conclusion:\n",
    "\n",
    "Through this experiment, I have learnt how to construct a tiny-image neural network from base to top \n",
    "\n",
    "and improve the accuracy rate from 70% both training and testing to around 93% training accuracy and \n",
    "\n",
    "87% testing accuracy. During the experiment, we have faced less fitting, overtting and finally find \n",
    "\n",
    "out ways (e.g. add convolution layers ,dense layer or add some dropout layers) to solve the \n",
    "\n",
    "corresponding problem. Neural network is extremply powerful but it's also very difficult to tune \n",
    "\n",
    "layers or other parameters. The limitation of this method is that you have to figure out the potential \n",
    "\n",
    "reason to cause the problem, which needs many experiences. The future improvement may happen in \n",
    "\n",
    "more advanced activation function and more advanced neural network model such as \n",
    "\n",
    "pulsed neural network. Besides due to the limitation of hardware, the training \n",
    "\n",
    "time is very long. Maybe specilized hardware could also be a potential future improvement for this\n",
    "\n",
    "method to reduce training time."
   ]
  },
  {
   "cell_type": "markdown",
   "metadata": {},
   "source": [
    "#### Reference:\n",
    "\n",
    "1. Francois Chollet.(2016 June).\"Building powerful image classification models using very little data\" .Link :https://blog.keras.io/building-powerful-image-classification-models-using-very-little-data.html\n"
   ]
  }
 ],
 "metadata": {
  "anaconda-cloud": {},
  "celltoolbar": "Slideshow",
  "kernelspec": {
   "display_name": "Python [conda root]",
   "language": "python",
   "name": "conda-root-py"
  },
  "language_info": {
   "codemirror_mode": {
    "name": "ipython",
    "version": 3
   },
   "file_extension": ".py",
   "mimetype": "text/x-python",
   "name": "python",
   "nbconvert_exporter": "python",
   "pygments_lexer": "ipython3",
   "version": "3.5.2"
  },
  "name": "_merged"
 },
 "nbformat": 4,
 "nbformat_minor": 0
}
