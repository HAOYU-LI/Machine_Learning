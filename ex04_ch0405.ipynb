{
 "cells": [
  {
   "cell_type": "markdown",
   "metadata": {},
   "source": [
    "# Assignment 4 - dimensionality reduction\n",
    "\n",
    "This assignment focuses on two different ways for dimensionality reduction:\n",
    "* feature selection\n",
    "* feature extraction\n",
    "\n",
    "This assignment has weighting $1.5$."
   ]
  },
  {
   "cell_type": "markdown",
   "metadata": {
    "slideshow": {
     "slide_type": "slide"
    }
   },
   "source": [
    "# Sequential feature selection (50 points)\n",
    "\n",
    "There is a sample code in PML chapter 4 for sequential bardward selection (SBS) and its application to subsequent KNN classifier.\n",
    "\n",
    "Implement sequential forward selection (SFS), and compare it with sequential backward selection by plotting the accuracy versus the number of features.\n",
    "\n",
    "You can start with the sample code provided in the [slides](http://nbviewer.jupyter.org/github/1iyiwei/pyml/blob/master/code/ch04/ch04.ipynb).\n",
    "You can extend the existing SBS class to handle both forward and backward selection, or implement a separate class for SFS.\n",
    "Plot and compare the two accuracy versus number-of-features plots for SFS and SBS.\n",
    "\n",
    "Use the wine dataset as follows."
   ]
  },
  {
   "cell_type": "code",
   "execution_count": 207,
   "metadata": {
    "collapsed": false,
    "scrolled": true,
    "slideshow": {
     "slide_type": "fragment"
    }
   },
   "outputs": [],
   "source": [
    "import pandas as pd\n",
    "\n",
    "wine_data_remote = 'https://archive.ics.uci.edu/ml/machine-learning-databases/wine/wine.data'\n",
    "wine_data_local = '../datasets/wine/wine.data'\n",
    "\n",
    "df_wine = pd.read_csv(wine_data_remote,\n",
    "                      header=None)\n",
    "\n",
    "df_wine.columns = ['Class label', 'Alcohol', 'Malic acid', 'Ash',\n",
    "                   'Alcalinity of ash', 'Magnesium', 'Total phenols',\n",
    "                   'Flavanoids', 'Nonflavanoid phenols', 'Proanthocyanins',\n",
    "                   'Color intensity', 'Hue', 'OD280/OD315 of diluted wines',\n",
    "                   'Proline']\n",
    "\n",
    "#print('Class labels', np.unique(df_wine['Class label']))\n",
    "#df_wine.head()"
   ]
  },
  {
   "cell_type": "code",
   "execution_count": 208,
   "metadata": {
    "collapsed": false,
    "slideshow": {
     "slide_type": "fragment"
    }
   },
   "outputs": [],
   "source": [
    "from sklearn import __version__ as skv\n",
    "from distutils.version import LooseVersion as CheckVersion\n",
    "if CheckVersion(skv) < '0.18':\n",
    "    from sklearn.cross_validation import train_test_split\n",
    "else:\n",
    "    from sklearn.model_selection import train_test_split\n",
    "\n",
    "X, y = df_wine.iloc[:, 1:].values, df_wine.iloc[:, 0].values\n",
    "\n",
    "#X_train, X_test, y_train, y_test = \\\n",
    "#    train_test_split(X, y, test_size=0.3, random_state=0)"
   ]
  },
  {
   "cell_type": "code",
   "execution_count": 197,
   "metadata": {
    "collapsed": true,
    "slideshow": {
     "slide_type": "fragment"
    }
   },
   "outputs": [],
   "source": [
    "from sklearn.preprocessing import StandardScaler\n",
    "\n",
    "stdsc = StandardScaler()\n",
    "X_train_std = stdsc.fit_transform(X_train)\n",
    "X_test_std = stdsc.transform(X_test)"
   ]
  },
  {
   "cell_type": "markdown",
   "metadata": {
    "slideshow": {
     "slide_type": "subslide"
    }
   },
   "source": [
    "## Answer"
   ]
  },
  {
   "cell_type": "markdown",
   "metadata": {
    "slideshow": {
     "slide_type": "fragment"
    }
   },
   "source": [
    "Implement your sequential backward selection class here, either as a separate class or by extending the SBS class that can handle both forward and backward selection (via an input parameter to indicate the direction)."
   ]
  },
  {
   "cell_type": "markdown",
   "metadata": {
    "slideshow": {
     "slide_type": "fragment"
    }
   },
   "source": [
    "Apply your sequential forward/backward selection code to the KNN classifier with the wine data set, and plot the accuracy versus number-of-features curves for both.\n",
    "Describe the similarities and differences you can find, e.g. \n",
    "* do the two methods agree on the optimal number of features?\n",
    "* do the two methods have similar accuracy scores for each number of features?\n",
    "* etc."
   ]
  },
  {
   "cell_type": "code",
   "execution_count": 218,
   "metadata": {
    "collapsed": false
   },
   "outputs": [],
   "source": [
    "from sklearn.base import clone\n",
    "from itertools import combinations\n",
    "import numpy as np\n",
    "from sklearn.metrics import accuracy_score\n",
    "if CheckVersion(skv) < '0.18':\n",
    "    from sklearn.cross_validation import train_test_split\n",
    "else:\n",
    "    from sklearn.model_selection import train_test_split\n",
    "\n",
    "\n",
    "class SBS():\n",
    "    def __init__(self, estimator, k_features, scoring=accuracy_score,\n",
    "                 test_size=0.25, random_state=1):\n",
    "        self.scoring = scoring\n",
    "        self.estimator = clone(estimator)\n",
    "        self.k_features = k_features\n",
    "        self.test_size = test_size\n",
    "        self.random_state = random_state\n",
    "\n",
    "    def fit(self, X, y):\n",
    "        X_train, X_test, y_train, y_test = \\\n",
    "            train_test_split(X,y,test_size=self.test_size,\n",
    "                            random_state = self.random_state)\n",
    "        \n",
    "        dim = X_train.shape[1]\n",
    "        #print(\"X_train_std.shape[1]: \",X_train_std.shape[1])\n",
    "        self.indices_ = tuple(range(dim))\n",
    "        #print(\"self.indices_: \",self.indices_)\n",
    "        self.subsets_ = [self.indices_]\n",
    "        score = self._calc_score( X_train, y_train, \n",
    "                                 X_test, y_test, self.indices_)\n",
    "        self.scores_ = [score]\n",
    "\n",
    "        while dim > self.k_features:\n",
    "            scores = []\n",
    "            subsets = []\n",
    "\n",
    "            for p in combinations(self.indices_, r=dim - 1):\n",
    "                score = self._calc_score( X_train, y_train, \n",
    "                                         X_test, y_test, p)\n",
    "                scores.append(score)\n",
    "                subsets.append(p)\n",
    "                #print(\"####self.subsets_[len(self.subsets_)-1] and p are: \")\n",
    "                #print(self.subsets_[len(self.subsets_)-1], p)\n",
    "            ####\n",
    "            #print(\"subsets are: \",subsets)\n",
    "            ####\n",
    "            best = np.argmax(scores)\n",
    "            \n",
    "            #print(\"####best subset : \",subsets[best])\n",
    "            \n",
    "            self.indices_ = subsets[best]\n",
    "            self.subsets_.append(subsets[best])\n",
    "            ####\n",
    "            #print(\"self.subsets_ are: \",self.subsets_)\n",
    "            ####\n",
    "            dim -= 1\n",
    "\n",
    "            self.scores_.append(scores[best])\n",
    "        self.k_score_ = self.scores_[-1]\n",
    "\n",
    "        return self\n",
    "\n",
    "    def transform(self, X):\n",
    "        return X[:, self.indices_]\n",
    "\n",
    "    def _calc_score(self, X_train, y_train, X_test, y_test, indices):\n",
    "        self.estimator.fit(X_train[:, indices], y_train)\n",
    "        y_pred = self.estimator.predict(X_test[:, indices])\n",
    "        score = self.scoring(y_test, y_pred)\n",
    "        return score\n",
    "    "
   ]
  },
  {
   "cell_type": "code",
   "execution_count": 219,
   "metadata": {
    "collapsed": false
   },
   "outputs": [],
   "source": [
    "class SFS():\n",
    "    def __init__(self , estimator, k_features, scoring = accuracy_score, \n",
    "                    test_size = 0.25, random_state = 1):\n",
    "        self.estimator = estimator\n",
    "        self.k_features = k_features\n",
    "        self.scoring = scoring\n",
    "        self.test_size = test_size\n",
    "        self.random_state = random_state\n",
    "        \n",
    "    def fit(self,X,y):\n",
    "        X_train, X_test, y_train, y_test = \\\n",
    "            train_test_split(X,y,test_size=self.test_size,\n",
    "                            random_state = self.random_state)\n",
    "        dim =  X_train.shape[1]\n",
    "        self.indices_ = tuple(range(dim))\n",
    "        #self.subsets_ = []\n",
    "        #to calculate the scores when the indices size = 1:\n",
    "        #scores = [self._calc_score(X_train, y_train, X_test, y_test,p) for p in combinations(self.indices_,1)]\n",
    "        self.subsets_ = []\n",
    "        self.scores_ = []\n",
    "        \n",
    "        #Initialize the self.subsets[] and self.scores[];\n",
    "        scores = []\n",
    "        subsets = []\n",
    "        for p in combinations(self.indices_,1):\n",
    "            score = self._calc_score( X_train, y_train, X_test, y_test,p)\n",
    "            scores.append(score)\n",
    "            subsets.append(p)\n",
    "        best = np.argmax(scores)\n",
    "        self.scores_ = [scores[best]]\n",
    "        self.subsets_ = [subsets[best]]\n",
    "        '''The below code adds a new feature into the self.subsets_ at every for loop and \n",
    "            finally gets the optimal k-feature subsets.'''\n",
    "        indice = 2\n",
    "        while indice <= self.k_features and indice <= dim:\n",
    "            scores = []\n",
    "            subsets = []\n",
    "            for p in combinations(self.indices_, 1):\n",
    "                if p[0] not in self.subsets_[len(self.subsets_)-1]:\n",
    "                    subset = p+self.subsets_[len(self.subsets_)-1]\n",
    "                    score = self._calc_score( X_train, y_train, X_test, y_test,subset)\n",
    "                    scores.append(score)\n",
    "                    subsets.append(subset)\n",
    "                    #print(\"####self.subsets_[len(self.subsets_)-1] and p are: \")\n",
    "                    #print(self.subsets_[len(self.subsets_)-1], p)\n",
    "            indice+=1\n",
    "            best = np.argmax(scores)\n",
    "            #print(\"####best subset : \",subsets[best])\n",
    "            self.scores_.append(scores[best])\n",
    "            self.subsets_.append(subsets[best])\n",
    "        self.k_score_ = self.scores_[-1]\n",
    "        \n",
    "        return self\n",
    "    \n",
    "    def transform(self, X):\n",
    "        return X[:, self.indices_]\n",
    "\n",
    "    def _calc_score(self, X_train, y_train, X_test, y_test, indices):\n",
    "        self.estimator.fit(X_train[:, indices], y_train)\n",
    "        y_pred = self.estimator.predict(X_test[:, indices])\n",
    "        score = self.scoring(y_test, y_pred)\n",
    "        return score\n",
    "    \n",
    "    "
   ]
  },
  {
   "cell_type": "code",
   "execution_count": 229,
   "metadata": {
    "collapsed": false
   },
   "outputs": [
    {
     "data": {
      "image/png": "[encoded data removed]",
      "text/plain": [
       "<matplotlib.figure.Figure at 0x11d271240>"
      ]
     },
     "metadata": {},
     "output_type": "display_data"
    }
   ],
   "source": [
    "import matplotlib.pyplot as plt\n",
    "from sklearn.neighbors import KNeighborsClassifier\n",
    "\n",
    "knn = KNeighborsClassifier(n_neighbors=2)\n",
    "\n",
    "#SBS graph:\n",
    "\n",
    "# selecting features\n",
    "sbs = SBS(knn, k_features=1)\n",
    "sbs.fit(X_train_std, y_train)\n",
    "##test accuracy:\n",
    "test_scores = []\n",
    "for k in range(0,13):\n",
    "    selectedf = list(sbs.subsets_[k])\n",
    "    knn.fit(X_train_std[:,selectedf],y_train)\n",
    "    test_scores.append(knn.score(X_test_std[:,selectedf],y_test))\n",
    "##\n",
    "# plotting performance of feature subsets\n",
    "k_feat = [len(k) for k in sbs.subsets_]\n",
    "\n",
    "##red line is test accuracy while blue line is training accuracy:\n",
    "plt.plot(k_feat, test_scores,color = 'red',marker = '^')\n",
    "plt.plot(k_feat, sbs.scores_, marker='o')\n",
    "plt.ylim([0.7, 1.1])\n",
    "plt.ylabel('Accuracy')\n",
    "plt.xlabel('Number of features')\n",
    "plt.grid()\n",
    "plt.tight_layout()\n",
    "# plt.savefig('./sbs.png', dpi=300)\n",
    "plt.show()"
   ]
  },
  {
   "cell_type": "markdown",
   "metadata": {},
   "source": [
    "$\\large red\\ line\\ is\\ test\\ accuracy,\\ blue\\ one\\ is\\ training\\ accuracy.$"
   ]
  },
  {
   "cell_type": "code",
   "execution_count": 247,
   "metadata": {
    "collapsed": false
   },
   "outputs": [
    {
     "data": {
      "image/png": "[encoded data removed]",
      "text/plain": [
       "<matplotlib.figure.Figure at 0x11d6b83c8>"
      ]
     },
     "metadata": {},
     "output_type": "display_data"
    }
   ],
   "source": [
    "import matplotlib.pyplot as plt\n",
    "from sklearn.neighbors import KNeighborsClassifier\n",
    "\n",
    "knn = KNeighborsClassifier(n_neighbors=2)\n",
    "\n",
    "#SFS graph:\n",
    "\n",
    "# selecting features\n",
    "sfs = SFS(knn, k_features=13)\n",
    "sfs.fit(X_train_std, y_train)\n",
    "##test accuracy:\n",
    "test_scores = []\n",
    "for k in range(0,13):\n",
    "    selectedf = list(sfs.subsets_[k])\n",
    "    knn.fit(X_train_std[:,selectedf],y_train)\n",
    "    test_scores.append(knn.score(X_test_std[:,selectedf],y_test))\n",
    "\n",
    "# plotting performance of feature subsets\n",
    "k_feat = [len(k) for k in sfs.subsets_]\n",
    "\n",
    "##red line is test accuracy while blue line is training accuracy:\n",
    "plt.plot(k_feat, test_scores, color = 'red', marker='^')\n",
    "plt.plot(k_feat, sfs.scores_, marker='o')\n",
    "plt.ylim([0.7, 1.1])\n",
    "plt.ylabel('Accuracy')\n",
    "plt.xlabel('Number of features')\n",
    "plt.grid()\n",
    "plt.tight_layout()\n",
    "# plt.savefig('./sbs.png', dpi=300)\n",
    "plt.show()"
   ]
  },
  {
   "cell_type": "markdown",
   "metadata": {},
   "source": [
    "$\\large red\\ line\\ is\\ test\\ accuracy,\\ blue\\ one\\ is\\ training\\ accuracy.$"
   ]
  },
  {
   "cell_type": "markdown",
   "metadata": {},
   "source": [
    "## Comparison graph between SFS and SBS:"
   ]
  },
  {
   "cell_type": "code",
   "execution_count": 251,
   "metadata": {
    "collapsed": false
   },
   "outputs": [
    {
     "data": {
      "image/png": "[encoded data removed]",
      "text/plain": [
       "<matplotlib.figure.Figure at 0x11b61d5f8>"
      ]
     },
     "metadata": {},
     "output_type": "display_data"
    }
   ],
   "source": [
    "import matplotlib.pyplot as plt\n",
    "from sklearn.neighbors import KNeighborsClassifier\n",
    "\n",
    "knn = KNeighborsClassifier(n_neighbors=2)\n",
    "\n",
    "k_feat = [len(k) for k in sfs.subsets_]\n",
    "sfs = SFS(knn, k_features=13)\n",
    "sfs.fit(X_train_std, y_train)\n",
    "plt.plot(k_feat, sfs.scores_,color = 'red',marker='o')\n",
    "\n",
    "k_feat = [len(k) for k in sbs.subsets_]\n",
    "knn = KNeighborsClassifier(n_neighbors=2)\n",
    "sbs = SBS(knn, k_features=1)\n",
    "sbs.fit(X_train_std, y_train)\n",
    "plt.plot(k_feat, sbs.scores_, marker='o')\n",
    "\n",
    "plt.ylim([0.7, 1.1])\n",
    "plt.ylabel('Accuracy')\n",
    "plt.xlabel('Number of features')\n",
    "plt.grid()\n",
    "plt.tight_layout()\n",
    "plt.show()"
   ]
  },
  {
   "cell_type": "markdown",
   "metadata": {},
   "source": [
    "$\\large red\\ line\\ is\\ SFS\\ training\\ accuracy,\\ blue\\ one\\ is\\ SBS\\ training\\ accuracy.$"
   ]
  },
  {
   "cell_type": "code",
   "execution_count": 254,
   "metadata": {
    "collapsed": false
   },
   "outputs": [
    {
     "data": {
      "image/png": "[encoded data removed]",
      "text/plain": [
       "<matplotlib.figure.Figure at 0x10998f9b0>"
      ]
     },
     "metadata": {},
     "output_type": "display_data"
    }
   ],
   "source": [
    "import matplotlib.pyplot as plt\n",
    "from sklearn.neighbors import KNeighborsClassifier\n",
    "\n",
    "knn = KNeighborsClassifier(n_neighbors=2)\n",
    "\n",
    "k_feat = [len(k) for k in sfs.subsets_]\n",
    "sfs = SFS(knn, k_features=13)\n",
    "sfs.fit(X_train_std, y_train)\n",
    "##test accuracy:\n",
    "test_scores = []\n",
    "for k in range(0,13):\n",
    "    selectedf = list(sfs.subsets_[k])\n",
    "    knn.fit(X_train_std[:,selectedf],y_train)\n",
    "    test_scores.append(knn.score(X_test_std[:,selectedf],y_test))\n",
    "# plotting performance of feature subsets\n",
    "k_feat = [len(k) for k in sfs.subsets_]\n",
    "plt.plot(k_feat, test_scores, color = 'blue', marker='o')\n",
    "\n",
    "\n",
    "k_feat = [len(k) for k in sbs.subsets_]\n",
    "knn = KNeighborsClassifier(n_neighbors=2)\n",
    "sbs = SBS(knn, k_features=1)\n",
    "sbs.fit(X_train_std, y_train)\n",
    "##test accuracy:\n",
    "test_scores = []\n",
    "for k in range(0,13):\n",
    "    selectedf = list(sbs.subsets_[k])\n",
    "    knn.fit(X_train_std[:,selectedf],y_train)\n",
    "    test_scores.append(knn.score(X_test_std[:,selectedf],y_test))\n",
    "# plotting performance of feature subsets\n",
    "k_feat = [len(k) for k in sbs.subsets_]\n",
    "plt.plot(k_feat, test_scores,color = 'red',marker = '^')\n",
    "\n",
    "\n",
    "plt.ylim([0.7, 1.1])\n",
    "plt.ylabel('Accuracy')\n",
    "plt.xlabel('Number of features')\n",
    "plt.grid()\n",
    "plt.tight_layout()\n",
    "plt.show()"
   ]
  },
  {
   "cell_type": "markdown",
   "metadata": {},
   "source": [
    "$\\large red\\ line\\ is\\ SFS\\ test\\ accuracy,\\ blue\\ one\\ is\\ SBS\\ test\\ accuracy.$"
   ]
  },
  {
   "cell_type": "markdown",
   "metadata": {},
   "source": [
    "## Answer"
   ]
  },
  {
   "cell_type": "markdown",
   "metadata": {},
   "source": [
    "\n",
    "$\\large Number\\ of\\ features:$\n",
    "\n",
    "The two algorithm disgrees on the number of features to optimize the \n",
    "\n",
    "training result. SBS uses 6 features to optimize the test accuracy while \n",
    "\n",
    "SFS uses 4 features to optimize it.\n",
    "\n",
    "\n",
    "$\\large Accuracy\\ score: $\n",
    "\n",
    "The two algorithm disgrees on the accuracy score as well.\n",
    "\n",
    "As shown in above three graphs, we can see that they have different \n",
    "\n",
    "performances in optimizing both training data and test data. \n"
   ]
  },
  {
   "cell_type": "code",
   "execution_count": null,
   "metadata": {
    "collapsed": true,
    "slideshow": {
     "slide_type": "fragment"
    }
   },
   "outputs": [],
   "source": [
    "%matplotlib inline"
   ]
  },
  {
   "cell_type": "markdown",
   "metadata": {
    "slideshow": {
     "slide_type": "slide"
    }
   },
   "source": [
    "# PCA versus LDA (50 points)\n",
    "\n",
    "We have learned two different methods for feature extraction, PCA (unsupervised) and LDA (supervised).\n",
    "\n",
    "Under what circumstances would PCA and LDA produce very different results? \n",
    "\n",
    "Provide one example dataset in 2D, analyze it via PCA and LDA, and plot it with the PCA and LDA components.\n",
    "\n",
    "You can use code from the scikit-learn library."
   ]
  },
  {
   "cell_type": "markdown",
   "metadata": {
    "slideshow": {
     "slide_type": "subslide"
    }
   },
   "source": [
    "## Answer"
   ]
  },
  {
   "cell_type": "markdown",
   "metadata": {},
   "source": [
    "As far as we know, both PCA and LDA aims to compress the number of features in order to \n",
    "\n",
    "improve our computational efficiency and reduce the degree of overfitting.\n",
    "\n",
    "For PCA, it's an unsupervised algorithm and seems to work better when the class label has \n",
    "\n",
    "little relationship with classification result, which means that the reduced dimensions \n",
    "\n",
    "maximizing the covariance between different features are consistent with the reduced \n",
    "\n",
    "dimensions that minimizing variance among samples with same feature and maximizing variance of \n",
    "\n",
    "samples with different features.\n",
    "\n",
    "For LDA, it's a supervised algorithm and the assumptions made for this algorithm are that \n",
    "    \n",
    "all features are independent and data is normally distributed. Besides, we assume the classes\n",
    "\n",
    "have identical covariance matrix.\n"
   ]
  },
  {
   "cell_type": "markdown",
   "metadata": {},
   "source": [
    "## Logic for choosing example dataset:\n",
    "\n",
    "    We choose the number of features to be 2 and the number of classes of the dataset is 3.\n",
    "\n",
    "Then since PCA doesn't use the information of class label, so it may have a bad outcome \n",
    "\n",
    "when the projected maximized covariance dimension isn't consistent with the dimension that \n",
    "\n",
    "maximizes the outer classes covariance and minimizes the inner class covariance.\n",
    "\n",
    "    If we design the class to highly correspond to one feature of above two features, the \n",
    "    \n",
    "goal is achieved.\n"
   ]
  },
  {
   "cell_type": "code",
   "execution_count": 142,
   "metadata": {
    "collapsed": false
   },
   "outputs": [],
   "source": [
    "import pandas as pd\n",
    "from io import StringIO\n",
    "import numpy as np\n",
    "from sklearn.cross_validation import train_test_split\n",
    "from sklearn.preprocessing import StandardScaler\n",
    "\n",
    "#classes highly corresponds to feature1: f1<10:class1, 10<f1<20:class2\n",
    "feature1 = [i for i in 10*np.random.random([100])]+[j for j in 10*(1+np.random.random([100]))]\n",
    "#Classes have nearly no relationship with feature2.\n",
    "feature2 = [i for i in 50*np.random.random([200])]\n",
    "#Totally three classes.\n",
    "target_Y = 100*[1]+100*[2]\n",
    "data_X = np.matrix([feature1,feature2]).getT()\n",
    "\n",
    "X_train, X_test, y_train, y_test =\\\n",
    "    train_test_split(data_X, target_Y, test_size=0.3, random_state=None)\n",
    "    \n",
    "X_train_std = stdsc.fit_transform(X_train)\n",
    "X_test_std = stdsc.transform(X_test)"
   ]
  },
  {
   "cell_type": "code",
   "execution_count": 143,
   "metadata": {
    "collapsed": false
   },
   "outputs": [],
   "source": [
    "from sklearn.decomposition import PCA\n",
    "\n",
    "pca = PCA(n_components = 2)\n",
    "X_train_pca = pca.fit_transform(X_train_std)\n",
    "pca.explained_variance_ratio_\n",
    "data_y = np.matrix([y_train]).getT()"
   ]
  },
  {
   "cell_type": "code",
   "execution_count": 144,
   "metadata": {
    "collapsed": false
   },
   "outputs": [
    {
     "data": {
      "image/png": "[encoded data removed]",
      "text/plain": [
       "<matplotlib.figure.Figure at 0x11988c4a8>"
      ]
     },
     "metadata": {},
     "output_type": "display_data"
    }
   ],
   "source": [
    "import matplotlib.pyplot as plt\n",
    "plt.bar(range(1, 3), pca.explained_variance_ratio_, alpha=0.5, align='center')\n",
    "plt.step(range(1, 3), np.cumsum(pca.explained_variance_ratio_), where='mid')\n",
    "plt.ylabel('Explained variance ratio')\n",
    "plt.xlabel('Principal components')\n",
    "plt.show()"
   ]
  },
  {
   "cell_type": "code",
   "execution_count": 145,
   "metadata": {
    "collapsed": false
   },
   "outputs": [
    {
     "data": {
      "image/png": "[encoded data removed]",
      "text/plain": [
       "<matplotlib.figure.Figure at 0x11e6474e0>"
      ]
     },
     "metadata": {},
     "output_type": "display_data"
    }
   ],
   "source": [
    "colors = ['r', 'b', 'g']\n",
    "markers = ['s', 'x', 'o']\n",
    "for l, c, m in zip(np.unique(y_train), colors, markers):\n",
    "    plt.scatter(X_train_pca[y_train == l, 0], \n",
    "                X_train_pca[y_train == l, 0],\n",
    "                c=c, label=l, marker=m)\n",
    "\n",
    "plt.xlabel('PC 1')\n",
    "plt.ylabel('PC 2')\n",
    "plt.legend(loc='lower left')\n",
    "plt.tight_layout()\n",
    "# plt.savefig('./figures/pca2.png', dpi=300)\n",
    "plt.show()\n"
   ]
  },
  {
   "cell_type": "code",
   "execution_count": 146,
   "metadata": {
    "collapsed": false
   },
   "outputs": [],
   "source": [
    "from sklearn.svm import SVC\n",
    "from sklearn.linear_model import LogisticRegression\n",
    "from sklearn.linear_model import Perceptron\n",
    "from sklearn.tree import DecisionTreeClassifier as DTC\n",
    "from sklearn.ensemble import RandomForestClassifier as RFC\n",
    "from sklearn.naive_bayes import GaussianNB as GNB\n",
    "from sklearn.neighbors import KNeighborsClassifier as KNC\n",
    "knc = KNC()\n",
    "knc.fit(X_train_pca, y_train)\n",
    "nb = GNB()\n",
    "nb.fit(X_train_pca,y_train)\n",
    "rf = RFC()\n",
    "rf.fit(X_train_pca, y_train)\n",
    "dtc = DTC()\n",
    "dtc.fit(X_train_pca,y_train)\n",
    "pcn = Perceptron(penalty = None,alpha = 0.1, eta0 = 0.5)\n",
    "pcn.fit(X_train_pca,y_train)\n",
    "lr = LogisticRegression(C = 1000.0, random_state = 0)\n",
    "lr = lr.fit(X_train_pca,np.ravel(y_train))\n",
    "svm = SVC(kernel = 'rbf', C= 1.0, random_state = 0)\n",
    "svm = svm.fit(X_train_pca, np.ravel(y_train))\n",
    "\n"
   ]
  },
  {
   "cell_type": "code",
   "execution_count": 147,
   "metadata": {
    "collapsed": false
   },
   "outputs": [
    {
     "name": "stdout",
     "output_type": "stream",
     "text": [
      "The accuracy of using PCA data reduction and SVM in this dataset is:  0.322222222222\n",
      "The accuracy of using PCA data reduction and Logistic regression in this dataset is:  0.344444444444\n",
      "The accuracy of using PCA data reduction and K Nearest neighbor in this dataset is:  0.322222222222\n",
      "The accuracy of using PCA data reduction and naive bayes in this dataset is:  0.322222222222\n",
      "The accuracy of using PCA data reduction and random forest in this dataset is:  0.333333333333\n",
      "The accuracy of using PCA data reduction and decision tree in this dataset is:  0.355555555556\n",
      "The accuracy of using PCA data reduction and perceptron in this dataset is:  0.344444444444\n"
     ]
    }
   ],
   "source": [
    "X_test_lda = lda.fit_transform(X_test_std, y_test)\n",
    "print(\"The accuracy of using PCA data reduction and SVM in this dataset is: \",accuracy_score(svm.predict(X_test_pca),y_pred))\n",
    "print(\"The accuracy of using PCA data reduction and Logistic regression in this dataset is: \",accuracy_score(lr.predict(X_test_pca),y_pred))\n",
    "print(\"The accuracy of using PCA data reduction and K Nearest neighbor in this dataset is: \",accuracy_score(knc.predict(X_test_pca),y_pred))\n",
    "print(\"The accuracy of using PCA data reduction and naive bayes in this dataset is: \",accuracy_score(nb.predict(X_test_pca),y_pred))\n",
    "print(\"The accuracy of using PCA data reduction and random forest in this dataset is: \",accuracy_score(rf.predict(X_test_pca),y_pred))\n",
    "print(\"The accuracy of using PCA data reduction and decision tree in this dataset is: \",accuracy_score(dtc.predict(X_test_pca),y_pred))\n",
    "print(\"The accuracy of using PCA data reduction and perceptron in this dataset is: \",accuracy_score(pcn.predict(X_test_pca),y_pred))"
   ]
  },
  {
   "cell_type": "code",
   "execution_count": 148,
   "metadata": {
    "collapsed": false
   },
   "outputs": [],
   "source": [
    "from sklearn.discriminant_analysis import LinearDiscriminantAnalysis as LDA\n",
    "\n",
    "lda = LDA(n_components = 1)\n",
    "X_train_lda = lda.fit_transform(X_train_std, y_train)\n"
   ]
  },
  {
   "cell_type": "code",
   "execution_count": 149,
   "metadata": {
    "collapsed": false
   },
   "outputs": [
    {
     "data": {
      "image/png": "[encoded data removed]",
      "text/plain": [
       "<matplotlib.figure.Figure at 0x11d5c4550>"
      ]
     },
     "metadata": {},
     "output_type": "display_data"
    }
   ],
   "source": [
    "#X_train_lda = X_train_std.dot(w)\n",
    "colors = ['r', 'b', 'g']\n",
    "markers = ['s', 'x', 'o']\n",
    "\n",
    "for l, c, m in zip(np.unique(y_train), colors, markers):\n",
    "    plt.scatter(X_train_lda[y_train == l, 0] * (-1),\n",
    "                X_train_lda[y_train == l, 0] * (-1),\n",
    "                c=c, label=l, marker=m)\n",
    "\n",
    "plt.xlabel('LD 1')\n",
    "plt.ylabel('LD 2')\n",
    "plt.legend(loc='lower right')\n",
    "plt.tight_layout()\n",
    "# plt.savefig('./figures/lda2.png', dpi=300)\n",
    "plt.show()"
   ]
  },
  {
   "cell_type": "code",
   "execution_count": 150,
   "metadata": {
    "collapsed": false
   },
   "outputs": [],
   "source": [
    "from sklearn.svm import SVC\n",
    "from sklearn.linear_model import LogisticRegression\n",
    "from sklearn.linear_model import Perceptron\n",
    "from sklearn.tree import DecisionTreeClassifier as DTC\n",
    "from sklearn.ensemble import RandomForestClassifier as RFC\n",
    "from sklearn.naive_bayes import GaussianNB as GNB\n",
    "from sklearn.neighbors import KNeighborsClassifier as KNC\n",
    "\n",
    "knc = KNC()\n",
    "knc.fit(X_train_pca, y_train)\n",
    "nb = GNB()\n",
    "nb.fit(X_train_pca,y_train)\n",
    "rf = RFC()\n",
    "rf.fit(X_train_pca, y_train)\n",
    "dtc = DTC()\n",
    "dtc.fit(X_train_pca,y_train)\n",
    "pcn = Perceptron(penalty = None,alpha = 0.1, eta0 = 0.5)\n",
    "pcn.fit(X_train_pca,y_train)\n",
    "lr = LogisticRegression(C = 1000.0, random_state = 0)\n",
    "lr = lr.fit(X_train_pca,np.ravel(y_train))\n",
    "svm = SVC(kernel = 'rbf', C= 1.0, random_state = 0)\n",
    "svm = svm.fit(X_train_pca, np.ravel(y_train))\n",
    "\n",
    "\n"
   ]
  },
  {
   "cell_type": "code",
   "execution_count": 151,
   "metadata": {
    "collapsed": false
   },
   "outputs": [
    {
     "name": "stdout",
     "output_type": "stream",
     "text": [
      "The accuracy of using LDA data reduction and SVM in this dataset is:  0.322222222222\n",
      "The accuracy of using LDA data reduction and Logistic regression in this dataset is:  0.344444444444\n",
      "The accuracy of using LDA data reduction and K Nearest neighbor in this dataset is:  0.322222222222\n",
      "The accuracy of using LDA data reduction and naive bayes in this dataset is:  0.322222222222\n",
      "The accuracy of using LDA data reduction and random forest in this dataset is:  0.333333333333\n",
      "The accuracy of using LDA data reduction and decision tree in this dataset is:  0.355555555556\n",
      "The accuracy of using LDA data reduction and perceptron in this dataset is:  0.344444444444\n"
     ]
    }
   ],
   "source": [
    "X_test_lda = lda.fit_transform(X_test_std, y_test)\n",
    "print(\"The accuracy of using LDA data reduction and SVM in this dataset is: \",accuracy_score(svm.predict(X_test_pca),y_pred))\n",
    "print(\"The accuracy of using LDA data reduction and Logistic regression in this dataset is: \",accuracy_score(lr.predict(X_test_pca),y_pred))\n",
    "print(\"The accuracy of using LDA data reduction and K Nearest neighbor in this dataset is: \",accuracy_score(knc.predict(X_test_pca),y_pred))\n",
    "print(\"The accuracy of using LDA data reduction and naive bayes in this dataset is: \",accuracy_score(nb.predict(X_test_pca),y_pred))\n",
    "print(\"The accuracy of using LDA data reduction and random forest in this dataset is: \",accuracy_score(rf.predict(X_test_pca),y_pred))\n",
    "print(\"The accuracy of using LDA data reduction and decision tree in this dataset is: \",accuracy_score(dtc.predict(X_test_pca),y_pred))\n",
    "print(\"The accuracy of using LDA data reduction and perceptron in this dataset is: \",accuracy_score(pcn.predict(X_test_pca),y_pred))"
   ]
  },
  {
   "cell_type": "markdown",
   "metadata": {},
   "source": [
    "### Observation:\n",
    "After we run the principle component analysis and linear discriminant analysis on the above data, we find , as we \n",
    "\n",
    "expected, that the data is manipulated well by LDA but not PCA. However, if we apply the dataset to different \n",
    "\n",
    "classifiers, there is nearly no difference in the result. "
   ]
  },
  {
   "cell_type": "code",
   "execution_count": 21,
   "metadata": {
    "collapsed": true,
    "slideshow": {
     "slide_type": "skip"
    }
   },
   "outputs": [],
   "source": [
    "%matplotlib inline"
   ]
  },
  {
   "cell_type": "markdown",
   "metadata": {
    "slideshow": {
     "slide_type": "fragment"
    }
   },
   "source": [
    "Write code to produce your own dataset in 2D.\n",
    "You are free to design relative characteristics like the number of class, the number of samples for each class, as long as your dataset could be analyzed via PCA and LDA."
   ]
  },
  {
   "cell_type": "markdown",
   "metadata": {
    "slideshow": {
     "slide_type": "fragment"
    }
   },
   "source": [
    "Plot your data set, with different classes in different marker colors and/or shapes.\n",
    "\n",
    "You can write your own plot code or use existing library plot code."
   ]
  },
  {
   "cell_type": "markdown",
   "metadata": {
    "slideshow": {
     "slide_type": "fragment"
    }
   },
   "source": [
    "Apply your dataset through PCA and LDA, and plot the projected data using the same plot code.\n",
    "Explain the differences you notice, and how you manage to construct your dataset to achieve such differences.\n",
    "\n",
    "You can use the PCA and LDA code from the scikit-learn library."
   ]
  }
 ],
 "metadata": {
  "anaconda-cloud": {},
  "kernelspec": {
   "display_name": "Python [Root]",
   "language": "python",
   "name": "Python [Root]"
  },
  "name": "_merged"
 },
 "nbformat": 4,
 "nbformat_minor": 0
}
